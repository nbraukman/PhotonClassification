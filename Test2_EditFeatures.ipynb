{
 "cells": [
  {
   "cell_type": "markdown",
   "metadata": {},
   "source": [
    "# testing without processor: edit features\n",
    "Only `TTGamma` data, distinguishing prompt photons from fake photons\n",
    "\n",
    "* `ak.flatten` instead of `ak.pad_none`\n",
    "* Remove jet & muon features\n",
    "* Remove 1 photon requirement. How to include `photon_count` feature?"
   ]
  },
  {
   "cell_type": "code",
   "execution_count": 1,
   "metadata": {},
   "outputs": [],
   "source": [
    "from coffea import hist, util\n",
    "\n",
    "#import coffea.processor as processor\n",
    "from coffea.nanoevents import NanoEventsFactory, NanoAODSchema\n",
    "import awkward as ak\n",
    "import numpy as np\n",
    "import uproot\n",
    "\n",
    "import matplotlib.pyplot as plt\n",
    "import pandas as pd\n",
    "\n",
    "import tensorflow as tf\n",
    "from tensorflow import keras\n",
    "from keras.models import Sequential\n",
    "from keras.layers import Dense\n",
    "\n",
    "from sklearn.preprocessing import StandardScaler, MinMaxScaler\n",
    "from sklearn.model_selection import train_test_split\n",
    "from sklearn.metrics import roc_curve, auc"
   ]
  },
  {
   "cell_type": "code",
   "execution_count": 2,
   "metadata": {},
   "outputs": [],
   "source": [
    "#Define files to run over\n",
    "skimDir=\"/udrive/staff/dnoonan/Skims\"\n",
    "\n",
    "fileset = {\"TTGamma\":[f\"{skimDir}/TTGamma_SingleLept_2016_skim.root\"],\n",
    "           \"TTbar\":[f\"{skimDir}/TTbarPowheg_Semilept_2016_skim_1of10.root\",\n",
    "                    f\"{skimDir}/TTbarPowheg_Semilept_2016_skim_2of10.root\"],\n",
    "          }\n",
    "\n",
    "filesetData = {\"DataMu\":[f\"{skimDir}/Data_SingleMu_b_2016_skim_1of10.root\"],\n",
    "              }"
   ]
  },
  {
   "cell_type": "code",
   "execution_count": 3,
   "metadata": {},
   "outputs": [],
   "source": [
    "np.warnings.filterwarnings('ignore')\n",
    "\n",
    "#the NanoAODSchema needs to be adjusted, to remove cross references to FSRPhotons\n",
    "class SkimmedSchema(NanoAODSchema):\n",
    "    def __init__(self, base_form):\n",
    "        base_form[\"contents\"].pop(\"Muon_fsrPhotonIdx\", None)\n",
    "        super().__init__(base_form)"
   ]
  },
  {
   "cell_type": "code",
   "execution_count": 4,
   "metadata": {},
   "outputs": [],
   "source": [
    "# events from TTGamma\n",
    "events = NanoEventsFactory.from_root(fileset[\"TTGamma\"][0],\n",
    "                                     schemaclass=SkimmedSchema,\n",
    "                                     entry_stop=10000).events()\n",
    "\n",
    "dataset = \"TTGamma\""
   ]
  },
  {
   "cell_type": "code",
   "execution_count": 5,
   "metadata": {},
   "outputs": [],
   "source": [
    "# photon cuts\n",
    "photons = events.Photon\n",
    "photonSelect= ((photons.pt>20) &\n",
    "               (abs(photons.eta) < 1.4442) &\n",
    "               (photons.isScEtaEE | photons.isScEtaEB) &\n",
    "               (photons.electronVeto) & \n",
    "               np.invert(photons.pixelSeed)\n",
    "               )\n",
    "tightPhotons = photons[photonSelect]"
   ]
  },
  {
   "cell_type": "code",
   "execution_count": 6,
   "metadata": {},
   "outputs": [],
   "source": [
    "# muon cuts\n",
    "muons = events.Muon\n",
    "muonSelectTight = ((muons.pt>30) &\n",
    "                   (abs(muons.eta)<2.4) &\n",
    "                   (muons.tightId) &\n",
    "                   (muons.pfRelIso04_all < 0.15)\n",
    "                  )\n",
    "tightMuons = muons[muonSelectTight]"
   ]
  },
  {
   "cell_type": "code",
   "execution_count": 7,
   "metadata": {},
   "outputs": [],
   "source": [
    "# jet & b-tagged jet cuts\n",
    "jets = events.Jet\n",
    "\n",
    "jetSelectTight = ((jets.pt>30) &\n",
    "                  (abs(jets.eta)<2.4) &\n",
    "                  (jets.isTight)\n",
    "                 )\n",
    "btaggedJetSelect = (jetSelectTight &\n",
    "                   (jets.btagDeepB>0.6321)\n",
    "                  )\n",
    "\n",
    "tightJets = jets[jetSelectTight]\n",
    "tightBJets = jets[btaggedJetSelect]"
   ]
  },
  {
   "cell_type": "code",
   "execution_count": 8,
   "metadata": {},
   "outputs": [],
   "source": [
    "# electron cuts\n",
    "electrons = events.Electron\n",
    "electronSelectTight = ((electrons.pt> 35) &\n",
    "                       (abs(electrons.eta)<2.1) &\n",
    "                       (electrons.cutBased>=4)\n",
    "                      )\n",
    "tightEle = electrons[electronSelectTight]"
   ]
  },
  {
   "cell_type": "code",
   "execution_count": null,
   "metadata": {},
   "outputs": [],
   "source": []
  },
  {
   "cell_type": "code",
   "execution_count": 9,
   "metadata": {},
   "outputs": [],
   "source": [
    "## delta R using nearest\n",
    "phoMu, phoMuDR   = tightPhotons.nearest(tightMuons,return_metric=True)\n",
    "phoJet, phoJetDR = tightPhotons.nearest(tightJets,return_metric=True)"
   ]
  },
  {
   "cell_type": "code",
   "execution_count": 10,
   "metadata": {},
   "outputs": [
    {
     "name": "stdout",
     "output_type": "stream",
     "text": [
      "Pho: [[Photon], [], [], [Photon], [], ... [Photon], [Photon], [Photon], [Photon]]\n",
      "Mu:  [[Muon], [], [], [Muon], [], [], [], ... [Muon], [], [Muon], [], [Muon], []]\n",
      "DR:  [[1.87], [], [], [2.99], [], [None, None, ... [None], [4.26], [None], [2.6], [None]]\n"
     ]
    }
   ],
   "source": [
    "print('Pho:',tightPhotons)\n",
    "print('Mu: ',tightMuons)\n",
    "print('DR: ',phoMuDR)\n",
    "\n",
    "# [] == no photon\n",
    "# [None] == photon but no muon; will be removed by the event selection (ak.num(tightMuons)==1)"
   ]
  },
  {
   "cell_type": "code",
   "execution_count": null,
   "metadata": {},
   "outputs": [],
   "source": []
  },
  {
   "cell_type": "code",
   "execution_count": 11,
   "metadata": {},
   "outputs": [],
   "source": [
    "# event cuts\n",
    "trigger = events.HLT.IsoMu24 | events.HLT.IsoTkMu24\n",
    "\n",
    "eventSelection = (trigger &\n",
    "                  (ak.num(tightMuons)==1) &\n",
    "                  (ak.num(tightJets)>=4) & \n",
    "                  (ak.num(tightBJets)>=1) &\n",
    "                  (ak.num(tightEle)==0) &\n",
    "                  (ak.num(tightPhotons)>=1))"
   ]
  },
  {
   "cell_type": "code",
   "execution_count": null,
   "metadata": {},
   "outputs": [],
   "source": []
  },
  {
   "cell_type": "code",
   "execution_count": null,
   "metadata": {},
   "outputs": [],
   "source": []
  },
  {
   "cell_type": "code",
   "execution_count": 12,
   "metadata": {},
   "outputs": [],
   "source": [
    "##### histograms #####"
   ]
  },
  {
   "cell_type": "code",
   "execution_count": 129,
   "metadata": {},
   "outputs": [],
   "source": [
    "dataset_axis = hist.Cat(\"dataset\",\"Dataset\")\n",
    "\n",
    "photon_pt_axis = hist.Bin(\"pt\",\"photon $p_{T}$ [GeV]\", 40, 0, 400)\n",
    "photon_eta_axis = hist.Bin(\"eta\",\"photon $\\eta$\", 50, -2.5, 2.5)\n",
    "photon_phi_axis = hist.Bin(\"phi\",\"photon $\\phi$\", 64, -3.2, 3.2)\n",
    "photon_reliso_all_axis = hist.Bin(\"reliso\",\"photon pfRelIso03_all\", 40, -0.5, 6)\n",
    "photon_reliso_chg_axis = hist.Bin(\"reliso\",\"photon pfRelIso03_chg\", 40, -0.5, 6)\n",
    "photon_sieie_axis = hist.Bin(\"sieie\",\"photon sigma I eta I eta\", 40, 0, 0.05)\n",
    "photon_r9_axis = hist.Bin(\"r9\",\"photon R9\", 40, -0.5, 1.5)\n",
    "photon_hoe_axis = hist.Bin(\"hoe\",\"photon H over E\", 40, -0.5, 1)\n",
    "photon_count_axis = hist.Bin(\"count\",\"Photon number\",12,-1,10)\n",
    "\n",
    "deltar_axis = hist.Bin(\"deltar\",\"$\\Delta R$\", 50, -0.5, 4)\n",
    "\n",
    "mvaid_axis = hist.Bin(\"mvaid\", \"MVA ID\", 50, -1, 1)\n",
    "\n",
    "photon_genPartFlav_axis = hist.Bin(\"flav\",\"genPartFlav\",40,-1,15)"
   ]
  },
  {
   "cell_type": "code",
   "execution_count": 130,
   "metadata": {},
   "outputs": [],
   "source": [
    "photon_pt_hist = hist.Hist(\"Counts\", dataset_axis, photon_pt_axis)\n",
    "photon_eta_hist = hist.Hist(\"Counts\", dataset_axis, photon_eta_axis)\n",
    "photon_phi_hist = hist.Hist(\"Counts\", dataset_axis, photon_phi_axis)\n",
    "photon_reliso_all_hist = hist.Hist(\"Counts\", dataset_axis, photon_reliso_all_axis)\n",
    "photon_reliso_chg_hist = hist.Hist(\"Counts\", dataset_axis, photon_reliso_chg_axis)\n",
    "photon_sieie_hist = hist.Hist(\"Counts\", dataset_axis, photon_sieie_axis)\n",
    "photon_r9_hist = hist.Hist(\"Counts\", dataset_axis, photon_r9_axis)\n",
    "photon_hoe_hist = hist.Hist(\"Counts\", dataset_axis, photon_hoe_axis)\n",
    "photon_count_hist = hist.Hist(\"Counts\", dataset_axis, photon_count_axis)\n",
    "\n",
    "deltaR_photon_lepton_hist = hist.Hist(\"Counts\", dataset_axis, deltar_axis)\n",
    "deltaR_photon_jet_hist = hist.Hist(\"Counts\", dataset_axis, deltar_axis)\n",
    "\n",
    "photon_mvaid_hist = hist.Hist(\"Counts\", dataset_axis, mvaid_axis)\n",
    "\n",
    "photon_genPartFlav_hist = hist.Hist(\"Counts\", dataset_axis, photon_genPartFlav_axis)"
   ]
  },
  {
   "cell_type": "code",
   "execution_count": 131,
   "metadata": {},
   "outputs": [],
   "source": [
    "photon_pt_hist.fill(dataset=dataset,\n",
    "                    pt=ak.flatten(tightPhotons[eventSelection].pt))\n",
    "photon_eta_hist.fill(dataset=dataset,\n",
    "                     eta=ak.flatten(tightPhotons[eventSelection].eta))\n",
    "photon_phi_hist.fill(dataset=dataset,\n",
    "                     phi=ak.flatten(tightPhotons[eventSelection].phi))\n",
    "photon_reliso_all_hist.fill(dataset=dataset,\n",
    "                            reliso=ak.flatten(tightPhotons[eventSelection].pfRelIso03_all))\n",
    "photon_reliso_chg_hist.fill(dataset=dataset,\n",
    "                            reliso=ak.flatten(tightPhotons[eventSelection].pfRelIso03_chg))\n",
    "photon_sieie_hist.fill(dataset=dataset,\n",
    "                       sieie=ak.flatten(tightPhotons[eventSelection].sieie))\n",
    "photon_r9_hist.fill(dataset=dataset,\n",
    "                    r9=ak.flatten(tightPhotons[eventSelection].r9))\n",
    "photon_hoe_hist.fill(dataset=dataset,\n",
    "                     hoe=ak.flatten(tightPhotons[eventSelection].hoe))\n",
    "photon_count_hist.fill(dataset=dataset,\n",
    "                       count=(ak.num(tightPhotons[eventSelection])))\n",
    "\n",
    "deltaR_photon_lepton_hist.fill(dataset=dataset,\n",
    "                               deltar=ak.flatten(phoMuDR[eventSelection]))\n",
    "deltaR_photon_jet_hist.fill(dataset=dataset,\n",
    "                            deltar=ak.flatten(phoJetDR[eventSelection]))\n",
    "\n",
    "photon_mvaid_hist.fill(dataset=dataset,\n",
    "                      mvaid=ak.flatten(tightPhotons[eventSelection].mvaID))\n",
    "\n",
    "photon_genPartFlav_hist.fill(dataset=dataset,\n",
    "                             flav=ak.flatten(tightPhotons[eventSelection].genPartFlav))"
   ]
  },
  {
   "cell_type": "code",
   "execution_count": 132,
   "metadata": {},
   "outputs": [
    {
     "data": {
      "image/png": "[encoded data removed]",
      "text/plain": [
       "<Figure size 432x288 with 1 Axes>"
      ]
     },
     "metadata": {
      "needs_background": "light"
     },
     "output_type": "display_data"
    }
   ],
   "source": [
    "hist.plot1d(photon_pt_hist,overlay='dataset',stack=False,density=True)\n",
    "plt.show()"
   ]
  },
  {
   "cell_type": "code",
   "execution_count": 133,
   "metadata": {},
   "outputs": [
    {
     "data": {
      "image/png": "[encoded data removed]",
      "text/plain": [
       "<Figure size 432x288 with 1 Axes>"
      ]
     },
     "metadata": {
      "needs_background": "light"
     },
     "output_type": "display_data"
    }
   ],
   "source": [
    "hist.plot1d(deltaR_photon_lepton_hist,overlay='dataset',stack=False,density=True)\n",
    "plt.show()"
   ]
  },
  {
   "cell_type": "code",
   "execution_count": 134,
   "metadata": {},
   "outputs": [
    {
     "data": {
      "image/png": "[encoded data removed]",
      "text/plain": [
       "<Figure size 432x288 with 1 Axes>"
      ]
     },
     "metadata": {
      "needs_background": "light"
     },
     "output_type": "display_data"
    }
   ],
   "source": [
    "hist.plot1d(deltaR_photon_jet_hist,overlay='dataset',stack=False,density=True)\n",
    "plt.show()"
   ]
  },
  {
   "cell_type": "code",
   "execution_count": 135,
   "metadata": {},
   "outputs": [
    {
     "data": {
      "image/png": "[encoded data removed]",
      "text/plain": [
       "<Figure size 432x288 with 1 Axes>"
      ]
     },
     "metadata": {
      "needs_background": "light"
     },
     "output_type": "display_data"
    }
   ],
   "source": [
    "hist.plot1d(photon_genPartFlav_hist,overlay='dataset',stack=False,density=True)\n",
    "plt.show()"
   ]
  },
  {
   "cell_type": "code",
   "execution_count": 161,
   "metadata": {},
   "outputs": [
    {
     "data": {
      "image/png": "[encoded data removed]",
      "text/plain": [
       "<Figure size 432x288 with 1 Axes>"
      ]
     },
     "metadata": {
      "needs_background": "light"
     },
     "output_type": "display_data"
    }
   ],
   "source": [
    "hist.plot1d(photon_mvaid_hist,overlay='dataset',stack=False,density=True)\n",
    "plt.xlim(-1.1, 1.1)\n",
    "plt.show()\n",
    "\n",
    "# -1 is background, 1 is signal?"
   ]
  },
  {
   "cell_type": "code",
   "execution_count": null,
   "metadata": {},
   "outputs": [],
   "source": []
  },
  {
   "cell_type": "code",
   "execution_count": 137,
   "metadata": {},
   "outputs": [],
   "source": [
    "###### column accumulators #######"
   ]
  },
  {
   "cell_type": "code",
   "execution_count": 138,
   "metadata": {},
   "outputs": [],
   "source": [
    "photon_pt = ak.to_numpy(ak.flatten(tightPhotons.pt[eventSelection]))\n",
    "photon_eta = ak.to_numpy(ak.flatten(tightPhotons.eta[eventSelection]))\n",
    "photon_phi = ak.to_numpy(ak.flatten(tightPhotons.phi[eventSelection]))\n",
    "photon_pfRelIso03_all = ak.to_numpy(ak.flatten(tightPhotons.pfRelIso03_all[eventSelection]))\n",
    "photon_pfRelIso03_chg = ak.to_numpy(ak.flatten(tightPhotons.pfRelIso03_chg[eventSelection]))\n",
    "photon_sieie = ak.to_numpy(ak.flatten(tightPhotons.sieie[eventSelection]))\n",
    "photon_r9 = ak.to_numpy(ak.flatten(tightPhotons.r9[eventSelection]))\n",
    "photon_hoe = ak.to_numpy(ak.flatten(tightPhotons.hoe[eventSelection]))\n",
    "\n",
    "dim = ak.to_numpy(ak.num(tightPhotons[eventSelection]))\n",
    "photon_count = ak.to_numpy(ak.num(tightPhotons[eventSelection]))\n",
    "\n",
    "deltaR_photon_lepton = ak.to_numpy(ak.flatten(phoMuDR[eventSelection]))\n",
    "deltaR_photon_jet = ak.to_numpy(ak.flatten(phoJetDR[eventSelection]))\n",
    "\n",
    "photon_mvaid = ak.to_numpy(ak.flatten(tightPhotons.mvaID[eventSelection]))\n",
    "\n",
    "photon_genPartFlav = ak.to_numpy(ak.flatten(tightPhotons.genPartFlav[eventSelection]))\n"
   ]
  },
  {
   "cell_type": "code",
   "execution_count": 139,
   "metadata": {},
   "outputs": [
    {
     "data": {
      "text/plain": [
       "(1568,)"
      ]
     },
     "execution_count": 139,
     "metadata": {},
     "output_type": "execute_result"
    }
   ],
   "source": [
    "photon_count.shape\n",
    "# (2931,) more than other features; includes events with 0 photons.\n",
    "\n",
    "# new event cut: not Exactly one photon, but At Least one photon\n",
    "# (1568,) less than other features; one entry per event, not one entry per photon...."
   ]
  },
  {
   "cell_type": "code",
   "execution_count": 140,
   "metadata": {},
   "outputs": [
    {
     "name": "stdout",
     "output_type": "stream",
     "text": [
      "[1 1 1 ... 1 1 1]\n",
      "(1568,)\n"
     ]
    }
   ],
   "source": [
    "dim = ak.to_numpy(ak.num(tightPhotons[eventSelection]))\n",
    "print(dim) # number photons in each event\n",
    "print(dim.shape) # number of events"
   ]
  },
  {
   "cell_type": "code",
   "execution_count": 141,
   "metadata": {},
   "outputs": [
    {
     "data": {
      "text/plain": [
       "(2055,)"
      ]
     },
     "execution_count": 141,
     "metadata": {},
     "output_type": "execute_result"
    }
   ],
   "source": [
    "ak.to_numpy(ak.flatten(tightPhotons[eventSelection])).shape # number of photons"
   ]
  },
  {
   "cell_type": "code",
   "execution_count": null,
   "metadata": {},
   "outputs": [],
   "source": []
  },
  {
   "cell_type": "code",
   "execution_count": null,
   "metadata": {},
   "outputs": [],
   "source": []
  },
  {
   "cell_type": "code",
   "execution_count": 142,
   "metadata": {},
   "outputs": [
    {
     "data": {
      "text/plain": [
       "(2055,)"
      ]
     },
     "execution_count": 142,
     "metadata": {},
     "output_type": "execute_result"
    }
   ],
   "source": [
    "photon_pt.shape"
   ]
  },
  {
   "cell_type": "code",
   "execution_count": 143,
   "metadata": {},
   "outputs": [
    {
     "data": {
      "text/plain": [
       "array([25.824781, 35.281075, 34.028465, ..., 20.967505, 41.821255,\n",
       "       26.404654], dtype=float32)"
      ]
     },
     "execution_count": 143,
     "metadata": {},
     "output_type": "execute_result"
    }
   ],
   "source": [
    "np.array(photon_pt)"
   ]
  },
  {
   "cell_type": "code",
   "execution_count": 144,
   "metadata": {},
   "outputs": [
    {
     "data": {
      "text/plain": [
       "(2055,)"
      ]
     },
     "execution_count": 144,
     "metadata": {},
     "output_type": "execute_result"
    }
   ],
   "source": [
    "np.array(photon_pt).shape"
   ]
  },
  {
   "cell_type": "code",
   "execution_count": 145,
   "metadata": {},
   "outputs": [
    {
     "data": {
      "text/plain": [
       "(2055,)"
      ]
     },
     "execution_count": 145,
     "metadata": {},
     "output_type": "execute_result"
    }
   ],
   "source": [
    "np.array(deltaR_photon_lepton).shape"
   ]
  },
  {
   "cell_type": "code",
   "execution_count": null,
   "metadata": {},
   "outputs": [],
   "source": []
  },
  {
   "cell_type": "code",
   "execution_count": null,
   "metadata": {},
   "outputs": [],
   "source": []
  },
  {
   "cell_type": "code",
   "execution_count": 146,
   "metadata": {},
   "outputs": [],
   "source": [
    "####### processing for machine learning #######"
   ]
  },
  {
   "cell_type": "code",
   "execution_count": 147,
   "metadata": {},
   "outputs": [
    {
     "data": {
      "text/html": [
       "<div>\n",
       "<style scoped>\n",
       "    .dataframe tbody tr th:only-of-type {\n",
       "        vertical-align: middle;\n",
       "    }\n",
       "\n",
       "    .dataframe tbody tr th {\n",
       "        vertical-align: top;\n",
       "    }\n",
       "\n",
       "    .dataframe thead th {\n",
       "        text-align: right;\n",
       "    }\n",
       "</style>\n",
       "<table border=\"1\" class=\"dataframe\">\n",
       "  <thead>\n",
       "    <tr style=\"text-align: right;\">\n",
       "      <th></th>\n",
       "      <th>photon_pt</th>\n",
       "      <th>photon_eta</th>\n",
       "      <th>photon_phi</th>\n",
       "      <th>photon_hoe</th>\n",
       "      <th>photon_r9</th>\n",
       "      <th>photon_sieie</th>\n",
       "      <th>photon_pfRelIso03_all</th>\n",
       "      <th>photon_pfRelIso03_chg</th>\n",
       "      <th>deltaR_photon_lepton</th>\n",
       "      <th>deltaR_photon_jet</th>\n",
       "      <th>photon_genPartFlav</th>\n",
       "    </tr>\n",
       "  </thead>\n",
       "  <tbody>\n",
       "    <tr>\n",
       "      <th>count</th>\n",
       "      <td>2055.000000</td>\n",
       "      <td>2055.000000</td>\n",
       "      <td>2055.000000</td>\n",
       "      <td>2055.000000</td>\n",
       "      <td>2055.000000</td>\n",
       "      <td>2055.000000</td>\n",
       "      <td>2055.000000</td>\n",
       "      <td>2055.000000</td>\n",
       "      <td>2055.000000</td>\n",
       "      <td>2055.000000</td>\n",
       "      <td>2055.000000</td>\n",
       "    </tr>\n",
       "    <tr>\n",
       "      <th>mean</th>\n",
       "      <td>48.474655</td>\n",
       "      <td>0.024479</td>\n",
       "      <td>0.007559</td>\n",
       "      <td>0.129705</td>\n",
       "      <td>0.782890</td>\n",
       "      <td>0.011623</td>\n",
       "      <td>0.646297</td>\n",
       "      <td>0.373496</td>\n",
       "      <td>2.177051</td>\n",
       "      <td>0.297218</td>\n",
       "      <td>0.524574</td>\n",
       "    </tr>\n",
       "    <tr>\n",
       "      <th>std</th>\n",
       "      <td>39.497158</td>\n",
       "      <td>0.760451</td>\n",
       "      <td>1.853572</td>\n",
       "      <td>0.156695</td>\n",
       "      <td>0.215450</td>\n",
       "      <td>0.003650</td>\n",
       "      <td>0.945536</td>\n",
       "      <td>0.591014</td>\n",
       "      <td>0.890150</td>\n",
       "      <td>0.467399</td>\n",
       "      <td>0.499517</td>\n",
       "    </tr>\n",
       "    <tr>\n",
       "      <th>min</th>\n",
       "      <td>20.004259</td>\n",
       "      <td>-1.442871</td>\n",
       "      <td>-3.138672</td>\n",
       "      <td>0.000000</td>\n",
       "      <td>0.129883</td>\n",
       "      <td>0.005245</td>\n",
       "      <td>0.000000</td>\n",
       "      <td>0.000000</td>\n",
       "      <td>0.183863</td>\n",
       "      <td>0.000918</td>\n",
       "      <td>0.000000</td>\n",
       "    </tr>\n",
       "    <tr>\n",
       "      <th>25%</th>\n",
       "      <td>25.424696</td>\n",
       "      <td>-0.579834</td>\n",
       "      <td>-1.627808</td>\n",
       "      <td>0.000000</td>\n",
       "      <td>0.626953</td>\n",
       "      <td>0.009075</td>\n",
       "      <td>0.025289</td>\n",
       "      <td>0.000012</td>\n",
       "      <td>1.434037</td>\n",
       "      <td>0.027178</td>\n",
       "      <td>0.000000</td>\n",
       "    </tr>\n",
       "    <tr>\n",
       "      <th>50%</th>\n",
       "      <td>35.093094</td>\n",
       "      <td>0.060707</td>\n",
       "      <td>0.030689</td>\n",
       "      <td>0.045776</td>\n",
       "      <td>0.859375</td>\n",
       "      <td>0.009697</td>\n",
       "      <td>0.320387</td>\n",
       "      <td>0.154447</td>\n",
       "      <td>2.322280</td>\n",
       "      <td>0.058377</td>\n",
       "      <td>1.000000</td>\n",
       "    </tr>\n",
       "    <tr>\n",
       "      <th>75%</th>\n",
       "      <td>54.826731</td>\n",
       "      <td>0.640015</td>\n",
       "      <td>1.621460</td>\n",
       "      <td>0.239990</td>\n",
       "      <td>0.956787</td>\n",
       "      <td>0.014214</td>\n",
       "      <td>0.927794</td>\n",
       "      <td>0.558635</td>\n",
       "      <td>2.889629</td>\n",
       "      <td>0.433081</td>\n",
       "      <td>1.000000</td>\n",
       "    </tr>\n",
       "    <tr>\n",
       "      <th>max</th>\n",
       "      <td>426.615692</td>\n",
       "      <td>1.441895</td>\n",
       "      <td>3.138672</td>\n",
       "      <td>1.390625</td>\n",
       "      <td>2.923828</td>\n",
       "      <td>0.025757</td>\n",
       "      <td>16.187374</td>\n",
       "      <td>11.755681</td>\n",
       "      <td>4.260221</td>\n",
       "      <td>3.276965</td>\n",
       "      <td>1.000000</td>\n",
       "    </tr>\n",
       "  </tbody>\n",
       "</table>\n",
       "</div>"
      ],
      "text/plain": [
       "         photon_pt   photon_eta   photon_phi   photon_hoe    photon_r9  \\\n",
       "count  2055.000000  2055.000000  2055.000000  2055.000000  2055.000000   \n",
       "mean     48.474655     0.024479     0.007559     0.129705     0.782890   \n",
       "std      39.497158     0.760451     1.853572     0.156695     0.215450   \n",
       "min      20.004259    -1.442871    -3.138672     0.000000     0.129883   \n",
       "25%      25.424696    -0.579834    -1.627808     0.000000     0.626953   \n",
       "50%      35.093094     0.060707     0.030689     0.045776     0.859375   \n",
       "75%      54.826731     0.640015     1.621460     0.239990     0.956787   \n",
       "max     426.615692     1.441895     3.138672     1.390625     2.923828   \n",
       "\n",
       "       photon_sieie  photon_pfRelIso03_all  photon_pfRelIso03_chg  \\\n",
       "count   2055.000000            2055.000000            2055.000000   \n",
       "mean       0.011623               0.646297               0.373496   \n",
       "std        0.003650               0.945536               0.591014   \n",
       "min        0.005245               0.000000               0.000000   \n",
       "25%        0.009075               0.025289               0.000012   \n",
       "50%        0.009697               0.320387               0.154447   \n",
       "75%        0.014214               0.927794               0.558635   \n",
       "max        0.025757              16.187374              11.755681   \n",
       "\n",
       "       deltaR_photon_lepton  deltaR_photon_jet  photon_genPartFlav  \n",
       "count           2055.000000        2055.000000         2055.000000  \n",
       "mean               2.177051           0.297218            0.524574  \n",
       "std                0.890150           0.467399            0.499517  \n",
       "min                0.183863           0.000918            0.000000  \n",
       "25%                1.434037           0.027178            0.000000  \n",
       "50%                2.322280           0.058377            1.000000  \n",
       "75%                2.889629           0.433081            1.000000  \n",
       "max                4.260221           3.276965            1.000000  "
      ]
     },
     "execution_count": 147,
     "metadata": {},
     "output_type": "execute_result"
    }
   ],
   "source": [
    "df = pd.DataFrame({\n",
    "    'photon_pt': np.array(photon_pt),\n",
    "    'photon_eta': np.array(photon_eta),\n",
    "    'photon_phi': np.array(photon_phi),\n",
    "    'photon_hoe': np.array(photon_hoe),\n",
    "    'photon_r9': np.array(photon_r9),\n",
    "    'photon_sieie': np.array(photon_sieie),\n",
    "    'photon_pfRelIso03_all': np.array(photon_pfRelIso03_all),\n",
    "    'photon_pfRelIso03_chg': np.array(photon_pfRelIso03_chg),\n",
    "    #'photon_count': np.array(photon_count), ### different shape than other features...\n",
    "    \n",
    "    'deltaR_photon_lepton': np.array(deltaR_photon_lepton),\n",
    "    'deltaR_photon_jet': np.array(deltaR_photon_jet),\n",
    "    \n",
    "    # don't add mvaID\n",
    "    \n",
    "    'photon_genPartFlav': np.array(photon_genPartFlav),  ## target ##\n",
    "})\n",
    "df.describe()"
   ]
  },
  {
   "cell_type": "code",
   "execution_count": 148,
   "metadata": {},
   "outputs": [
    {
     "data": {
      "text/html": [
       "<div>\n",
       "<style scoped>\n",
       "    .dataframe tbody tr th:only-of-type {\n",
       "        vertical-align: middle;\n",
       "    }\n",
       "\n",
       "    .dataframe tbody tr th {\n",
       "        vertical-align: top;\n",
       "    }\n",
       "\n",
       "    .dataframe thead th {\n",
       "        text-align: right;\n",
       "    }\n",
       "</style>\n",
       "<table border=\"1\" class=\"dataframe\">\n",
       "  <thead>\n",
       "    <tr style=\"text-align: right;\">\n",
       "      <th></th>\n",
       "      <th>photon_pt</th>\n",
       "      <th>photon_eta</th>\n",
       "      <th>photon_phi</th>\n",
       "      <th>photon_hoe</th>\n",
       "      <th>photon_r9</th>\n",
       "      <th>photon_sieie</th>\n",
       "      <th>photon_pfRelIso03_all</th>\n",
       "      <th>photon_pfRelIso03_chg</th>\n",
       "      <th>deltaR_photon_lepton</th>\n",
       "      <th>deltaR_photon_jet</th>\n",
       "      <th>photon_genPartFlav</th>\n",
       "    </tr>\n",
       "  </thead>\n",
       "  <tbody>\n",
       "    <tr>\n",
       "      <th>0</th>\n",
       "      <td>25.824781</td>\n",
       "      <td>1.385986</td>\n",
       "      <td>-2.261719</td>\n",
       "      <td>0.316406</td>\n",
       "      <td>0.351318</td>\n",
       "      <td>0.014465</td>\n",
       "      <td>0.817928</td>\n",
       "      <td>0.139733</td>\n",
       "      <td>2.986634</td>\n",
       "      <td>0.066809</td>\n",
       "      <td>0</td>\n",
       "    </tr>\n",
       "    <tr>\n",
       "      <th>1</th>\n",
       "      <td>35.281075</td>\n",
       "      <td>1.013672</td>\n",
       "      <td>-2.959961</td>\n",
       "      <td>0.024109</td>\n",
       "      <td>0.959473</td>\n",
       "      <td>0.010345</td>\n",
       "      <td>0.018126</td>\n",
       "      <td>0.000000</td>\n",
       "      <td>0.673868</td>\n",
       "      <td>0.433896</td>\n",
       "      <td>1</td>\n",
       "    </tr>\n",
       "    <tr>\n",
       "      <th>2</th>\n",
       "      <td>34.028465</td>\n",
       "      <td>-0.209381</td>\n",
       "      <td>-0.227020</td>\n",
       "      <td>0.043335</td>\n",
       "      <td>0.978516</td>\n",
       "      <td>0.009865</td>\n",
       "      <td>0.220662</td>\n",
       "      <td>0.093838</td>\n",
       "      <td>1.225805</td>\n",
       "      <td>0.020247</td>\n",
       "      <td>1</td>\n",
       "    </tr>\n",
       "    <tr>\n",
       "      <th>3</th>\n",
       "      <td>34.655228</td>\n",
       "      <td>-0.513184</td>\n",
       "      <td>-1.999023</td>\n",
       "      <td>0.000000</td>\n",
       "      <td>0.879395</td>\n",
       "      <td>0.009201</td>\n",
       "      <td>0.057543</td>\n",
       "      <td>0.057543</td>\n",
       "      <td>2.648314</td>\n",
       "      <td>0.010161</td>\n",
       "      <td>1</td>\n",
       "    </tr>\n",
       "    <tr>\n",
       "      <th>4</th>\n",
       "      <td>75.310669</td>\n",
       "      <td>0.780151</td>\n",
       "      <td>0.138641</td>\n",
       "      <td>0.260742</td>\n",
       "      <td>0.740234</td>\n",
       "      <td>0.018509</td>\n",
       "      <td>0.379569</td>\n",
       "      <td>0.131420</td>\n",
       "      <td>1.149185</td>\n",
       "      <td>0.017778</td>\n",
       "      <td>0</td>\n",
       "    </tr>\n",
       "  </tbody>\n",
       "</table>\n",
       "</div>"
      ],
      "text/plain": [
       "   photon_pt  photon_eta  photon_phi  photon_hoe  photon_r9  photon_sieie  \\\n",
       "0  25.824781    1.385986   -2.261719    0.316406   0.351318      0.014465   \n",
       "1  35.281075    1.013672   -2.959961    0.024109   0.959473      0.010345   \n",
       "2  34.028465   -0.209381   -0.227020    0.043335   0.978516      0.009865   \n",
       "3  34.655228   -0.513184   -1.999023    0.000000   0.879395      0.009201   \n",
       "4  75.310669    0.780151    0.138641    0.260742   0.740234      0.018509   \n",
       "\n",
       "   photon_pfRelIso03_all  photon_pfRelIso03_chg  deltaR_photon_lepton  \\\n",
       "0               0.817928               0.139733              2.986634   \n",
       "1               0.018126               0.000000              0.673868   \n",
       "2               0.220662               0.093838              1.225805   \n",
       "3               0.057543               0.057543              2.648314   \n",
       "4               0.379569               0.131420              1.149185   \n",
       "\n",
       "   deltaR_photon_jet  photon_genPartFlav  \n",
       "0           0.066809                   0  \n",
       "1           0.433896                   1  \n",
       "2           0.020247                   1  \n",
       "3           0.010161                   1  \n",
       "4           0.017778                   0  "
      ]
     },
     "execution_count": 148,
     "metadata": {},
     "output_type": "execute_result"
    }
   ],
   "source": [
    "df.head()"
   ]
  },
  {
   "cell_type": "code",
   "execution_count": null,
   "metadata": {},
   "outputs": [],
   "source": []
  },
  {
   "cell_type": "code",
   "execution_count": 149,
   "metadata": {},
   "outputs": [
    {
     "name": "stdout",
     "output_type": "stream",
     "text": [
      "(1233, 10)\n",
      "1\n",
      "0\n"
     ]
    }
   ],
   "source": [
    "# split into features and labels\n",
    "X = np.array(df.drop(['photon_genPartFlav'],axis=1))\n",
    "y = df['photon_genPartFlav']\n",
    "\n",
    "# shuffle & split into training, validation, testing datasets\n",
    "X_train, X_test, y_train, y_test = train_test_split(X, y, test_size=0.2, random_state=1)\n",
    "X_train, X_val, y_train, y_val = train_test_split(X_train, y_train, test_size=0.25, random_state=1)\n",
    "\n",
    "print(X_train.shape)\n",
    "print(y_train.max())\n",
    "print(y_train.min())"
   ]
  },
  {
   "cell_type": "code",
   "execution_count": 150,
   "metadata": {},
   "outputs": [],
   "source": [
    "# Scale: mean=0, stdev=1\n",
    "scaler = StandardScaler()\n",
    "\n",
    "X_train_scaled = scaler.fit_transform(X_train)\n",
    "X_val_scaled = scaler.fit_transform(X_val)\n",
    "X_test_scaled = scaler.fit_transform(X_test)"
   ]
  },
  {
   "cell_type": "code",
   "execution_count": 151,
   "metadata": {},
   "outputs": [
    {
     "name": "stdout",
     "output_type": "stream",
     "text": [
      "Model: \"sequential_3\"\n",
      "_________________________________________________________________\n",
      "Layer (type)                 Output Shape              Param #   \n",
      "=================================================================\n",
      "dense_9 (Dense)              (None, 32)                352       \n",
      "_________________________________________________________________\n",
      "dense_10 (Dense)             (None, 32)                1056      \n",
      "_________________________________________________________________\n",
      "dense_11 (Dense)             (None, 1)                 33        \n",
      "=================================================================\n",
      "Total params: 1,441\n",
      "Trainable params: 1,441\n",
      "Non-trainable params: 0\n",
      "_________________________________________________________________\n"
     ]
    }
   ],
   "source": [
    "model = Sequential()\n",
    "model.add(Dense(32, input_shape=(X_train.shape[1],), activation=\"relu\"))\n",
    "model.add(Dense(32, activation=\"relu\"))\n",
    "model.add(Dense(1,activation=\"sigmoid\"))\n",
    "\n",
    "model.compile(\"adam\", \"binary_crossentropy\", metrics=[\"accuracy\"])\n",
    "model.summary()"
   ]
  },
  {
   "cell_type": "code",
   "execution_count": 152,
   "metadata": {},
   "outputs": [
    {
     "name": "stdout",
     "output_type": "stream",
     "text": [
      "Epoch 1/20\n",
      "10/10 [==============================] - 0s 1ms/step - loss: 0.6961 - accuracy: 0.5361\n",
      "Epoch 2/20\n",
      "10/10 [==============================] - 0s 1ms/step - loss: 0.5879 - accuracy: 0.7242\n",
      "Epoch 3/20\n",
      "10/10 [==============================] - 0s 2ms/step - loss: 0.5061 - accuracy: 0.8143\n",
      "Epoch 4/20\n",
      "10/10 [==============================] - 0s 2ms/step - loss: 0.4401 - accuracy: 0.8532\n",
      "Epoch 5/20\n",
      "10/10 [==============================] - 0s 2ms/step - loss: 0.3865 - accuracy: 0.8759\n",
      "Epoch 6/20\n",
      "10/10 [==============================] - 0s 1ms/step - loss: 0.3417 - accuracy: 0.8873\n",
      "Epoch 7/20\n",
      "10/10 [==============================] - 0s 1ms/step - loss: 0.3048 - accuracy: 0.8970\n",
      "Epoch 8/20\n",
      "10/10 [==============================] - 0s 1ms/step - loss: 0.2765 - accuracy: 0.9051\n",
      "Epoch 9/20\n",
      "10/10 [==============================] - 0s 1ms/step - loss: 0.2536 - accuracy: 0.9108\n",
      "Epoch 10/20\n",
      "10/10 [==============================] - 0s 1ms/step - loss: 0.2355 - accuracy: 0.9189\n",
      "Epoch 11/20\n",
      "10/10 [==============================] - 0s 1ms/step - loss: 0.2215 - accuracy: 0.9189\n",
      "Epoch 12/20\n",
      "10/10 [==============================] - 0s 1ms/step - loss: 0.2110 - accuracy: 0.9197\n",
      "Epoch 13/20\n",
      "10/10 [==============================] - 0s 1ms/step - loss: 0.2028 - accuracy: 0.9262\n",
      "Epoch 14/20\n",
      "10/10 [==============================] - 0s 1ms/step - loss: 0.1955 - accuracy: 0.9270\n",
      "Epoch 15/20\n",
      "10/10 [==============================] - 0s 1ms/step - loss: 0.1892 - accuracy: 0.9294\n",
      "Epoch 16/20\n",
      "10/10 [==============================] - 0s 1ms/step - loss: 0.1847 - accuracy: 0.9351\n",
      "Epoch 17/20\n",
      "10/10 [==============================] - 0s 1ms/step - loss: 0.1802 - accuracy: 0.9343\n",
      "Epoch 18/20\n",
      "10/10 [==============================] - ETA: 0s - loss: 0.1859 - accuracy: 0.92 - 0s 1ms/step - loss: 0.1767 - accuracy: 0.9367\n",
      "Epoch 19/20\n",
      "10/10 [==============================] - 0s 1ms/step - loss: 0.1741 - accuracy: 0.9367\n",
      "Epoch 20/20\n",
      "10/10 [==============================] - 0s 1ms/step - loss: 0.1714 - accuracy: 0.9367\n"
     ]
    },
    {
     "data": {
      "text/plain": [
       "<tensorflow.python.keras.callbacks.History at 0x7efc403c8d30>"
      ]
     },
     "execution_count": 152,
     "metadata": {},
     "output_type": "execute_result"
    }
   ],
   "source": [
    "model.fit(X_train_scaled, y_train, epochs=20, batch_size=128)"
   ]
  },
  {
   "cell_type": "code",
   "execution_count": 153,
   "metadata": {},
   "outputs": [
    {
     "name": "stdout",
     "output_type": "stream",
     "text": [
      "Test loss: 0.21803\n",
      "Test accuracy: 0.91484\n"
     ]
    }
   ],
   "source": [
    "loss, accuracy = model.evaluate(X_test_scaled,y_test,verbose=0)\n",
    "print(f'Test loss: {round(loss,5)}\\nTest accuracy: {round(accuracy,5)}')"
   ]
  },
  {
   "cell_type": "code",
   "execution_count": 154,
   "metadata": {},
   "outputs": [],
   "source": [
    "y_pred = model.predict(X_test_scaled)\n",
    "fpr, tpr, thresholds = roc_curve(y_test, y_pred)\n",
    "area_under_curve = auc(fpr, tpr)"
   ]
  },
  {
   "cell_type": "code",
   "execution_count": 155,
   "metadata": {},
   "outputs": [
    {
     "data": {
      "image/png": "[encoded data removed]",
      "text/plain": [
       "<Figure size 432x288 with 1 Axes>"
      ]
     },
     "metadata": {
      "needs_background": "light"
     },
     "output_type": "display_data"
    }
   ],
   "source": [
    "plt.plot([0,1], [0,1], 'k--')\n",
    "plt.plot(fpr, tpr, label='area = {:.3f}'.format(area_under_curve))\n",
    "\n",
    "plt.xlabel('False positive rate')\n",
    "plt.ylabel('True positive rate')\n",
    "plt.title('ROC curve')\n",
    "plt.legend(loc='best')\n",
    "plt.show()"
   ]
  },
  {
   "cell_type": "code",
   "execution_count": 156,
   "metadata": {},
   "outputs": [],
   "source": [
    "predTrue  = y_pred[y_test==True]\n",
    "predFalse = y_pred[y_test==False]"
   ]
  },
  {
   "cell_type": "code",
   "execution_count": 157,
   "metadata": {},
   "outputs": [
    {
     "data": {
      "image/png": "[encoded data removed]",
      "text/plain": [
       "<Figure size 432x288 with 1 Axes>"
      ]
     },
     "metadata": {
      "needs_background": "light"
     },
     "output_type": "display_data"
    }
   ],
   "source": [
    "plt.hist(predTrue,bins=50,alpha=0.5,label='true label=1')\n",
    "plt.hist(predFalse,bins=50,alpha=0.5,label='true label=0')\n",
    "\n",
    "plt.xlabel('Predicted label')\n",
    "plt.ylabel('Counts')\n",
    "plt.title('')\n",
    "plt.legend(loc='best')\n",
    "plt.show()"
   ]
  },
  {
   "cell_type": "code",
   "execution_count": null,
   "metadata": {},
   "outputs": [],
   "source": []
  },
  {
   "cell_type": "code",
   "execution_count": 160,
   "metadata": {},
   "outputs": [
    {
     "data": {
      "image/png": "[encoded data removed]",
      "text/plain": [
       "<Figure size 432x288 with 2 Axes>"
      ]
     },
     "metadata": {
      "needs_background": "light"
     },
     "output_type": "display_data"
    }
   ],
   "source": [
    "# compare mvaID labels\n",
    "\n",
    "fig, ax1 = plt.subplots()\n",
    "\n",
    "hist.plot1d(photon_mvaid_hist,stack=True,density=True,ax=ax1)\n",
    "ax1.legend('')\n",
    "ax1.set_xlim(-1.1,1.1)\n",
    "\n",
    "ax2 = ax1.twiny()\n",
    "ax2.hist(y_pred,bins=50,density=True,alpha=0.4,color=\"red\",align=\"mid\")\n",
    "\n",
    "plt.ylim(0,8)\n",
    "plt.grid()\n",
    "plt.show()"
   ]
  },
  {
   "cell_type": "code",
   "execution_count": null,
   "metadata": {},
   "outputs": [],
   "source": []
  },
  {
   "cell_type": "code",
   "execution_count": null,
   "metadata": {},
   "outputs": [],
   "source": []
  },
  {
   "cell_type": "code",
   "execution_count": null,
   "metadata": {},
   "outputs": [],
   "source": []
  },
  {
   "cell_type": "code",
   "execution_count": null,
   "metadata": {},
   "outputs": [],
   "source": []
  },
  {
   "cell_type": "code",
   "execution_count": null,
   "metadata": {},
   "outputs": [],
   "source": []
  }
 ],
 "metadata": {
  "kernelspec": {
   "display_name": "Python 3",
   "language": "python",
   "name": "python3"
  },
  "language_info": {
   "codemirror_mode": {
    "name": "ipython",
    "version": 3
   },
   "file_extension": ".py",
   "mimetype": "text/x-python",
   "name": "python",
   "nbconvert_exporter": "python",
   "pygments_lexer": "ipython3",
   "version": "3.8.5"
  }
 },
 "nbformat": 4,
 "nbformat_minor": 4
}
