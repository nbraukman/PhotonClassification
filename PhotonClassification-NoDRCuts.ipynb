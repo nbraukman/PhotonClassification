{
 "cells": [
  {
   "cell_type": "markdown",
   "metadata": {},
   "source": [
    "# Classifying real vs. fake photons from $tt\\gamma$, $t\\bar{t}$ events\n",
    "\n",
    "### no $\\Delta R < 0.4$ cuts"
   ]
  },
  {
   "cell_type": "code",
   "execution_count": 1,
   "metadata": {},
   "outputs": [],
   "source": [
    "import numpy as np\n",
    "import pandas as pd\n",
    "import matplotlib.pyplot as plt\n",
    "\n",
    "from coffea import hist, util\n",
    "import coffea.processor as processor\n",
    "from coffea.nanoevents import NanoEventsFactory, NanoAODSchema\n",
    "import awkward as ak\n",
    "import uproot\n",
    "\n",
    "from sklearn.preprocessing import StandardScaler, MinMaxScaler\n",
    "from sklearn.model_selection import train_test_split\n",
    "from sklearn.metrics import roc_curve, auc\n",
    "\n",
    "import tensorflow as tf\n",
    "from keras.models import Sequential\n",
    "from keras.layers import Dense"
   ]
  },
  {
   "cell_type": "code",
   "execution_count": 2,
   "metadata": {},
   "outputs": [],
   "source": [
    "class PhotonSelector(processor.ProcessorABC):\n",
    "    def __init__(self, isMC=True):\n",
    "        \n",
    "        # data is/isn't Monte-Carlo\n",
    "        self.isMC = isMC\n",
    "\n",
    "        # declare axes\n",
    "        dataset_axis = hist.Cat(\"dataset\",\"Dataset\")\n",
    "\n",
    "        photon_pt_axis = hist.Bin(\"pt\",\"photon $p_{T}$ [GeV]\", 40, 0, 400)\n",
    "        photon_eta_axis = hist.Bin(\"eta\",\"photon $\\eta$\", 50, -2.5, 2.5)\n",
    "        photon_phi_axis = hist.Bin(\"phi\",\"photon $\\phi$\", 64, -3.2, 3.2)\n",
    "        photon_reliso_all_axis = hist.Bin(\"reliso\",\"photon pfRelIso03_all\", 40, -0.5, 6)\n",
    "        photon_reliso_chg_axis = hist.Bin(\"reliso\",\"photon pfRelIso03_chg\", 40, -0.5, 6)\n",
    "        photon_sieie_axis = hist.Bin(\"sieie\",\"photon sigma I eta I eta\", 40, 0, 0.05)\n",
    "        photon_r9_axis = hist.Bin(\"r9\",\"photon R9\", 40, -0.5, 1.5)\n",
    "        photon_hoe_axis = hist.Bin(\"hoe\",\"photon H over E\", 40, -0.5, 1)\n",
    "        photon_count_axis = hist.Bin(\"count\",\"Photon number\",12,-1,10)\n",
    "\n",
    "        deltar_axis = hist.Bin(\"deltar\",\"$\\Delta R$\", 50, -0.5, 4)\n",
    "        \n",
    "        mvaid_axis = hist.Bin(\"mvaid\", \"mvaID\", 25,-1,1)\n",
    "\n",
    "        photon_genPartFlav_axis = hist.Bin(\"flav\",\"genPartFlav\",40,-1,15)\n",
    "        \n",
    "        \n",
    "        # accumulator object: dictionary storing histograms & counters to be filled\n",
    "        self._accumulator = processor.dict_accumulator({\n",
    "            \n",
    "            ## column accumulators\n",
    "            'photon_pt': processor.column_accumulator(np.ndarray(shape=(0,))),\n",
    "            'photon_eta': processor.column_accumulator(np.ndarray(shape=(0,))),\n",
    "            'photon_phi': processor.column_accumulator(np.ndarray(shape=(0,))),\n",
    "            'photon_pfRelIso03_all': processor.column_accumulator(np.ndarray(shape=(0,))),\n",
    "            'photon_pfRelIso03_chg': processor.column_accumulator(np.ndarray(shape=(0,))),\n",
    "            'photon_sieie': processor.column_accumulator(np.ndarray(shape=(0,))),\n",
    "            'photon_r9': processor.column_accumulator(np.ndarray(shape=(0,))),\n",
    "            'photon_hoe': processor.column_accumulator(np.ndarray(shape=(0,))),\n",
    "            'photon_count': processor.column_accumulator(np.ndarray(shape=(0,))),\n",
    "            \n",
    "            'deltaR_photon_lepton': processor.column_accumulator(np.ndarray(shape=(0,))),\n",
    "            'deltaR_photon_jet': processor.column_accumulator(np.ndarray(shape=(0,))),\n",
    "            \n",
    "            'photon_mvaid': processor.column_accumulator(np.ndarray(shape=(0,))),\n",
    "            'file': processor.column_accumulator(np.ndarray(shape=(0,))),\n",
    "            \n",
    "            'photon_genPartFlav': processor.column_accumulator(np.ndarray(shape=(0,))),\n",
    "            \n",
    "            \n",
    "            ## histograms for features\n",
    "            'photon_pt_hist': hist.Hist(\"Counts\", dataset_axis, photon_pt_axis),\n",
    "            'photon_eta_hist': hist.Hist(\"Counts\", dataset_axis, photon_eta_axis),\n",
    "            'photon_phi_hist': hist.Hist(\"Counts\", dataset_axis, photon_phi_axis),\n",
    "            'photon_reliso_all_hist': hist.Hist(\"Counts\", dataset_axis, photon_reliso_all_axis),\n",
    "            'photon_reliso_chg_hist': hist.Hist(\"Counts\", dataset_axis, photon_reliso_chg_axis),\n",
    "            'photon_sieie_hist': hist.Hist(\"Counts\", dataset_axis, photon_sieie_axis),\n",
    "            'photon_r9_hist': hist.Hist(\"Counts\", dataset_axis, photon_r9_axis),\n",
    "            'photon_hoe_hist': hist.Hist(\"Counts\", dataset_axis, photon_hoe_axis),\n",
    "            'photon_count_hist': hist.Hist(\"Counts\", dataset_axis, photon_count_axis),\n",
    "            \n",
    "            'deltaR_photon_lepton_hist': hist.Hist(\"Counts\", dataset_axis, deltar_axis),\n",
    "            'deltaR_photon_jet_hist': hist.Hist(\"Counts\", dataset_axis, deltar_axis),\n",
    "            \n",
    "            'photon_mvaid_hist': hist.Hist(\"Counts\", dataset_axis, mvaid_axis),\n",
    "            \n",
    "            'photon_genPartFlav_hist': hist.Hist(\"Counts\", dataset_axis, photon_genPartFlav_axis),\n",
    "        }\n",
    "        )\n",
    "\n",
    "    @property\n",
    "    def accumulator(self):\n",
    "        return self._accumulator\n",
    "\n",
    "    def process(self, events):\n",
    "        \n",
    "        output = self.accumulator.identity()\n",
    "        dataset = events.metadata['dataset']\n",
    "        \n",
    "        ######## object & event selection ########\n",
    "        # muons\n",
    "        muons=events.Muon\n",
    "        muonSelectTight = ((muons.pt>30) &\n",
    "                           (abs(muons.eta)<2.4) &\n",
    "                           (muons.tightId) &\n",
    "                           (muons.pfRelIso04_all < 0.15)\n",
    "                          )\n",
    "        tightMuons = muons[muonSelectTight]\n",
    "        \n",
    "        # jets & b-tagged jets\n",
    "        jets=events.Jet\n",
    "        jetSelectTight = ((jets.pt>30) &\n",
    "                          (abs(jets.eta)<2.4) &\n",
    "                          (jets.isTight)\n",
    "                         )\n",
    "        btaggedJetSelect = (jetSelectTight &\n",
    "                           (jets.btagDeepB>0.6321)\n",
    "                          )\n",
    "        tightJets = jets[jetSelectTight]\n",
    "        tightBJets = jets[btaggedJetSelect]\n",
    "        \n",
    "        # electrons\n",
    "        electrons=events.Electron\n",
    "        electronSelectTight = ((electrons.pt> 35) &\n",
    "                               (abs(electrons.eta)<2.1) &\n",
    "                               electrons.cutBased>=4\n",
    "                              )\n",
    "        tightEle = electrons[electronSelectTight]\n",
    "        \n",
    "        \n",
    "        # photons\n",
    "        photons = events.Photon\n",
    "        photonSelect= ((photons.pt>20) &\n",
    "                       (abs(photons.eta) < 1.4442) &\n",
    "                       (photons.isScEtaEE | photons.isScEtaEB) &\n",
    "                       (photons.electronVeto) & \n",
    "                       np.invert(photons.pixelSeed)\n",
    "                       )\n",
    "        tightPhotons = photons[photonSelect]\n",
    "        \n",
    "        tightPhoMu, tightPhoMuDR = tightPhotons.nearest(tightMuons,return_metric=True)\n",
    "        tightPhoJet, tightPhoJetDR = tightPhotons.nearest(tightJets,return_metric=True)\n",
    "        \n",
    "        \n",
    "        # events\n",
    "        trigger = events.HLT.IsoMu24 | events.HLT.IsoTkMu24\n",
    "        \n",
    "        eventSelection = (trigger &\n",
    "                          (ak.num(tightMuons)==1) &\n",
    "                          (ak.num(tightJets)>=4) & \n",
    "                          (ak.num(tightBJets)>=1) &\n",
    "                          (ak.num(tightEle)==0) &\n",
    "                          (ak.num(tightPhotons)>=1))\n",
    "\n",
    "        \n",
    "        # fill histograms\n",
    "        output['photon_pt_hist'].fill(dataset=dataset,\n",
    "                                      pt=ak.to_numpy(ak.flatten(tightPhotons[eventSelection].pt)))\n",
    "        output['photon_eta_hist'].fill(dataset=dataset,\n",
    "                                       eta=ak.to_numpy(ak.flatten(tightPhotons[eventSelection].eta)))\n",
    "        output['photon_phi_hist'].fill(dataset=dataset,\n",
    "                                       phi=ak.to_numpy(ak.flatten(tightPhotons[eventSelection].phi)))\n",
    "        output['photon_reliso_all_hist'].fill(dataset=dataset,\n",
    "                                              reliso=ak.to_numpy(ak.flatten(tightPhotons[eventSelection].pfRelIso03_all)))\n",
    "        output['photon_reliso_chg_hist'].fill(dataset=dataset,\n",
    "                                              reliso=ak.to_numpy(ak.flatten(tightPhotons[eventSelection].pfRelIso03_chg)))\n",
    "        output['photon_sieie_hist'].fill(dataset=dataset,\n",
    "                                         sieie=ak.to_numpy(ak.flatten(tightPhotons[eventSelection].sieie)))\n",
    "        output['photon_r9_hist'].fill(dataset=dataset,\n",
    "                                      r9=ak.to_numpy(ak.flatten(tightPhotons[eventSelection].r9)))\n",
    "        output['photon_hoe_hist'].fill(dataset=dataset,\n",
    "                                       hoe=ak.to_numpy(ak.flatten(tightPhotons[eventSelection].hoe)))\n",
    "        output['photon_count_hist'].fill(dataset=dataset,\n",
    "                                         count=(ak.num(tightPhotons[eventSelection])))\n",
    "        \n",
    "        output['deltaR_photon_lepton_hist'].fill(dataset=dataset,\n",
    "                                                 deltar=ak.to_numpy(ak.flatten(tightPhoMuDR[eventSelection])))\n",
    "        output['deltaR_photon_jet_hist'].fill(dataset=dataset,\n",
    "                                              deltar=ak.to_numpy(ak.flatten(tightPhoJetDR[eventSelection])))\n",
    "        \n",
    "        output['photon_mvaid_hist'].fill(dataset=dataset,\n",
    "                                         mvaid=ak.to_numpy(ak.flatten(tightPhotons[eventSelection].mvaID)))\n",
    "        \n",
    "        if self.isMC:\n",
    "            output['photon_genPartFlav_hist'].fill(dataset=dataset,\n",
    "                                                   flav=ak.to_numpy(ak.flatten(tightPhotons[eventSelection].genPartFlav)))\n",
    "        \n",
    "        \n",
    "        # fill column accumulators\n",
    "        output['photon_pt'] = processor.column_accumulator(ak.to_numpy(ak.flatten(tightPhotons.pt[eventSelection])))\n",
    "        output['photon_eta'] = processor.column_accumulator(ak.to_numpy(ak.flatten(tightPhotons.eta[eventSelection])))\n",
    "        output['photon_phi'] = processor.column_accumulator(ak.to_numpy(ak.flatten(tightPhotons.phi[eventSelection])))\n",
    "        output['photon_pfRelIso03_all'] = processor.column_accumulator(ak.to_numpy(ak.flatten(tightPhotons.pfRelIso03_all[eventSelection])))\n",
    "        output['photon_pfRelIso03_chg'] = processor.column_accumulator(ak.to_numpy(ak.flatten(tightPhotons.pfRelIso03_chg[eventSelection])))\n",
    "        output['photon_sieie'] = processor.column_accumulator(ak.to_numpy(ak.flatten(tightPhotons.sieie[eventSelection])))\n",
    "        output['photon_r9'] = processor.column_accumulator(ak.to_numpy(ak.flatten(tightPhotons.r9[eventSelection])))\n",
    "        output['photon_hoe'] = processor.column_accumulator(ak.to_numpy(ak.flatten(tightPhotons.hoe[eventSelection])))\n",
    "        output['photon_count'] = processor.column_accumulator(ak.to_numpy(ak.num(tightPhotons[eventSelection])))\n",
    "        \n",
    "        output['deltaR_photon_lepton'] = processor.column_accumulator(ak.to_numpy(ak.flatten(tightPhoMuDR[eventSelection])))\n",
    "        output['deltaR_photon_jet'] = processor.column_accumulator(ak.to_numpy(ak.flatten(tightPhoJetDR[eventSelection])))\n",
    "        \n",
    "        output['photon_mvaid'] = processor.column_accumulator(ak.to_numpy(ak.flatten(tightPhotons.mvaID[eventSelection])))\n",
    "        \n",
    "        if self.isMC:\n",
    "            output['photon_genPartFlav'] = processor.column_accumulator(ak.to_numpy(ak.flatten(tightPhotons.genPartFlav[eventSelection])))\n",
    "            \n",
    "        # dataset labels\n",
    "        if dataset=='TTGamma':\n",
    "            output['file'] = processor.column_accumulator(np.ones_like(ak.to_numpy(ak.flatten(tightPhotons.pt[eventSelection]))))\n",
    "        elif dataset=='TTbar':\n",
    "            output['file'] = processor.column_accumulator(np.zeros_like(ak.to_numpy(ak.flatten(tightPhotons.pt[eventSelection]))))\n",
    "        else:\n",
    "            output['file'] = processor.column_accumulator(2*np.ones_like(ak.to_numpy(ak.flatten(tightPhotons.pt[eventSelection]))))\n",
    "        \n",
    "        \n",
    "        return output\n",
    "    \n",
    "    def postprocess(self, accumulator):\n",
    "        return accumulator"
   ]
  },
  {
   "cell_type": "code",
   "execution_count": 3,
   "metadata": {},
   "outputs": [],
   "source": [
    "# Define files to run over\n",
    "skimDir=\"/udrive/staff/dnoonan/Skims\"\n",
    "\n",
    "fileset = {\"TTGamma\":[f\"{skimDir}/TTGamma_SingleLept_2016_skim.root\"],\n",
    "           \"TTbar\":[f\"{skimDir}/TTbarPowheg_Semilept_2016_skim_1of10.root\",\n",
    "                    f\"{skimDir}/TTbarPowheg_Semilept_2016_skim_2of10.root\"],\n",
    "          }\n",
    "filesetData = {\"DataMu\":[f\"{skimDir}/Data_SingleMu_b_2016_skim_1of10.root\"],\n",
    "              }"
   ]
  },
  {
   "cell_type": "code",
   "execution_count": 4,
   "metadata": {},
   "outputs": [
    {
     "data": {
      "application/vnd.jupyter.widget-view+json": {
       "model_id": "1f77e415977b41fda9e2f77caf2eb17c",
       "version_major": 2,
       "version_minor": 0
      },
      "text/plain": [
       "Preprocessing:   0%|          | 0/3 [00:00<?, ?file/s]"
      ]
     },
     "metadata": {},
     "output_type": "display_data"
    },
    {
     "data": {
      "application/vnd.jupyter.widget-view+json": {
       "model_id": "9e9b89e9b02e447a8f78135a066c767f",
       "version_major": 2,
       "version_minor": 0
      },
      "text/plain": [
       "Processing:   0%|          | 0/10 [00:00<?, ?chunk/s]"
      ]
     },
     "metadata": {},
     "output_type": "display_data"
    }
   ],
   "source": [
    "np.warnings.filterwarnings('ignore')\n",
    "\n",
    "# The NanoAODSchema needs to be adjusted, to remove cross references to FSRPhotons\n",
    "class SkimmedSchema(NanoAODSchema):\n",
    "    def __init__(self, base_form):\n",
    "        base_form[\"contents\"].pop(\"Muon_fsrPhotonIdx\", None)\n",
    "        super().__init__(base_form)\n",
    "\n",
    "# Run Coffea code using uproot\n",
    "outputMC = processor.run_uproot_job(\n",
    "    fileset,  # Dictionary of datasets to run on\n",
    "    \"Events\", # Name of the TTree to open\n",
    "    PhotonSelector(),  # Coffea processor\n",
    "    processor.futures_executor,\n",
    "    executor_args={\"schema\": SkimmedSchema,'workers': 4},\n",
    "    chunksize=1000000,\n",
    "    #maxchunks=3,\n",
    ")"
   ]
  },
  {
   "cell_type": "code",
   "execution_count": 5,
   "metadata": {},
   "outputs": [
    {
     "data": {
      "application/vnd.jupyter.widget-view+json": {
       "model_id": "1b0d14d82ad54117a781a2df90130265",
       "version_major": 2,
       "version_minor": 0
      },
      "text/plain": [
       "Preprocessing:   0%|          | 0/1 [00:00<?, ?file/s]"
      ]
     },
     "metadata": {},
     "output_type": "display_data"
    },
    {
     "data": {
      "application/vnd.jupyter.widget-view+json": {
       "model_id": "367b17d2a6f641dc9ddc336373e04ac0",
       "version_major": 2,
       "version_minor": 0
      },
      "text/plain": [
       "Processing:   0%|          | 0/6 [00:00<?, ?chunk/s]"
      ]
     },
     "metadata": {},
     "output_type": "display_data"
    }
   ],
   "source": [
    "outputData = processor.run_uproot_job(\n",
    "    filesetData,\n",
    "    \"Events\",\n",
    "    PhotonSelector(isMC=False),\n",
    "    processor.futures_executor,\n",
    "    executor_args={\"schema\": SkimmedSchema,'workers': 4},\n",
    "    chunksize=1000000,\n",
    "    #maxchunks=3,\n",
    ")"
   ]
  },
  {
   "cell_type": "code",
   "execution_count": 6,
   "metadata": {},
   "outputs": [],
   "source": [
    "# scale MC luminosity to match data\n",
    "nEvents = {}\n",
    "for d in fileset:\n",
    "    if not d in nEvents:\n",
    "        nEvents[d] = 0\n",
    "    for fName in fileset[d]:\n",
    "        with uproot.open(fName)['hEvents'] as hEvents:\n",
    "            nEvents[d] += hEvents.values()[0] + hEvents.values()[2]\n",
    "cx = {'TTGamma':7.509,\n",
    "     'TTbar': 380.095,\n",
    "     'WGamma':489,\n",
    "     'Z+jets':6077.22,\n",
    "     'W+3jets':1165.8108,\n",
    "     'W+4jets':592.9176}\n",
    "lumi_weight = {}\n",
    "for keyName in fileset:\n",
    "    lumi_weight[keyName] = (cx[keyName]*450.)/nEvents[keyName]\n",
    "    \n",
    "for key, obj in outputMC.items():\n",
    "    if isinstance(obj, hist.Hist):\n",
    "        obj.scale(lumi_weight, axis=\"dataset\")"
   ]
  },
  {
   "cell_type": "code",
   "execution_count": 7,
   "metadata": {},
   "outputs": [],
   "source": [
    "data_err_opts = {\n",
    "    'linestyle':'none',\n",
    "    'marker': '.',\n",
    "    'markersize': 10.,\n",
    "    'color':'k',\n",
    "    'elinewidth': 1,\n",
    "}"
   ]
  },
  {
   "cell_type": "code",
   "execution_count": 8,
   "metadata": {},
   "outputs": [
    {
     "data": {
      "image/png": "[encoded data removed]",
      "text/plain": [
       "<Figure size 432x288 with 1 Axes>"
      ]
     },
     "metadata": {
      "needs_background": "light"
     },
     "output_type": "display_data"
    }
   ],
   "source": [
    "hist.plot1d(outputMC['photon_pt_hist'],overlay='dataset',stack=False,density=True)\n",
    "hist.plot1d(outputData['photon_pt_hist'],overlay='dataset',error_opts=data_err_opts,stack=False,density=True)\n",
    "plt.title(\"Photon $p_T$\")\n",
    "plt.show()"
   ]
  },
  {
   "cell_type": "code",
   "execution_count": 9,
   "metadata": {},
   "outputs": [
    {
     "data": {
      "image/png": "[encoded data removed]",
      "text/plain": [
       "<Figure size 432x288 with 1 Axes>"
      ]
     },
     "metadata": {
      "needs_background": "light"
     },
     "output_type": "display_data"
    }
   ],
   "source": [
    "hist.plot1d(outputMC['deltaR_photon_lepton_hist'],overlay='dataset',stack=False,density=True)\n",
    "hist.plot1d(outputData['deltaR_photon_lepton_hist'],overlay='dataset',error_opts=data_err_opts,stack=False,density=True)\n",
    "plt.title(\"Photon-Muon $\\Delta R$\")\n",
    "plt.show()"
   ]
  },
  {
   "cell_type": "code",
   "execution_count": 10,
   "metadata": {},
   "outputs": [
    {
     "data": {
      "image/png": "[encoded data removed]",
      "text/plain": [
       "<Figure size 432x288 with 1 Axes>"
      ]
     },
     "metadata": {
      "needs_background": "light"
     },
     "output_type": "display_data"
    }
   ],
   "source": [
    "hist.plot1d(outputMC['deltaR_photon_jet_hist'],overlay='dataset',stack=False,density=True)\n",
    "hist.plot1d(outputData['deltaR_photon_jet_hist'],overlay='dataset',error_opts=data_err_opts,stack=False,density=True)\n",
    "plt.title(\"Photon-Jet $\\Delta R$\")\n",
    "plt.show()"
   ]
  },
  {
   "cell_type": "code",
   "execution_count": 11,
   "metadata": {},
   "outputs": [
    {
     "data": {
      "image/png": "[encoded data removed]",
      "text/plain": [
       "<Figure size 432x288 with 1 Axes>"
      ]
     },
     "metadata": {
      "needs_background": "light"
     },
     "output_type": "display_data"
    }
   ],
   "source": [
    "hist.plot1d(outputMC['photon_mvaid_hist'],stack=False,density=True)\n",
    "hist.plot1d(outputData['photon_mvaid_hist'],overlay='dataset',error_opts=data_err_opts,stack=False,density=True)\n",
    "plt.xlim(-1.1,1.1)\n",
    "plt.title(\"Photon mvaID\")\n",
    "plt.show()"
   ]
  },
  {
   "cell_type": "code",
   "execution_count": 12,
   "metadata": {},
   "outputs": [
    {
     "data": {
      "image/png": "[encoded data removed]",
      "text/plain": [
       "<Figure size 432x288 with 1 Axes>"
      ]
     },
     "metadata": {
      "needs_background": "light"
     },
     "output_type": "display_data"
    }
   ],
   "source": [
    "### label ###\n",
    "hist.plot1d(outputMC['photon_genPartFlav_hist'],overlay='dataset',stack=False,density=True)\n",
    "plt.title(\"Photon genPartFlav\")\n",
    "plt.show()"
   ]
  },
  {
   "cell_type": "markdown",
   "metadata": {},
   "source": [
    "## Preprocessing data for training"
   ]
  },
  {
   "cell_type": "code",
   "execution_count": 13,
   "metadata": {},
   "outputs": [
    {
     "name": "stdout",
     "output_type": "stream",
     "text": [
      "(1088137,)\n",
      "(1362199,)\n"
     ]
    }
   ],
   "source": [
    "print(np.array(outputMC['photon_count'].value).shape) # one entry per event, not per photon\n",
    "print(np.array(outputMC['photon_pt'].value).shape)"
   ]
  },
  {
   "cell_type": "code",
   "execution_count": 14,
   "metadata": {},
   "outputs": [
    {
     "data": {
      "text/html": [
       "<div>\n",
       "<style scoped>\n",
       "    .dataframe tbody tr th:only-of-type {\n",
       "        vertical-align: middle;\n",
       "    }\n",
       "\n",
       "    .dataframe tbody tr th {\n",
       "        vertical-align: top;\n",
       "    }\n",
       "\n",
       "    .dataframe thead th {\n",
       "        text-align: right;\n",
       "    }\n",
       "</style>\n",
       "<table border=\"1\" class=\"dataframe\">\n",
       "  <thead>\n",
       "    <tr style=\"text-align: right;\">\n",
       "      <th></th>\n",
       "      <th>photon_pt</th>\n",
       "      <th>photon_eta</th>\n",
       "      <th>photon_phi</th>\n",
       "      <th>photon_hoe</th>\n",
       "      <th>photon_r9</th>\n",
       "      <th>photon_sieie</th>\n",
       "      <th>photon_pfRelIso03_all</th>\n",
       "      <th>photon_pfRelIso03_chg</th>\n",
       "      <th>deltaR_photon_lepton</th>\n",
       "      <th>deltaR_photon_jet</th>\n",
       "      <th>file</th>\n",
       "      <th>photon_genPartFlav</th>\n",
       "    </tr>\n",
       "  </thead>\n",
       "  <tbody>\n",
       "    <tr>\n",
       "      <th>count</th>\n",
       "      <td>1.362199e+06</td>\n",
       "      <td>1.362199e+06</td>\n",
       "      <td>1.362199e+06</td>\n",
       "      <td>1.362199e+06</td>\n",
       "      <td>1.362199e+06</td>\n",
       "      <td>1.362199e+06</td>\n",
       "      <td>1.362199e+06</td>\n",
       "      <td>1.362199e+06</td>\n",
       "      <td>1.362199e+06</td>\n",
       "      <td>1.362199e+06</td>\n",
       "      <td>1.362199e+06</td>\n",
       "      <td>1.362199e+06</td>\n",
       "    </tr>\n",
       "    <tr>\n",
       "      <th>mean</th>\n",
       "      <td>4.906322e+01</td>\n",
       "      <td>3.509713e-03</td>\n",
       "      <td>1.244407e-02</td>\n",
       "      <td>1.825232e-01</td>\n",
       "      <td>7.260739e-01</td>\n",
       "      <td>1.291205e-02</td>\n",
       "      <td>8.421103e-01</td>\n",
       "      <td>4.979452e-01</td>\n",
       "      <td>2.179716e+00</td>\n",
       "      <td>1.699817e-01</td>\n",
       "      <td>4.793463e-01</td>\n",
       "      <td>2.635562e-01</td>\n",
       "    </tr>\n",
       "    <tr>\n",
       "      <th>std</th>\n",
       "      <td>4.210622e+01</td>\n",
       "      <td>7.761611e-01</td>\n",
       "      <td>1.815535e+00</td>\n",
       "      <td>1.619427e-01</td>\n",
       "      <td>2.515710e-01</td>\n",
       "      <td>3.842901e-03</td>\n",
       "      <td>9.496977e-01</td>\n",
       "      <td>6.050608e-01</td>\n",
       "      <td>8.691922e-01</td>\n",
       "      <td>3.538638e-01</td>\n",
       "      <td>4.995734e-01</td>\n",
       "      <td>4.657082e-01</td>\n",
       "    </tr>\n",
       "    <tr>\n",
       "      <th>min</th>\n",
       "      <td>2.000001e+01</td>\n",
       "      <td>-1.444092e+00</td>\n",
       "      <td>-3.141602e+00</td>\n",
       "      <td>0.000000e+00</td>\n",
       "      <td>8.843994e-02</td>\n",
       "      <td>1.957417e-04</td>\n",
       "      <td>0.000000e+00</td>\n",
       "      <td>0.000000e+00</td>\n",
       "      <td>6.103516e-05</td>\n",
       "      <td>0.000000e+00</td>\n",
       "      <td>0.000000e+00</td>\n",
       "      <td>0.000000e+00</td>\n",
       "    </tr>\n",
       "    <tr>\n",
       "      <th>25%</th>\n",
       "      <td>2.546105e+01</td>\n",
       "      <td>-6.296387e-01</td>\n",
       "      <td>-1.559814e+00</td>\n",
       "      <td>1.556396e-02</td>\n",
       "      <td>5.478516e-01</td>\n",
       "      <td>9.407043e-03</td>\n",
       "      <td>1.769875e-01</td>\n",
       "      <td>6.402592e-02</td>\n",
       "      <td>1.475775e+00</td>\n",
       "      <td>2.141247e-02</td>\n",
       "      <td>0.000000e+00</td>\n",
       "      <td>0.000000e+00</td>\n",
       "    </tr>\n",
       "    <tr>\n",
       "      <th>50%</th>\n",
       "      <td>3.477301e+01</td>\n",
       "      <td>8.710861e-03</td>\n",
       "      <td>1.387024e-02</td>\n",
       "      <td>1.738281e-01</td>\n",
       "      <td>7.490234e-01</td>\n",
       "      <td>1.229095e-02</td>\n",
       "      <td>5.840967e-01</td>\n",
       "      <td>3.181359e-01</td>\n",
       "      <td>2.314305e+00</td>\n",
       "      <td>4.039979e-02</td>\n",
       "      <td>0.000000e+00</td>\n",
       "      <td>0.000000e+00</td>\n",
       "    </tr>\n",
       "    <tr>\n",
       "      <th>75%</th>\n",
       "      <td>5.539150e+01</td>\n",
       "      <td>6.379395e-01</td>\n",
       "      <td>1.586426e+00</td>\n",
       "      <td>3.095703e-01</td>\n",
       "      <td>9.282227e-01</td>\n",
       "      <td>1.573181e-02</td>\n",
       "      <td>1.181197e+00</td>\n",
       "      <td>7.093032e-01</td>\n",
       "      <td>2.893131e+00</td>\n",
       "      <td>8.766920e-02</td>\n",
       "      <td>1.000000e+00</td>\n",
       "      <td>1.000000e+00</td>\n",
       "    </tr>\n",
       "    <tr>\n",
       "      <th>max</th>\n",
       "      <td>1.324450e+03</td>\n",
       "      <td>1.444092e+00</td>\n",
       "      <td>3.141602e+00</td>\n",
       "      <td>3.257812e+00</td>\n",
       "      <td>2.051562e+01</td>\n",
       "      <td>3.082275e-02</td>\n",
       "      <td>3.100977e+01</td>\n",
       "      <td>1.734663e+01</td>\n",
       "      <td>4.904033e+00</td>\n",
       "      <td>3.610590e+00</td>\n",
       "      <td>1.000000e+00</td>\n",
       "      <td>1.300000e+01</td>\n",
       "    </tr>\n",
       "  </tbody>\n",
       "</table>\n",
       "</div>"
      ],
      "text/plain": [
       "          photon_pt    photon_eta    photon_phi    photon_hoe     photon_r9  \\\n",
       "count  1.362199e+06  1.362199e+06  1.362199e+06  1.362199e+06  1.362199e+06   \n",
       "mean   4.906322e+01  3.509713e-03  1.244407e-02  1.825232e-01  7.260739e-01   \n",
       "std    4.210622e+01  7.761611e-01  1.815535e+00  1.619427e-01  2.515710e-01   \n",
       "min    2.000001e+01 -1.444092e+00 -3.141602e+00  0.000000e+00  8.843994e-02   \n",
       "25%    2.546105e+01 -6.296387e-01 -1.559814e+00  1.556396e-02  5.478516e-01   \n",
       "50%    3.477301e+01  8.710861e-03  1.387024e-02  1.738281e-01  7.490234e-01   \n",
       "75%    5.539150e+01  6.379395e-01  1.586426e+00  3.095703e-01  9.282227e-01   \n",
       "max    1.324450e+03  1.444092e+00  3.141602e+00  3.257812e+00  2.051562e+01   \n",
       "\n",
       "       photon_sieie  photon_pfRelIso03_all  photon_pfRelIso03_chg  \\\n",
       "count  1.362199e+06           1.362199e+06           1.362199e+06   \n",
       "mean   1.291205e-02           8.421103e-01           4.979452e-01   \n",
       "std    3.842901e-03           9.496977e-01           6.050608e-01   \n",
       "min    1.957417e-04           0.000000e+00           0.000000e+00   \n",
       "25%    9.407043e-03           1.769875e-01           6.402592e-02   \n",
       "50%    1.229095e-02           5.840967e-01           3.181359e-01   \n",
       "75%    1.573181e-02           1.181197e+00           7.093032e-01   \n",
       "max    3.082275e-02           3.100977e+01           1.734663e+01   \n",
       "\n",
       "       deltaR_photon_lepton  deltaR_photon_jet          file  \\\n",
       "count          1.362199e+06       1.362199e+06  1.362199e+06   \n",
       "mean           2.179716e+00       1.699817e-01  4.793463e-01   \n",
       "std            8.691922e-01       3.538638e-01  4.995734e-01   \n",
       "min            6.103516e-05       0.000000e+00  0.000000e+00   \n",
       "25%            1.475775e+00       2.141247e-02  0.000000e+00   \n",
       "50%            2.314305e+00       4.039979e-02  0.000000e+00   \n",
       "75%            2.893131e+00       8.766920e-02  1.000000e+00   \n",
       "max            4.904033e+00       3.610590e+00  1.000000e+00   \n",
       "\n",
       "       photon_genPartFlav  \n",
       "count        1.362199e+06  \n",
       "mean         2.635562e-01  \n",
       "std          4.657082e-01  \n",
       "min          0.000000e+00  \n",
       "25%          0.000000e+00  \n",
       "50%          0.000000e+00  \n",
       "75%          1.000000e+00  \n",
       "max          1.300000e+01  "
      ]
     },
     "execution_count": 14,
     "metadata": {},
     "output_type": "execute_result"
    }
   ],
   "source": [
    "df = pd.DataFrame({\n",
    "    'photon_pt': np.array(outputMC['photon_pt'].value),\n",
    "    'photon_eta': np.array(outputMC['photon_eta'].value),\n",
    "    'photon_phi': np.array(outputMC['photon_phi'].value),\n",
    "    'photon_hoe': np.array(outputMC['photon_hoe'].value),\n",
    "    'photon_r9': np.array(outputMC['photon_r9'].value),\n",
    "    'photon_sieie': np.array(outputMC['photon_sieie'].value),\n",
    "    'photon_pfRelIso03_all': np.array(outputMC['photon_pfRelIso03_all'].value),\n",
    "    'photon_pfRelIso03_chg': np.array(outputMC['photon_pfRelIso03_chg'].value),\n",
    "    #'photon_count': np.array(outputMC['photon_count'].value),\n",
    "    \n",
    "    'deltaR_photon_lepton': np.array(outputMC['deltaR_photon_lepton'].value),\n",
    "    'deltaR_photon_jet': np.array(outputMC['deltaR_photon_jet'].value),\n",
    "    \n",
    "    'file': np.array(outputMC['file'].value), # for MVA ID comparison, will remove from training set\n",
    "    \n",
    "    'photon_genPartFlav': np.array(outputMC['photon_genPartFlav'].value), ## TARGET ##\n",
    "})\n",
    "\n",
    "df.describe()"
   ]
  },
  {
   "cell_type": "code",
   "execution_count": 15,
   "metadata": {},
   "outputs": [
    {
     "data": {
      "text/plain": [
       "0     1005571\n",
       "1      356429\n",
       "13        199\n",
       "Name: photon_genPartFlav, dtype: int64"
      ]
     },
     "execution_count": 15,
     "metadata": {},
     "output_type": "execute_result"
    }
   ],
   "source": [
    "df['photon_genPartFlav'].value_counts()"
   ]
  },
  {
   "cell_type": "code",
   "execution_count": 16,
   "metadata": {},
   "outputs": [
    {
     "data": {
      "text/html": [
       "<div>\n",
       "<style scoped>\n",
       "    .dataframe tbody tr th:only-of-type {\n",
       "        vertical-align: middle;\n",
       "    }\n",
       "\n",
       "    .dataframe tbody tr th {\n",
       "        vertical-align: top;\n",
       "    }\n",
       "\n",
       "    .dataframe thead th {\n",
       "        text-align: right;\n",
       "    }\n",
       "</style>\n",
       "<table border=\"1\" class=\"dataframe\">\n",
       "  <thead>\n",
       "    <tr style=\"text-align: right;\">\n",
       "      <th></th>\n",
       "      <th>photon_pt</th>\n",
       "      <th>photon_eta</th>\n",
       "      <th>photon_phi</th>\n",
       "      <th>photon_hoe</th>\n",
       "      <th>photon_r9</th>\n",
       "      <th>photon_sieie</th>\n",
       "      <th>photon_pfRelIso03_all</th>\n",
       "      <th>photon_pfRelIso03_chg</th>\n",
       "      <th>deltaR_photon_lepton</th>\n",
       "      <th>deltaR_photon_jet</th>\n",
       "      <th>file</th>\n",
       "      <th>photon_genPartFlav</th>\n",
       "    </tr>\n",
       "  </thead>\n",
       "  <tbody>\n",
       "    <tr>\n",
       "      <th>count</th>\n",
       "      <td>1.362199e+06</td>\n",
       "      <td>1.362199e+06</td>\n",
       "      <td>1.362199e+06</td>\n",
       "      <td>1.362199e+06</td>\n",
       "      <td>1.362199e+06</td>\n",
       "      <td>1.362199e+06</td>\n",
       "      <td>1.362199e+06</td>\n",
       "      <td>1.362199e+06</td>\n",
       "      <td>1.362199e+06</td>\n",
       "      <td>1.362199e+06</td>\n",
       "      <td>1.362199e+06</td>\n",
       "      <td>1.362199e+06</td>\n",
       "    </tr>\n",
       "    <tr>\n",
       "      <th>mean</th>\n",
       "      <td>4.906322e+01</td>\n",
       "      <td>3.509713e-03</td>\n",
       "      <td>1.244407e-02</td>\n",
       "      <td>1.825232e-01</td>\n",
       "      <td>7.260739e-01</td>\n",
       "      <td>1.291205e-02</td>\n",
       "      <td>8.421103e-01</td>\n",
       "      <td>4.979452e-01</td>\n",
       "      <td>2.179716e+00</td>\n",
       "      <td>1.699817e-01</td>\n",
       "      <td>4.793463e-01</td>\n",
       "      <td>2.616571e-01</td>\n",
       "    </tr>\n",
       "    <tr>\n",
       "      <th>std</th>\n",
       "      <td>4.210622e+01</td>\n",
       "      <td>7.761611e-01</td>\n",
       "      <td>1.815535e+00</td>\n",
       "      <td>1.619427e-01</td>\n",
       "      <td>2.515710e-01</td>\n",
       "      <td>3.842901e-03</td>\n",
       "      <td>9.496977e-01</td>\n",
       "      <td>6.050608e-01</td>\n",
       "      <td>8.691922e-01</td>\n",
       "      <td>3.538638e-01</td>\n",
       "      <td>4.995734e-01</td>\n",
       "      <td>4.395370e-01</td>\n",
       "    </tr>\n",
       "    <tr>\n",
       "      <th>min</th>\n",
       "      <td>2.000001e+01</td>\n",
       "      <td>-1.444092e+00</td>\n",
       "      <td>-3.141602e+00</td>\n",
       "      <td>0.000000e+00</td>\n",
       "      <td>8.843994e-02</td>\n",
       "      <td>1.957417e-04</td>\n",
       "      <td>0.000000e+00</td>\n",
       "      <td>0.000000e+00</td>\n",
       "      <td>6.103516e-05</td>\n",
       "      <td>0.000000e+00</td>\n",
       "      <td>0.000000e+00</td>\n",
       "      <td>0.000000e+00</td>\n",
       "    </tr>\n",
       "    <tr>\n",
       "      <th>25%</th>\n",
       "      <td>2.546105e+01</td>\n",
       "      <td>-6.296387e-01</td>\n",
       "      <td>-1.559814e+00</td>\n",
       "      <td>1.556396e-02</td>\n",
       "      <td>5.478516e-01</td>\n",
       "      <td>9.407043e-03</td>\n",
       "      <td>1.769875e-01</td>\n",
       "      <td>6.402592e-02</td>\n",
       "      <td>1.475775e+00</td>\n",
       "      <td>2.141247e-02</td>\n",
       "      <td>0.000000e+00</td>\n",
       "      <td>0.000000e+00</td>\n",
       "    </tr>\n",
       "    <tr>\n",
       "      <th>50%</th>\n",
       "      <td>3.477301e+01</td>\n",
       "      <td>8.710861e-03</td>\n",
       "      <td>1.387024e-02</td>\n",
       "      <td>1.738281e-01</td>\n",
       "      <td>7.490234e-01</td>\n",
       "      <td>1.229095e-02</td>\n",
       "      <td>5.840967e-01</td>\n",
       "      <td>3.181359e-01</td>\n",
       "      <td>2.314305e+00</td>\n",
       "      <td>4.039979e-02</td>\n",
       "      <td>0.000000e+00</td>\n",
       "      <td>0.000000e+00</td>\n",
       "    </tr>\n",
       "    <tr>\n",
       "      <th>75%</th>\n",
       "      <td>5.539150e+01</td>\n",
       "      <td>6.379395e-01</td>\n",
       "      <td>1.586426e+00</td>\n",
       "      <td>3.095703e-01</td>\n",
       "      <td>9.282227e-01</td>\n",
       "      <td>1.573181e-02</td>\n",
       "      <td>1.181197e+00</td>\n",
       "      <td>7.093032e-01</td>\n",
       "      <td>2.893131e+00</td>\n",
       "      <td>8.766920e-02</td>\n",
       "      <td>1.000000e+00</td>\n",
       "      <td>1.000000e+00</td>\n",
       "    </tr>\n",
       "    <tr>\n",
       "      <th>max</th>\n",
       "      <td>1.324450e+03</td>\n",
       "      <td>1.444092e+00</td>\n",
       "      <td>3.141602e+00</td>\n",
       "      <td>3.257812e+00</td>\n",
       "      <td>2.051562e+01</td>\n",
       "      <td>3.082275e-02</td>\n",
       "      <td>3.100977e+01</td>\n",
       "      <td>1.734663e+01</td>\n",
       "      <td>4.904033e+00</td>\n",
       "      <td>3.610590e+00</td>\n",
       "      <td>1.000000e+00</td>\n",
       "      <td>1.000000e+00</td>\n",
       "    </tr>\n",
       "  </tbody>\n",
       "</table>\n",
       "</div>"
      ],
      "text/plain": [
       "          photon_pt    photon_eta    photon_phi    photon_hoe     photon_r9  \\\n",
       "count  1.362199e+06  1.362199e+06  1.362199e+06  1.362199e+06  1.362199e+06   \n",
       "mean   4.906322e+01  3.509713e-03  1.244407e-02  1.825232e-01  7.260739e-01   \n",
       "std    4.210622e+01  7.761611e-01  1.815535e+00  1.619427e-01  2.515710e-01   \n",
       "min    2.000001e+01 -1.444092e+00 -3.141602e+00  0.000000e+00  8.843994e-02   \n",
       "25%    2.546105e+01 -6.296387e-01 -1.559814e+00  1.556396e-02  5.478516e-01   \n",
       "50%    3.477301e+01  8.710861e-03  1.387024e-02  1.738281e-01  7.490234e-01   \n",
       "75%    5.539150e+01  6.379395e-01  1.586426e+00  3.095703e-01  9.282227e-01   \n",
       "max    1.324450e+03  1.444092e+00  3.141602e+00  3.257812e+00  2.051562e+01   \n",
       "\n",
       "       photon_sieie  photon_pfRelIso03_all  photon_pfRelIso03_chg  \\\n",
       "count  1.362199e+06           1.362199e+06           1.362199e+06   \n",
       "mean   1.291205e-02           8.421103e-01           4.979452e-01   \n",
       "std    3.842901e-03           9.496977e-01           6.050608e-01   \n",
       "min    1.957417e-04           0.000000e+00           0.000000e+00   \n",
       "25%    9.407043e-03           1.769875e-01           6.402592e-02   \n",
       "50%    1.229095e-02           5.840967e-01           3.181359e-01   \n",
       "75%    1.573181e-02           1.181197e+00           7.093032e-01   \n",
       "max    3.082275e-02           3.100977e+01           1.734663e+01   \n",
       "\n",
       "       deltaR_photon_lepton  deltaR_photon_jet          file  \\\n",
       "count          1.362199e+06       1.362199e+06  1.362199e+06   \n",
       "mean           2.179716e+00       1.699817e-01  4.793463e-01   \n",
       "std            8.691922e-01       3.538638e-01  4.995734e-01   \n",
       "min            6.103516e-05       0.000000e+00  0.000000e+00   \n",
       "25%            1.475775e+00       2.141247e-02  0.000000e+00   \n",
       "50%            2.314305e+00       4.039979e-02  0.000000e+00   \n",
       "75%            2.893131e+00       8.766920e-02  1.000000e+00   \n",
       "max            4.904033e+00       3.610590e+00  1.000000e+00   \n",
       "\n",
       "       photon_genPartFlav  \n",
       "count        1.362199e+06  \n",
       "mean         2.616571e-01  \n",
       "std          4.395370e-01  \n",
       "min          0.000000e+00  \n",
       "25%          0.000000e+00  \n",
       "50%          0.000000e+00  \n",
       "75%          1.000000e+00  \n",
       "max          1.000000e+00  "
      ]
     },
     "execution_count": 16,
     "metadata": {},
     "output_type": "execute_result"
    }
   ],
   "source": [
    "# relabel 13 (prompt electrons) as 0\n",
    "df['photon_genPartFlav'] = df['photon_genPartFlav'].replace(13,0)\n",
    "df.describe()"
   ]
  },
  {
   "cell_type": "code",
   "execution_count": 17,
   "metadata": {},
   "outputs": [
    {
     "data": {
      "text/plain": [
       "0    1005770\n",
       "1     356429\n",
       "Name: photon_genPartFlav, dtype: int64"
      ]
     },
     "execution_count": 17,
     "metadata": {},
     "output_type": "execute_result"
    }
   ],
   "source": [
    "df['photon_genPartFlav'].value_counts()"
   ]
  },
  {
   "cell_type": "code",
   "execution_count": 18,
   "metadata": {},
   "outputs": [
    {
     "data": {
      "text/html": [
       "<div>\n",
       "<style scoped>\n",
       "    .dataframe tbody tr th:only-of-type {\n",
       "        vertical-align: middle;\n",
       "    }\n",
       "\n",
       "    .dataframe tbody tr th {\n",
       "        vertical-align: top;\n",
       "    }\n",
       "\n",
       "    .dataframe thead th {\n",
       "        text-align: right;\n",
       "    }\n",
       "</style>\n",
       "<table border=\"1\" class=\"dataframe\">\n",
       "  <thead>\n",
       "    <tr style=\"text-align: right;\">\n",
       "      <th></th>\n",
       "      <th>photon_pt</th>\n",
       "      <th>photon_eta</th>\n",
       "      <th>photon_phi</th>\n",
       "      <th>photon_hoe</th>\n",
       "      <th>photon_r9</th>\n",
       "      <th>photon_sieie</th>\n",
       "      <th>photon_pfRelIso03_all</th>\n",
       "      <th>photon_pfRelIso03_chg</th>\n",
       "      <th>deltaR_photon_lepton</th>\n",
       "      <th>deltaR_photon_jet</th>\n",
       "      <th>file</th>\n",
       "      <th>photon_genPartFlav</th>\n",
       "    </tr>\n",
       "  </thead>\n",
       "  <tbody>\n",
       "    <tr>\n",
       "      <th>0</th>\n",
       "      <td>79.276085</td>\n",
       "      <td>-0.075348</td>\n",
       "      <td>-2.450684</td>\n",
       "      <td>0.164062</td>\n",
       "      <td>0.435791</td>\n",
       "      <td>0.014397</td>\n",
       "      <td>0.047569</td>\n",
       "      <td>0.023416</td>\n",
       "      <td>2.238493</td>\n",
       "      <td>0.011533</td>\n",
       "      <td>0.0</td>\n",
       "      <td>0</td>\n",
       "    </tr>\n",
       "    <tr>\n",
       "      <th>1</th>\n",
       "      <td>29.967369</td>\n",
       "      <td>-0.605591</td>\n",
       "      <td>-1.234375</td>\n",
       "      <td>0.307617</td>\n",
       "      <td>0.895508</td>\n",
       "      <td>0.018478</td>\n",
       "      <td>2.158426</td>\n",
       "      <td>1.643791</td>\n",
       "      <td>3.142428</td>\n",
       "      <td>0.010509</td>\n",
       "      <td>0.0</td>\n",
       "      <td>0</td>\n",
       "    </tr>\n",
       "    <tr>\n",
       "      <th>2</th>\n",
       "      <td>66.590996</td>\n",
       "      <td>1.353516</td>\n",
       "      <td>2.028320</td>\n",
       "      <td>0.145020</td>\n",
       "      <td>0.519531</td>\n",
       "      <td>0.010857</td>\n",
       "      <td>0.257907</td>\n",
       "      <td>0.114259</td>\n",
       "      <td>3.289150</td>\n",
       "      <td>0.023781</td>\n",
       "      <td>0.0</td>\n",
       "      <td>0</td>\n",
       "    </tr>\n",
       "    <tr>\n",
       "      <th>3</th>\n",
       "      <td>33.870628</td>\n",
       "      <td>0.123627</td>\n",
       "      <td>0.236298</td>\n",
       "      <td>0.281250</td>\n",
       "      <td>0.405762</td>\n",
       "      <td>0.011902</td>\n",
       "      <td>0.931639</td>\n",
       "      <td>0.849794</td>\n",
       "      <td>2.786459</td>\n",
       "      <td>0.316535</td>\n",
       "      <td>0.0</td>\n",
       "      <td>0</td>\n",
       "    </tr>\n",
       "    <tr>\n",
       "      <th>4</th>\n",
       "      <td>22.035528</td>\n",
       "      <td>-0.709961</td>\n",
       "      <td>-2.442871</td>\n",
       "      <td>0.267578</td>\n",
       "      <td>0.511230</td>\n",
       "      <td>0.010422</td>\n",
       "      <td>1.443260</td>\n",
       "      <td>0.963974</td>\n",
       "      <td>1.247723</td>\n",
       "      <td>0.066349</td>\n",
       "      <td>0.0</td>\n",
       "      <td>0</td>\n",
       "    </tr>\n",
       "  </tbody>\n",
       "</table>\n",
       "</div>"
      ],
      "text/plain": [
       "   photon_pt  photon_eta  photon_phi  photon_hoe  photon_r9  photon_sieie  \\\n",
       "0  79.276085   -0.075348   -2.450684    0.164062   0.435791      0.014397   \n",
       "1  29.967369   -0.605591   -1.234375    0.307617   0.895508      0.018478   \n",
       "2  66.590996    1.353516    2.028320    0.145020   0.519531      0.010857   \n",
       "3  33.870628    0.123627    0.236298    0.281250   0.405762      0.011902   \n",
       "4  22.035528   -0.709961   -2.442871    0.267578   0.511230      0.010422   \n",
       "\n",
       "   photon_pfRelIso03_all  photon_pfRelIso03_chg  deltaR_photon_lepton  \\\n",
       "0               0.047569               0.023416              2.238493   \n",
       "1               2.158426               1.643791              3.142428   \n",
       "2               0.257907               0.114259              3.289150   \n",
       "3               0.931639               0.849794              2.786459   \n",
       "4               1.443260               0.963974              1.247723   \n",
       "\n",
       "   deltaR_photon_jet  file  photon_genPartFlav  \n",
       "0           0.011533   0.0                   0  \n",
       "1           0.010509   0.0                   0  \n",
       "2           0.023781   0.0                   0  \n",
       "3           0.316535   0.0                   0  \n",
       "4           0.066349   0.0                   0  "
      ]
     },
     "execution_count": 18,
     "metadata": {},
     "output_type": "execute_result"
    }
   ],
   "source": [
    "df.head()"
   ]
  },
  {
   "cell_type": "code",
   "execution_count": null,
   "metadata": {},
   "outputs": [],
   "source": []
  },
  {
   "cell_type": "code",
   "execution_count": 19,
   "metadata": {},
   "outputs": [],
   "source": [
    "### split into train, val, test datasets ###\n",
    "\n",
    "X = df.drop(['photon_genPartFlav'],axis=1)\n",
    "y = df['photon_genPartFlav']\n",
    "\n",
    "# shuffle & split into training, validation, testing datasets\n",
    "X_train, X_test, y_train, y_test = train_test_split(X, y, test_size=0.2, random_state=1)\n",
    "X_train, X_val, y_train, y_val = train_test_split(X_train, y_train, test_size=0.25, random_state=1)\n"
   ]
  },
  {
   "cell_type": "code",
   "execution_count": 20,
   "metadata": {},
   "outputs": [],
   "source": [
    "# remove event type feature from datasets\n",
    "file_test = X_test['file']\n",
    "\n",
    "X_train = X_train.drop(['file'],axis=1)\n",
    "X_test = X_test.drop(['file'],axis=1)\n",
    "X_val = X_val.drop(['file'],axis=1)\n"
   ]
  },
  {
   "cell_type": "code",
   "execution_count": 21,
   "metadata": {},
   "outputs": [],
   "source": [
    "# Scale: mean=0, stdev=1\n",
    "scaler = StandardScaler()\n",
    "\n",
    "X_train_scaled = scaler.fit_transform(X_train)\n",
    "X_val_scaled = scaler.fit_transform(X_val)\n",
    "X_test_scaled = scaler.fit_transform(X_test)\n"
   ]
  },
  {
   "cell_type": "markdown",
   "metadata": {},
   "source": [
    "## Build & train model"
   ]
  },
  {
   "cell_type": "code",
   "execution_count": 22,
   "metadata": {},
   "outputs": [
    {
     "name": "stdout",
     "output_type": "stream",
     "text": [
      "Model: \"sequential\"\n",
      "_________________________________________________________________\n",
      "Layer (type)                 Output Shape              Param #   \n",
      "=================================================================\n",
      "dense (Dense)                (None, 32)                352       \n",
      "_________________________________________________________________\n",
      "dense_1 (Dense)              (None, 32)                1056      \n",
      "_________________________________________________________________\n",
      "dense_2 (Dense)              (None, 1)                 33        \n",
      "=================================================================\n",
      "Total params: 1,441\n",
      "Trainable params: 1,441\n",
      "Non-trainable params: 0\n",
      "_________________________________________________________________\n"
     ]
    }
   ],
   "source": [
    "model = Sequential()\n",
    "model.add(Dense(32, input_shape=(X_train.shape[1],), activation=\"relu\"))\n",
    "model.add(Dense(32, activation=\"relu\"))\n",
    "model.add(Dense(1,activation=\"sigmoid\"))\n",
    "\n",
    "model.compile(\"adam\", \"binary_crossentropy\", metrics=[\"accuracy\"])\n",
    "model.summary()"
   ]
  },
  {
   "cell_type": "code",
   "execution_count": 23,
   "metadata": {},
   "outputs": [
    {
     "name": "stdout",
     "output_type": "stream",
     "text": [
      "Epoch 1/5\n",
      "1597/1597 [==============================] - 4s 3ms/step - loss: 0.1637 - accuracy: 0.9385\n",
      "Epoch 2/5\n",
      "1597/1597 [==============================] - 5s 3ms/step - loss: 0.1284 - accuracy: 0.9523\n",
      "Epoch 3/5\n",
      "1597/1597 [==============================] - 4s 2ms/step - loss: 0.1236 - accuracy: 0.9541\n",
      "Epoch 4/5\n",
      "1597/1597 [==============================] - 5s 3ms/step - loss: 0.1209 - accuracy: 0.9550\n",
      "Epoch 5/5\n",
      "1597/1597 [==============================] - 4s 2ms/step - loss: 0.1194 - accuracy: 0.9554\n"
     ]
    },
    {
     "data": {
      "text/plain": [
       "<tensorflow.python.keras.callbacks.History at 0x7f132841c220>"
      ]
     },
     "execution_count": 23,
     "metadata": {},
     "output_type": "execute_result"
    }
   ],
   "source": [
    "model.fit(X_train_scaled, y_train, epochs=5, batch_size=512)"
   ]
  },
  {
   "cell_type": "code",
   "execution_count": 24,
   "metadata": {},
   "outputs": [
    {
     "name": "stdout",
     "output_type": "stream",
     "text": [
      "Test loss: 0.11794\n",
      "Test accuracy: 0.95606\n"
     ]
    }
   ],
   "source": [
    "loss, accuracy = model.evaluate(X_test_scaled,y_test,verbose=0)\n",
    "print(f'Test loss: {round(loss,5)}\\nTest accuracy: {round(accuracy,5)}')"
   ]
  },
  {
   "cell_type": "code",
   "execution_count": 25,
   "metadata": {},
   "outputs": [],
   "source": [
    "y_pred = model.predict(X_test_scaled)\n",
    "fpr, tpr, thresholds = roc_curve(y_test, y_pred)\n",
    "area_under_curve = auc(fpr, tpr)"
   ]
  },
  {
   "cell_type": "code",
   "execution_count": 26,
   "metadata": {},
   "outputs": [
    {
     "data": {
      "image/png": "[encoded data removed]",
      "text/plain": [
       "<Figure size 600x400 with 1 Axes>"
      ]
     },
     "metadata": {
      "needs_background": "light"
     },
     "output_type": "display_data"
    }
   ],
   "source": [
    "plt.figure(figsize=(6,4),dpi=100)\n",
    "\n",
    "plt.plot([0,1], [0,1], 'k--')\n",
    "plt.plot(fpr, tpr, label='area = {:.3f}'.format(area_under_curve))\n",
    "\n",
    "plt.xlabel('False positive rate')\n",
    "plt.ylabel('True positive rate')\n",
    "plt.title('ROC curve')\n",
    "plt.legend(loc='best')\n",
    "plt.show()"
   ]
  },
  {
   "cell_type": "code",
   "execution_count": 27,
   "metadata": {},
   "outputs": [],
   "source": [
    "predTrue  = y_pred[y_test==True]\n",
    "predFalse = y_pred[y_test==False]"
   ]
  },
  {
   "cell_type": "code",
   "execution_count": 57,
   "metadata": {
    "scrolled": false
   },
   "outputs": [
    {
     "data": {
      "image/png": "[encoded data removed]",
      "text/plain": [
       "<Figure size 600x400 with 1 Axes>"
      ]
     },
     "metadata": {
      "needs_background": "light"
     },
     "output_type": "display_data"
    }
   ],
   "source": [
    "plt.figure(figsize=(6,4),dpi=100)\n",
    "\n",
    "plt.hist(predTrue,bins=50,alpha=0.5,density=True,label='prompt photon')\n",
    "plt.hist(predFalse,bins=50,alpha=0.5,density=True,label='fake photon')\n",
    "\n",
    "plt.xlabel('Predicted Label')\n",
    "plt.ylabel('Counts')\n",
    "plt.title('Prediction')\n",
    "plt.legend(loc='best')\n",
    "plt.show()"
   ]
  },
  {
   "cell_type": "code",
   "execution_count": 54,
   "metadata": {},
   "outputs": [],
   "source": [
    "## plot prediction distribution only for photons with DR > 0.4 ##\n",
    "\n",
    "y_pred_cutDR = y_pred[(X_test[\"deltaR_photon_lepton\"] > 0.4) & (X_test[\"deltaR_photon_jet\"] > 0.4)]\n",
    "y_test_cutDR = y_test[(X_test[\"deltaR_photon_lepton\"] > 0.4) & (X_test[\"deltaR_photon_jet\"] > 0.4)]\n",
    "\n",
    "predTrue_cutDR  = y_pred_cutDR[y_test_cutDR==True]\n",
    "predFalse_cutDR = y_pred_cutDR[y_test_cutDR==False]"
   ]
  },
  {
   "cell_type": "code",
   "execution_count": 58,
   "metadata": {},
   "outputs": [
    {
     "data": {
      "image/png": "[encoded data removed]",
      "text/plain": [
       "<Figure size 600x400 with 1 Axes>"
      ]
     },
     "metadata": {
      "needs_background": "light"
     },
     "output_type": "display_data"
    }
   ],
   "source": [
    "plt.figure(figsize=(6,4),dpi=100)\n",
    "\n",
    "plt.hist(predTrue_cutDR,bins=50,alpha=0.5,density=True,label='prompt photon')\n",
    "plt.hist(predFalse_cutDR,bins=50,alpha=0.5,density=True,label='fake photon')\n",
    "\n",
    "plt.xlabel('Predicted Label')\n",
    "plt.ylabel('Counts')\n",
    "plt.title('Prediction, Photons with $\\Delta R > 0.4$')\n",
    "plt.legend(loc='best')\n",
    "plt.show()"
   ]
  },
  {
   "cell_type": "markdown",
   "metadata": {},
   "source": [
    "### Evaluate the model on data"
   ]
  },
  {
   "cell_type": "code",
   "execution_count": 29,
   "metadata": {
    "scrolled": true
   },
   "outputs": [
    {
     "data": {
      "text/html": [
       "<div>\n",
       "<style scoped>\n",
       "    .dataframe tbody tr th:only-of-type {\n",
       "        vertical-align: middle;\n",
       "    }\n",
       "\n",
       "    .dataframe tbody tr th {\n",
       "        vertical-align: top;\n",
       "    }\n",
       "\n",
       "    .dataframe thead th {\n",
       "        text-align: right;\n",
       "    }\n",
       "</style>\n",
       "<table border=\"1\" class=\"dataframe\">\n",
       "  <thead>\n",
       "    <tr style=\"text-align: right;\">\n",
       "      <th></th>\n",
       "      <th>photon_pt</th>\n",
       "      <th>photon_eta</th>\n",
       "      <th>photon_phi</th>\n",
       "      <th>photon_hoe</th>\n",
       "      <th>photon_r9</th>\n",
       "      <th>photon_sieie</th>\n",
       "      <th>photon_pfRelIso03_all</th>\n",
       "      <th>photon_pfRelIso03_chg</th>\n",
       "      <th>deltaR_photon_lepton</th>\n",
       "      <th>deltaR_photon_jet</th>\n",
       "    </tr>\n",
       "  </thead>\n",
       "  <tbody>\n",
       "    <tr>\n",
       "      <th>count</th>\n",
       "      <td>8743.000000</td>\n",
       "      <td>8743.000000</td>\n",
       "      <td>8743.000000</td>\n",
       "      <td>8743.000000</td>\n",
       "      <td>8743.000000</td>\n",
       "      <td>8743.000000</td>\n",
       "      <td>8743.000000</td>\n",
       "      <td>8743.000000</td>\n",
       "      <td>8743.000000</td>\n",
       "      <td>8743.000000</td>\n",
       "    </tr>\n",
       "    <tr>\n",
       "      <th>mean</th>\n",
       "      <td>48.844124</td>\n",
       "      <td>-0.001477</td>\n",
       "      <td>-0.006091</td>\n",
       "      <td>0.223218</td>\n",
       "      <td>0.672649</td>\n",
       "      <td>0.013949</td>\n",
       "      <td>1.040128</td>\n",
       "      <td>0.601470</td>\n",
       "      <td>2.249400</td>\n",
       "      <td>0.068099</td>\n",
       "    </tr>\n",
       "    <tr>\n",
       "      <th>std</th>\n",
       "      <td>42.629852</td>\n",
       "      <td>0.792872</td>\n",
       "      <td>1.815690</td>\n",
       "      <td>0.155518</td>\n",
       "      <td>0.259802</td>\n",
       "      <td>0.003653</td>\n",
       "      <td>0.972655</td>\n",
       "      <td>0.627394</td>\n",
       "      <td>0.855156</td>\n",
       "      <td>0.166884</td>\n",
       "    </tr>\n",
       "    <tr>\n",
       "      <th>min</th>\n",
       "      <td>20.002771</td>\n",
       "      <td>-1.443604</td>\n",
       "      <td>-3.140625</td>\n",
       "      <td>0.000000</td>\n",
       "      <td>0.125732</td>\n",
       "      <td>0.003870</td>\n",
       "      <td>0.000000</td>\n",
       "      <td>0.000000</td>\n",
       "      <td>0.002021</td>\n",
       "      <td>0.000427</td>\n",
       "    </tr>\n",
       "    <tr>\n",
       "      <th>25%</th>\n",
       "      <td>24.961231</td>\n",
       "      <td>-0.661133</td>\n",
       "      <td>-1.582153</td>\n",
       "      <td>0.085693</td>\n",
       "      <td>0.501465</td>\n",
       "      <td>0.010864</td>\n",
       "      <td>0.399883</td>\n",
       "      <td>0.188194</td>\n",
       "      <td>1.587928</td>\n",
       "      <td>0.019248</td>\n",
       "    </tr>\n",
       "    <tr>\n",
       "      <th>50%</th>\n",
       "      <td>33.986900</td>\n",
       "      <td>-0.000775</td>\n",
       "      <td>0.015211</td>\n",
       "      <td>0.221680</td>\n",
       "      <td>0.672852</td>\n",
       "      <td>0.013824</td>\n",
       "      <td>0.780743</td>\n",
       "      <td>0.426636</td>\n",
       "      <td>2.383305</td>\n",
       "      <td>0.034804</td>\n",
       "    </tr>\n",
       "    <tr>\n",
       "      <th>75%</th>\n",
       "      <td>54.494076</td>\n",
       "      <td>0.650574</td>\n",
       "      <td>1.552979</td>\n",
       "      <td>0.343750</td>\n",
       "      <td>0.834473</td>\n",
       "      <td>0.016541</td>\n",
       "      <td>1.361864</td>\n",
       "      <td>0.818062</td>\n",
       "      <td>2.926016</td>\n",
       "      <td>0.060586</td>\n",
       "    </tr>\n",
       "    <tr>\n",
       "      <th>max</th>\n",
       "      <td>599.480103</td>\n",
       "      <td>1.443359</td>\n",
       "      <td>3.140137</td>\n",
       "      <td>1.355469</td>\n",
       "      <td>6.789062</td>\n",
       "      <td>0.026962</td>\n",
       "      <td>13.611495</td>\n",
       "      <td>7.809951</td>\n",
       "      <td>4.723557</td>\n",
       "      <td>2.619408</td>\n",
       "    </tr>\n",
       "  </tbody>\n",
       "</table>\n",
       "</div>"
      ],
      "text/plain": [
       "         photon_pt   photon_eta   photon_phi   photon_hoe    photon_r9  \\\n",
       "count  8743.000000  8743.000000  8743.000000  8743.000000  8743.000000   \n",
       "mean     48.844124    -0.001477    -0.006091     0.223218     0.672649   \n",
       "std      42.629852     0.792872     1.815690     0.155518     0.259802   \n",
       "min      20.002771    -1.443604    -3.140625     0.000000     0.125732   \n",
       "25%      24.961231    -0.661133    -1.582153     0.085693     0.501465   \n",
       "50%      33.986900    -0.000775     0.015211     0.221680     0.672852   \n",
       "75%      54.494076     0.650574     1.552979     0.343750     0.834473   \n",
       "max     599.480103     1.443359     3.140137     1.355469     6.789062   \n",
       "\n",
       "       photon_sieie  photon_pfRelIso03_all  photon_pfRelIso03_chg  \\\n",
       "count   8743.000000            8743.000000            8743.000000   \n",
       "mean       0.013949               1.040128               0.601470   \n",
       "std        0.003653               0.972655               0.627394   \n",
       "min        0.003870               0.000000               0.000000   \n",
       "25%        0.010864               0.399883               0.188194   \n",
       "50%        0.013824               0.780743               0.426636   \n",
       "75%        0.016541               1.361864               0.818062   \n",
       "max        0.026962              13.611495               7.809951   \n",
       "\n",
       "       deltaR_photon_lepton  deltaR_photon_jet  \n",
       "count           8743.000000        8743.000000  \n",
       "mean               2.249400           0.068099  \n",
       "std                0.855156           0.166884  \n",
       "min                0.002021           0.000427  \n",
       "25%                1.587928           0.019248  \n",
       "50%                2.383305           0.034804  \n",
       "75%                2.926016           0.060586  \n",
       "max                4.723557           2.619408  "
      ]
     },
     "execution_count": 29,
     "metadata": {},
     "output_type": "execute_result"
    }
   ],
   "source": [
    "X_data = pd.DataFrame({\n",
    "    'photon_pt': np.array(outputData['photon_pt'].value),\n",
    "    'photon_eta': np.array(outputData['photon_eta'].value),\n",
    "    'photon_phi': np.array(outputData['photon_phi'].value),\n",
    "    'photon_hoe': np.array(outputData['photon_hoe'].value),\n",
    "    'photon_r9': np.array(outputData['photon_r9'].value),\n",
    "    'photon_sieie': np.array(outputData['photon_sieie'].value),\n",
    "    'photon_pfRelIso03_all': np.array(outputData['photon_pfRelIso03_all'].value),\n",
    "    'photon_pfRelIso03_chg': np.array(outputData['photon_pfRelIso03_chg'].value),\n",
    "    #'photon_count': np.array(outputData['photon_count'].value),\n",
    "    \n",
    "    'deltaR_photon_lepton': np.array(outputData['deltaR_photon_lepton'].value),\n",
    "    'deltaR_photon_jet': np.array(outputData['deltaR_photon_jet'].value),\n",
    "})\n",
    "\n",
    "X_data.describe()"
   ]
  },
  {
   "cell_type": "code",
   "execution_count": 30,
   "metadata": {},
   "outputs": [],
   "source": [
    "scaler = StandardScaler()\n",
    "X_data_scaled = scaler.fit_transform(X_data)"
   ]
  },
  {
   "cell_type": "code",
   "execution_count": 31,
   "metadata": {},
   "outputs": [],
   "source": [
    "y_pred_data = model.predict(X_data_scaled)"
   ]
  },
  {
   "cell_type": "code",
   "execution_count": 32,
   "metadata": {
    "scrolled": false
   },
   "outputs": [
    {
     "data": {
      "image/png": "[encoded data removed]",
      "text/plain": [
       "<Figure size 600x400 with 1 Axes>"
      ]
     },
     "metadata": {
      "needs_background": "light"
     },
     "output_type": "display_data"
    }
   ],
   "source": [
    "plt.figure(figsize=(6,4),dpi=100)\n",
    "\n",
    "plt.hist(y_pred,bins=50,alpha=0.5,density=True,label=\"MC dataset\")\n",
    "plt.hist(y_pred_data,bins=50,alpha=0.4,density=True,label=\"real dataset\")\n",
    "\n",
    "plt.xlabel(\"Predicted Label\")\n",
    "plt.ylabel(\"counts\")\n",
    "plt.title(\"Evaluate Model on Data\")\n",
    "plt.legend()\n",
    "plt.show()"
   ]
  },
  {
   "cell_type": "code",
   "execution_count": null,
   "metadata": {},
   "outputs": [],
   "source": []
  },
  {
   "cell_type": "markdown",
   "metadata": {},
   "source": [
    "### Compare mvaID"
   ]
  },
  {
   "cell_type": "code",
   "execution_count": 33,
   "metadata": {},
   "outputs": [],
   "source": [
    "# separate y_pred by dataset\n",
    "y_pred_ttg = y_pred[file_test==1]\n",
    "y_pred_ttb = y_pred[file_test==0]"
   ]
  },
  {
   "cell_type": "code",
   "execution_count": 34,
   "metadata": {},
   "outputs": [
    {
     "data": {
      "image/png": "[encoded data removed]",
      "text/plain": [
       "<Figure size 600x400 with 2 Axes>"
      ]
     },
     "metadata": {
      "needs_background": "light"
     },
     "output_type": "display_data"
    }
   ],
   "source": [
    "fig, ax1 = plt.subplots(figsize=(6,4),dpi=100)\n",
    "\n",
    "hist.plot1d(outputMC['photon_mvaid_hist'],stack=False,density=True,ax=ax1)\n",
    "ax1.set_xlim(-1.1,1.1)\n",
    "\n",
    "ax2 = ax1.twiny()\n",
    "ax2.hist(2*y_pred_ttg,bins=25,density=True,alpha=0.4,color=\"blue\")\n",
    "ax2.hist(2*y_pred_ttb,bins=25,density=True,alpha=0.4,color=\"orange\")\n",
    "ax2.set_xlabel(\"new model\")\n",
    "\n",
    "plt.ylim(0,11)\n",
    "plt.title(\"Compare new model to mvaID\")\n",
    "plt.show()"
   ]
  },
  {
   "cell_type": "code",
   "execution_count": 35,
   "metadata": {},
   "outputs": [
    {
     "data": {
      "image/png": "[encoded data removed]",
      "text/plain": [
       "<Figure size 600x400 with 1 Axes>"
      ]
     },
     "metadata": {
      "needs_background": "light"
     },
     "output_type": "display_data"
    }
   ],
   "source": [
    "# just new model\n",
    "plt.figure(figsize=(6,4),dpi=100)\n",
    "\n",
    "plt.hist(y_pred_ttg,bins=25,density=True,alpha=0.5,label=\"TTGamma\")\n",
    "plt.hist(y_pred_ttb,bins=25,density=True,alpha=0.5,label=\"TTbar\")\n",
    "\n",
    "plt.xlabel(\"Predicted Label\")\n",
    "plt.ylabel(\"Counts\")\n",
    "plt.title(\"Prediction by Dataset\")\n",
    "plt.legend()\n",
    "plt.show()"
   ]
  },
  {
   "cell_type": "code",
   "execution_count": 36,
   "metadata": {},
   "outputs": [
    {
     "data": {
      "image/png": "[encoded data removed]",
      "text/plain": [
       "<Figure size 600x400 with 1 Axes>"
      ]
     },
     "metadata": {
      "needs_background": "light"
     },
     "output_type": "display_data"
    }
   ],
   "source": [
    "# just MVA ID\n",
    "plt.figure(figsize=(6,4),dpi=100)\n",
    "\n",
    "hist.plot1d(outputMC['photon_mvaid_hist'],stack=False,density=True)\n",
    "plt.xlim(-1.1,1.1)\n",
    "\n",
    "plt.xlabel(\"Predicted Label\")\n",
    "plt.ylabel(\"Counts\")\n",
    "plt.title(\"MVA ID\")\n",
    "plt.legend()\n",
    "plt.show()"
   ]
  },
  {
   "cell_type": "code",
   "execution_count": null,
   "metadata": {},
   "outputs": [],
   "source": []
  }
 ],
 "metadata": {
  "kernelspec": {
   "display_name": "Python 3",
   "language": "python",
   "name": "python3"
  },
  "language_info": {
   "codemirror_mode": {
    "name": "ipython",
    "version": 3
   },
   "file_extension": ".py",
   "mimetype": "text/x-python",
   "name": "python",
   "nbconvert_exporter": "python",
   "pygments_lexer": "ipython3",
   "version": "3.8.5"
  }
 },
 "nbformat": 4,
 "nbformat_minor": 4
}
