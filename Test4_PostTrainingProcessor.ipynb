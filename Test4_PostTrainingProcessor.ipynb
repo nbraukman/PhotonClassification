{
 "cells": [
  {
   "cell_type": "markdown",
   "metadata": {},
   "source": [
    "# testing for post-training processor"
   ]
  },
  {
   "cell_type": "code",
   "execution_count": 1,
   "metadata": {},
   "outputs": [],
   "source": [
    "import numpy as np\n",
    "import pandas as pd\n",
    "import awkward as ak\n",
    "import matplotlib.pyplot as plt\n",
    "import matplotlib.colors as colors\n",
    "import seaborn as sns"
   ]
  },
  {
   "cell_type": "code",
   "execution_count": 2,
   "metadata": {},
   "outputs": [],
   "source": [
    "from sklearn.preprocessing import StandardScaler, MinMaxScaler\n",
    "from sklearn.model_selection import train_test_split\n",
    "from sklearn.metrics import roc_curve, auc"
   ]
  },
  {
   "cell_type": "code",
   "execution_count": 3,
   "metadata": {},
   "outputs": [],
   "source": [
    "from keras.models import load_model"
   ]
  },
  {
   "cell_type": "code",
   "execution_count": 4,
   "metadata": {},
   "outputs": [],
   "source": [
    "import uproot\n",
    "from coffea import hist, util\n",
    "import coffea.processor as processor\n",
    "from coffea.nanoevents import NanoEventsFactory, NanoAODSchema\n",
    "from coffea.util import save, load"
   ]
  },
  {
   "cell_type": "markdown",
   "metadata": {},
   "source": [
    "## load model"
   ]
  },
  {
   "cell_type": "code",
   "execution_count": 5,
   "metadata": {},
   "outputs": [],
   "source": [
    "path = !pwd\n",
    "\n",
    "model = load_model(path[0])"
   ]
  },
  {
   "cell_type": "markdown",
   "metadata": {},
   "source": [
    "## load data"
   ]
  },
  {
   "cell_type": "code",
   "execution_count": 6,
   "metadata": {},
   "outputs": [],
   "source": [
    "#Define files to run over\n",
    "skimDir=\"/udrive/staff/dnoonan/Skims\"\n",
    "\n",
    "fileset = {\"TTGamma\":[f\"{skimDir}/TTGamma_SingleLept_2016_skim.root\"],\n",
    "           \"TTbar\":[f\"{skimDir}/TTbarPowheg_Semilept_2016_skim_1of10.root\",\n",
    "                    f\"{skimDir}/TTbarPowheg_Semilept_2016_skim_2of10.root\"],\n",
    "          }\n",
    "\n",
    "filesetData = {\"DataMu\":[f\"{skimDir}/Data_SingleMu_b_2016_skim_1of10.root\"],\n",
    "              }"
   ]
  },
  {
   "cell_type": "code",
   "execution_count": 7,
   "metadata": {},
   "outputs": [],
   "source": [
    "np.warnings.filterwarnings('ignore')\n",
    "\n",
    "#the NanoAODSchema needs to be adjusted, to remove cross references to FSRPhotons\n",
    "class SkimmedSchema(NanoAODSchema):\n",
    "    def __init__(self, base_form):\n",
    "        base_form[\"contents\"].pop(\"Muon_fsrPhotonIdx\", None)\n",
    "        super().__init__(base_form)"
   ]
  },
  {
   "cell_type": "code",
   "execution_count": 8,
   "metadata": {},
   "outputs": [],
   "source": [
    "# events from TTGamma\n",
    "events = NanoEventsFactory.from_root(fileset[\"TTGamma\"][0],\n",
    "                                     schemaclass=SkimmedSchema,\n",
    "                                     entry_stop=10000).events()\n",
    "\n",
    "dataset = \"TTGamma\""
   ]
  },
  {
   "cell_type": "code",
   "execution_count": 9,
   "metadata": {},
   "outputs": [],
   "source": [
    "######## object & event selection ########\n",
    "# muons\n",
    "muons=events.Muon\n",
    "muonSelectTight = ((muons.pt>30) &\n",
    "                   (abs(muons.eta)<2.4) &\n",
    "                   (muons.tightId) &\n",
    "                   (muons.pfRelIso04_all < 0.15)\n",
    "                  )\n",
    "tightMuons = muons[muonSelectTight]\n",
    "\n",
    "# jets & b-tagged jets\n",
    "jets=events.Jet\n",
    "jetSelectTight = ((jets.pt>30) &\n",
    "                  (abs(jets.eta)<2.4) &\n",
    "                  (jets.isTight)\n",
    "                 )\n",
    "btaggedJetSelect = (jetSelectTight &\n",
    "                   (jets.btagDeepB>0.6321)\n",
    "                  )\n",
    "tightJets = jets[jetSelectTight]\n",
    "tightBJets = jets[btaggedJetSelect]\n",
    "\n",
    "# electrons\n",
    "electrons=events.Electron\n",
    "electronSelectTight = ((electrons.pt> 35) &\n",
    "                       (abs(electrons.eta)<2.1) &\n",
    "                       electrons.cutBased>=4 # tight cut-based ID\n",
    "                      )\n",
    "tightEle = electrons[electronSelectTight]\n",
    "\n",
    "\n",
    "# delta R cuts\n",
    "phoMu, phoMuDR = events.Photon.nearest(tightMuons,return_metric=True)\n",
    "phoMuMask = ak.fill_none(phoMuDR>0.4,True)\n",
    "\n",
    "phoJet, phoJetDR = events.Photon.nearest(tightJets,return_metric=True)\n",
    "phoJetMask = ak.fill_none(phoJetDR>0.4,True)\n",
    "\n",
    "\n",
    "# photons\n",
    "photons = events.Photon\n",
    "photonSelect= ((photons.pt>20) &\n",
    "               (abs(photons.eta) < 1.4442) &\n",
    "               (photons.isScEtaEE | photons.isScEtaEB) &\n",
    "               (photons.electronVeto) & \n",
    "               np.invert(photons.pixelSeed) &\n",
    "               phoMuMask & phoJetMask\n",
    "               )\n",
    "tightPhotons = photons[photonSelect]\n",
    "\n",
    "tightPhoMu, tightPhoMuDR = tightPhotons.nearest(tightMuons,return_metric=True)\n",
    "tightPhoJet, tightPhoJetDR = tightPhotons.nearest(tightJets,return_metric=True)\n",
    "        \n",
    "\n",
    "# events\n",
    "trigger = events.HLT.IsoMu24 | events.HLT.IsoTkMu24\n",
    "\n",
    "eventSelection = (trigger &\n",
    "                  (ak.num(tightMuons)==1) &\n",
    "                  (ak.num(tightJets)>=4) & \n",
    "                  (ak.num(tightBJets)>=1) &\n",
    "                  (ak.num(tightEle)==0) &\n",
    "                  (ak.num(tightPhotons)>=1))"
   ]
  },
  {
   "cell_type": "code",
   "execution_count": 10,
   "metadata": {},
   "outputs": [],
   "source": [
    "############## prediction ###############\n",
    "X = pd.DataFrame({\n",
    "    'photon_pt': ak.to_numpy(ak.flatten(tightPhotons[eventSelection].pt)),\n",
    "    'photon_eta': ak.to_numpy(ak.flatten(tightPhotons[eventSelection].eta)),\n",
    "    'photon_phi': ak.to_numpy(ak.flatten(tightPhotons[eventSelection].phi)),\n",
    "    'photon_hoe': ak.to_numpy(ak.flatten(tightPhotons[eventSelection].hoe)),\n",
    "    'photon_r9': ak.to_numpy(ak.flatten(tightPhotons[eventSelection].r9)),\n",
    "    'photon_sieie': ak.to_numpy(ak.flatten(tightPhotons[eventSelection].sieie)),\n",
    "    'photon_pfRelIso03_all': ak.to_numpy(ak.flatten(tightPhotons[eventSelection].pfRelIso03_all)),\n",
    "    'photon_pfRelIso03_chg': ak.to_numpy(ak.flatten(tightPhotons[eventSelection].pfRelIso03_chg)),\n",
    "    'deltaR_photon_lepton': ak.to_numpy(ak.flatten(tightPhoMuDR[eventSelection])),\n",
    "    'deltaR_photon_jet': ak.to_numpy(ak.flatten(tightPhoJetDR[eventSelection])),\n",
    "})\n",
    "\n",
    "scaler = StandardScaler()\n",
    "X_scaled = scaler.fit_transform(X)"
   ]
  },
  {
   "cell_type": "code",
   "execution_count": 11,
   "metadata": {},
   "outputs": [
    {
     "data": {
      "text/plain": [
       "(535,)"
      ]
     },
     "execution_count": 11,
     "metadata": {},
     "output_type": "execute_result"
    }
   ],
   "source": [
    "ak.to_numpy(ak.flatten(tightPhotons[eventSelection].pt)).shape"
   ]
  },
  {
   "cell_type": "code",
   "execution_count": 12,
   "metadata": {},
   "outputs": [
    {
     "data": {
      "text/plain": [
       "(535, 1)"
      ]
     },
     "execution_count": 12,
     "metadata": {},
     "output_type": "execute_result"
    }
   ],
   "source": [
    "y_pred = model.predict(X_scaled)\n",
    "y_pred.shape"
   ]
  },
  {
   "cell_type": "code",
   "execution_count": 13,
   "metadata": {},
   "outputs": [
    {
     "data": {
      "text/plain": [
       "(535,)"
      ]
     },
     "execution_count": 13,
     "metadata": {},
     "output_type": "execute_result"
    }
   ],
   "source": [
    "y_pred = y_pred.reshape(y_pred.shape[0])\n",
    "y_pred.shape"
   ]
  },
  {
   "cell_type": "markdown",
   "metadata": {},
   "source": [
    "## histograms"
   ]
  },
  {
   "cell_type": "code",
   "execution_count": 14,
   "metadata": {},
   "outputs": [],
   "source": [
    "# declare axes\n",
    "dataset_axis = hist.Cat(\"dataset\",\"Dataset\")\n",
    "\n",
    "photon_pt_axis = hist.Bin(\"pt\",\"$p_{T}$ [GeV]\", 40, 0, 200)\n",
    "photon_eta_axis = hist.Bin(\"eta\",\"$\\eta$\", 50, -2, 2)\n",
    "photon_phi_axis = hist.Bin(\"phi\",\"$\\phi$\", 64, -3.2, 3.2)\n",
    "photon_reliso_all_axis = hist.Bin(\"reliso\",\"pfRelIso03_all\", 40, 0, 0.2)\n",
    "photon_reliso_chg_axis = hist.Bin(\"reliso\",\"pfRelIso03_chg\", 40, 0, 0.2)\n",
    "photon_sieie_axis = hist.Bin(\"sieie\",\"$\\sigma_{i\\eta i\\eta}$\", 40, 0, 0.03)\n",
    "photon_r9_axis = hist.Bin(\"r9\",\"R9\", 40, 0.2, 1.1)\n",
    "photon_hoe_axis = hist.Bin(\"hoe\",\"H over E\", 40, 0, 0.1)\n",
    "\n",
    "mu_deltar_axis = hist.Bin(\"deltar\",\"$\\Delta R$: photon-muon\", 50, 0, 4)\n",
    "jet_deltar_axis = hist.Bin(\"deltar\",\"$\\Delta R$: photon-jet\", 50, 0, 4)\n",
    "\n",
    "mvaid_axis = hist.Bin(\"mvaid\", \"mvaID\", 25,-1,1)\n",
    "\n",
    "flavLabel_axis = hist.Bin(\"flav\",None,[0,1,2])\n",
    "photon_genPartFlav_axis = hist.Bin(\"flav\",\"genPartFlav\",14,0,14)\n",
    "prediction_axis = hist.Bin(\"pred\",\"Prediction\",30,0,1)"
   ]
  },
  {
   "cell_type": "code",
   "execution_count": 15,
   "metadata": {},
   "outputs": [],
   "source": [
    "# create histograms\n",
    "photon_pt_hist = hist.Hist(\"Counts\", dataset_axis, photon_pt_axis, flavLabel_axis)\n",
    "photon_eta_hist = hist.Hist(\"Counts\", dataset_axis, photon_eta_axis, flavLabel_axis)\n",
    "photon_phi_hist = hist.Hist(\"Counts\", dataset_axis, photon_phi_axis, flavLabel_axis)\n",
    "photon_reliso_all_hist = hist.Hist(\"Counts\", dataset_axis, photon_reliso_all_axis, flavLabel_axis)\n",
    "photon_reliso_chg_hist = hist.Hist(\"Counts\", dataset_axis, photon_reliso_chg_axis, flavLabel_axis)\n",
    "photon_sieie_hist = hist.Hist(\"Counts\", dataset_axis, photon_sieie_axis, flavLabel_axis)\n",
    "photon_r9_hist = hist.Hist(\"Counts\", dataset_axis, photon_r9_axis, flavLabel_axis)\n",
    "photon_hoe_hist = hist.Hist(\"Counts\", dataset_axis, photon_hoe_axis, flavLabel_axis)\n",
    "deltaR_photon_lepton_hist = hist.Hist(\"Counts\", dataset_axis, mu_deltar_axis, flavLabel_axis)\n",
    "deltaR_photon_jet_hist = hist.Hist(\"Counts\", dataset_axis, jet_deltar_axis, flavLabel_axis)\n",
    "\n",
    "photon_mvaid_hist = hist.Hist(\"Counts\", dataset_axis, mvaid_axis, flavLabel_axis)\n",
    "photon_genPartFlav_hist = hist.Hist(\"Counts\", dataset_axis, photon_genPartFlav_axis)\n",
    "prediction_hist = hist.Hist(\"Counts\", dataset_axis, prediction_axis, flavLabel_axis)"
   ]
  },
  {
   "cell_type": "code",
   "execution_count": 16,
   "metadata": {},
   "outputs": [],
   "source": [
    "# fill histograms\n",
    "flavLabel = ak.to_numpy(ak.flatten(tightPhotons[eventSelection].genPartFlav))\n",
    "flavLabel[flavLabel == 13] = 0 # relabel prompt electrons as fake photons\n",
    "\n",
    "photon_pt_hist.fill(dataset=dataset, flav=flavLabel,\n",
    "                    pt=ak.to_numpy(ak.flatten(tightPhotons[eventSelection].pt)))\n",
    "photon_eta_hist.fill(dataset=dataset, flav=flavLabel,\n",
    "                     eta=ak.to_numpy(ak.flatten(tightPhotons[eventSelection].eta)))\n",
    "photon_phi_hist.fill(dataset=dataset, flav=flavLabel,\n",
    "                     phi=ak.to_numpy(ak.flatten(tightPhotons[eventSelection].phi)))\n",
    "photon_reliso_all_hist.fill(dataset=dataset, flav=flavLabel,\n",
    "                            reliso=ak.to_numpy(ak.flatten(tightPhotons[eventSelection].pfRelIso03_all)))\n",
    "photon_reliso_chg_hist.fill(dataset=dataset, flav=flavLabel,\n",
    "                            reliso=ak.to_numpy(ak.flatten(tightPhotons[eventSelection].pfRelIso03_chg)))\n",
    "photon_sieie_hist.fill(dataset=dataset, flav=flavLabel,\n",
    "                       sieie=ak.to_numpy(ak.flatten(tightPhotons[eventSelection].sieie)))\n",
    "photon_r9_hist.fill(dataset=dataset, flav=flavLabel,\n",
    "                    r9=ak.to_numpy(ak.flatten(tightPhotons[eventSelection].r9)))\n",
    "photon_hoe_hist.fill(dataset=dataset, flav=flavLabel,\n",
    "                     hoe=ak.to_numpy(ak.flatten(tightPhotons[eventSelection].hoe)))\n",
    "deltaR_photon_lepton_hist.fill(dataset=dataset, flav=flavLabel,\n",
    "                               deltar=ak.to_numpy(ak.flatten(tightPhoMuDR[eventSelection])))\n",
    "deltaR_photon_jet_hist.fill(dataset=dataset, flav=flavLabel,\n",
    "                            deltar=ak.to_numpy(ak.flatten(tightPhoJetDR[eventSelection])))\n",
    "\n",
    "\n",
    "photon_mvaid_hist.fill(dataset=dataset, flav=flavLabel,\n",
    "                       mvaid=ak.to_numpy(ak.flatten(tightPhotons[eventSelection].mvaID)))\n",
    "photon_genPartFlav_hist.fill(dataset=dataset,\n",
    "                             flav=ak.to_numpy(ak.flatten(tightPhotons[eventSelection].genPartFlav)))\n",
    "prediction_hist.fill(dataset=dataset, flav=flavLabel,\n",
    "                     pred=model.predict(X_scaled).reshape(model.predict(X_scaled).shape[0]))"
   ]
  },
  {
   "cell_type": "code",
   "execution_count": 17,
   "metadata": {},
   "outputs": [
    {
     "data": {
      "text/plain": [
       "(535,)"
      ]
     },
     "execution_count": 17,
     "metadata": {},
     "output_type": "execute_result"
    }
   ],
   "source": [
    "model.predict(X_scaled).reshape(model.predict(X_scaled).shape[0]).shape"
   ]
  },
  {
   "cell_type": "code",
   "execution_count": 18,
   "metadata": {},
   "outputs": [
    {
     "data": {
      "text/plain": [
       "<AxesSubplot:xlabel='Prediction', ylabel='Counts'>"
      ]
     },
     "execution_count": 18,
     "metadata": {},
     "output_type": "execute_result"
    },
    {
     "data": {
      "image/png": "[encoded data removed]",
      "text/plain": [
       "<Figure size 432x288 with 1 Axes>"
      ]
     },
     "metadata": {
      "needs_background": "light"
     },
     "output_type": "display_data"
    }
   ],
   "source": [
    "hist.plot1d(prediction_hist.sum('dataset'),overlay='flav')"
   ]
  },
  {
   "cell_type": "markdown",
   "metadata": {},
   "source": [
    "## scale according to luminosity"
   ]
  },
  {
   "cell_type": "code",
   "execution_count": 19,
   "metadata": {},
   "outputs": [
    {
     "name": "stdout",
     "output_type": "stream",
     "text": [
      "{'TTGamma': 11005200.0, 'TTbar': 17673700.0}\n"
     ]
    }
   ],
   "source": [
    "nEvents = {}\n",
    "for d in fileset:\n",
    "    if not d in nEvents:\n",
    "        nEvents[d] = 0\n",
    "    for fName in fileset[d]:\n",
    "        with uproot.open(fName)['hEvents'] as hEvents:\n",
    "            nEvents[d] += hEvents.values()[0] + hEvents.values()[2]\n",
    "\n",
    "print(nEvents)"
   ]
  },
  {
   "cell_type": "code",
   "execution_count": 20,
   "metadata": {},
   "outputs": [
    {
     "name": "stdout",
     "output_type": "stream",
     "text": [
      "{'TTGamma': 0.0003957420128666449, 'TTbar': 0.012473624651318061}\n"
     ]
    }
   ],
   "source": [
    "# cross-section\n",
    "cx = {'TTGamma':7.509,\n",
    "      'TTbar': 380.095,}\n",
    "\n",
    "# weights\n",
    "lumi_weight = {}\n",
    "for keyName in fileset:\n",
    "    lumi_weight[keyName] = (cx[keyName]*580.)/nEvents[keyName]\n",
    "\n",
    "print(lumi_weight)"
   ]
  },
  {
   "cell_type": "code",
   "execution_count": 21,
   "metadata": {},
   "outputs": [],
   "source": [
    "photon_pt_hist.scale(lumi_weight, axis=\"dataset\")"
   ]
  },
  {
   "cell_type": "code",
   "execution_count": 22,
   "metadata": {},
   "outputs": [],
   "source": [
    "photon_eta_hist.scale(lumi_weight, axis=\"dataset\")\n",
    "photon_phi_hist.scale(lumi_weight, axis=\"dataset\")\n",
    "photon_reliso_all_hist.scale(lumi_weight, axis=\"dataset\")\n",
    "photon_reliso_chg_hist.scale(lumi_weight, axis=\"dataset\")\n",
    "photon_sieie_hist.scale(lumi_weight, axis=\"dataset\")\n",
    "photon_r9_hist.scale(lumi_weight, axis=\"dataset\")\n",
    "photon_hoe_hist.scale(lumi_weight, axis=\"dataset\")\n",
    "deltaR_photon_lepton_hist.scale(lumi_weight, axis=\"dataset\")\n",
    "deltaR_photon_jet_hist.scale(lumi_weight, axis=\"dataset\")\n",
    "\n",
    "photon_mvaid_hist.scale(lumi_weight, axis=\"dataset\")\n",
    "photon_genPartFlav_hist.scale(lumi_weight, axis=\"dataset\")\n",
    "prediction_hist.scale(lumi_weight, axis=\"dataset\")"
   ]
  },
  {
   "cell_type": "code",
   "execution_count": 23,
   "metadata": {},
   "outputs": [
    {
     "data": {
      "text/plain": [
       "<AxesSubplot:xlabel='Prediction', ylabel='Counts'>"
      ]
     },
     "execution_count": 23,
     "metadata": {},
     "output_type": "execute_result"
    },
    {
     "data": {
      "image/png": "[encoded data removed]",
      "text/plain": [
       "<Figure size 432x288 with 1 Axes>"
      ]
     },
     "metadata": {
      "needs_background": "light"
     },
     "output_type": "display_data"
    }
   ],
   "source": [
    "hist.plot1d(prediction_hist.sum('dataset'),overlay='flav')"
   ]
  },
  {
   "cell_type": "markdown",
   "metadata": {},
   "source": [
    "## try making a processor to do the above\n",
    "Any call to `model` causes Keras (I think it's Keras, and not Coffea/upRoot) to throw an error:\n",
    "```\n",
    "TypeError: cannot pickle '_thread.RLock' object\n",
    "```"
   ]
  },
  {
   "cell_type": "code",
   "execution_count": 32,
   "metadata": {},
   "outputs": [],
   "source": [
    "class PhotonPredictor(processor.ProcessorABC):\n",
    "    def __init__(self):\n",
    "\n",
    "        # declare axes\n",
    "        dataset_axis = hist.Cat(\"dataset\",\"Dataset\")\n",
    "        flavLabel_axis = hist.Bin(\"flav\",None,[0,1,2])\n",
    "        photon_genPartFlav_axis = hist.Bin(\"flav\",\"genPartFlav\",14,0,14)\n",
    "        prediction_axis = hist.Bin(\"pred\",\"Prediction\",30,0,1)\n",
    "        \n",
    "        \n",
    "        # accumulator object: dictionary storing histograms & counters to be filled\n",
    "        self._accumulator = processor.dict_accumulator({\n",
    "            'photon_genPartFlav': processor.column_accumulator(np.ndarray(shape=(0,))),\n",
    "            'prediction': processor.column_accumulator(np.ndarray(shape=(0,))),\n",
    "            \n",
    "            'photon_genPartFlav_hist': hist.Hist(\"Counts\", dataset_axis, photon_genPartFlav_axis),\n",
    "            'prediction_hist': hist.Hist(\"Counts\", dataset_axis, flavLabel_axis, prediction_axis),\n",
    "        })\n",
    "\n",
    "    @property\n",
    "    def accumulator(self):\n",
    "        return self._accumulator\n",
    "\n",
    "    def process(self, events):\n",
    "        \n",
    "        output = self.accumulator.identity()\n",
    "        dataset = events.metadata['dataset']\n",
    "        \n",
    "        ######## object & event selection ########\n",
    "        # muons\n",
    "        muons=events.Muon\n",
    "        muonSelectTight = ((muons.pt>30) &\n",
    "                           (abs(muons.eta)<2.4) &\n",
    "                           (muons.tightId) &\n",
    "                           (muons.pfRelIso04_all < 0.15)\n",
    "                          )\n",
    "        tightMuons = muons[muonSelectTight]\n",
    "        \n",
    "        # jets & b-tagged jets\n",
    "        jets=events.Jet\n",
    "        jetSelectTight = ((jets.pt>30) &\n",
    "                          (abs(jets.eta)<2.4) &\n",
    "                          (jets.isTight)\n",
    "                         )\n",
    "        btaggedJetSelect = (jetSelectTight &\n",
    "                           (jets.btagDeepB>0.6321)\n",
    "                          )\n",
    "        tightJets = jets[jetSelectTight]\n",
    "        tightBJets = jets[btaggedJetSelect]\n",
    "        \n",
    "        # electrons\n",
    "        electrons=events.Electron\n",
    "        electronSelectTight = ((electrons.pt> 35) &\n",
    "                               (abs(electrons.eta)<2.1) &\n",
    "                               electrons.cutBased>=4 # tight cut-based ID\n",
    "                              )\n",
    "        tightEle = electrons[electronSelectTight]\n",
    "        \n",
    "        \n",
    "        # delta R cuts\n",
    "        phoMu, phoMuDR = events.Photon.nearest(tightMuons,return_metric=True)\n",
    "        phoMuMask = ak.fill_none(phoMuDR>0.4,True)\n",
    "        \n",
    "        phoJet, phoJetDR = events.Photon.nearest(tightJets,return_metric=True)\n",
    "        phoJetMask = ak.fill_none(phoJetDR>0.4,True)\n",
    "        \n",
    "        \n",
    "        # photons\n",
    "        photons = events.Photon\n",
    "        photonSelect= ((photons.pt>20) &\n",
    "                       (abs(photons.eta) < 1.4442) &\n",
    "                       (photons.isScEtaEE | photons.isScEtaEB) &\n",
    "                       (photons.electronVeto) & \n",
    "                       np.invert(photons.pixelSeed) &\n",
    "                       phoMuMask & phoJetMask\n",
    "                       )\n",
    "        tightPhotons = photons[photonSelect]\n",
    "        \n",
    "        tightPhoMu, tightPhoMuDR = tightPhotons.nearest(tightMuons,return_metric=True)\n",
    "        tightPhoJet, tightPhoJetDR = tightPhotons.nearest(tightJets,return_metric=True)\n",
    "        \n",
    "        \n",
    "        # events\n",
    "        trigger = events.HLT.IsoMu24 | events.HLT.IsoTkMu24\n",
    "        \n",
    "        eventSelection = (trigger &\n",
    "                          (ak.num(tightMuons)==1) &\n",
    "                          (ak.num(tightJets)>=4) & \n",
    "                          (ak.num(tightBJets)>=1) &\n",
    "                          (ak.num(tightEle)==0) &\n",
    "                          (ak.num(tightPhotons)>=1))\n",
    "\n",
    "        \n",
    "        ######## fill histograms ########\n",
    "        flavLabel = ak.to_numpy(ak.flatten(tightPhotons[eventSelection].genPartFlav))\n",
    "        flavLabel[flavLabel == 13] = 0 # relabel prompt electrons as fake photons\n",
    "        \n",
    "        X = pd.DataFrame({\n",
    "            'photon_pt': ak.to_numpy(ak.flatten(tightPhotons[eventSelection].pt)),\n",
    "            'photon_eta': ak.to_numpy(ak.flatten(tightPhotons[eventSelection].eta)),\n",
    "            'photon_phi': ak.to_numpy(ak.flatten(tightPhotons[eventSelection].phi)),\n",
    "            'photon_hoe': ak.to_numpy(ak.flatten(tightPhotons[eventSelection].hoe)),\n",
    "            'photon_r9': ak.to_numpy(ak.flatten(tightPhotons[eventSelection].r9)),\n",
    "            'photon_sieie': ak.to_numpy(ak.flatten(tightPhotons[eventSelection].sieie)),\n",
    "            'photon_pfRelIso03_all': ak.to_numpy(ak.flatten(tightPhotons[eventSelection].pfRelIso03_all)),\n",
    "            'photon_pfRelIso03_chg': ak.to_numpy(ak.flatten(tightPhotons[eventSelection].pfRelIso03_chg)),\n",
    "            'deltaR_photon_lepton': ak.to_numpy(ak.flatten(tightPhoMuDR[eventSelection])),\n",
    "            'deltaR_photon_jet': ak.to_numpy(ak.flatten(tightPhoJetDR[eventSelection])),\n",
    "        })\n",
    "        \n",
    "        scaler = StandardScaler()\n",
    "        X_scaled = scaler.fit_transform(X)\n",
    "        \n",
    "        print(ak.to_numpy(ak.flatten(tightPhotons[eventSelection].genPartFlav)).shape, X.shape)\n",
    "        \n",
    "        y = model.predict(X_scaled)\n",
    "        \n",
    "        output['photon_genPartFlav_hist'].fill(dataset=dataset,\n",
    "                                               flav=ak.to_numpy(ak.flatten(tightPhotons[eventSelection].genPartFlav)))\n",
    "        #output['prediction_hist'].fill(dataset=dataset, flav=flavLabel,\n",
    "        #                               pred=y.reshape(y.shape[0],))\n",
    "        \n",
    "        ######## fill column accumulators ########\n",
    "        #output['photon_genPartFlav'] = processor.column_accumulator(ak.to_numpy(ak.flatten(tightPhotons.genPartFlav[eventSelection])))\n",
    "        #output['prediction'] = processor.column_accumulator(y.reshape(y.shape[0],))\n",
    "        \n",
    "        return output\n",
    "    \n",
    "    def postprocess(self, accumulator):\n",
    "        return accumulator"
   ]
  },
  {
   "cell_type": "code",
   "execution_count": 33,
   "metadata": {},
   "outputs": [],
   "source": [
    "# Define files to run over\n",
    "skimDir=\"/udrive/staff/dnoonan/Skims\"\n",
    "\n",
    "fileset = {\"TTGamma\":[f\"{skimDir}/TTGamma_SingleLept_2016_skim.root\"],\n",
    "           \"TTbar\":[f\"{skimDir}/TTbarPowheg_Semilept_2016_skim_1of10.root\",\n",
    "                    f\"{skimDir}/TTbarPowheg_Semilept_2016_skim_2of10.root\"]\n",
    "          }\n",
    "filesetData = {\"DataMu\":[f\"{skimDir}/Data_SingleMu_b_2016_skim_1of10.root\"]\n",
    "              }"
   ]
  },
  {
   "cell_type": "code",
   "execution_count": 34,
   "metadata": {},
   "outputs": [],
   "source": [
    "np.warnings.filterwarnings('ignore')\n",
    "\n",
    "# The NanoAODSchema needs to be adjusted, to remove cross references to FSRPhotons\n",
    "class SkimmedSchema(NanoAODSchema):\n",
    "    def __init__(self, base_form):\n",
    "        base_form[\"contents\"].pop(\"Muon_fsrPhotonIdx\", None)\n",
    "        super().__init__(base_form)"
   ]
  },
  {
   "cell_type": "code",
   "execution_count": 35,
   "metadata": {},
   "outputs": [
    {
     "ename": "TypeError",
     "evalue": "cannot pickle '_thread.RLock' object",
     "output_type": "error",
     "traceback": [
      "\u001b[0;31m---------------------------------------------------------------------------\u001b[0m",
      "\u001b[0;31mTypeError\u001b[0m                                 Traceback (most recent call last)",
      "\u001b[0;32m<ipython-input-35-6864af56f7f5>\u001b[0m in \u001b[0;36m<module>\u001b[0;34m\u001b[0m\n\u001b[1;32m      2\u001b[0m \u001b[0;34m\u001b[0m\u001b[0m\n\u001b[1;32m      3\u001b[0m \u001b[0;31m## Monte Carlo\u001b[0m\u001b[0;34m\u001b[0m\u001b[0;34m\u001b[0m\u001b[0;34m\u001b[0m\u001b[0m\n\u001b[0;32m----> 4\u001b[0;31m outputMC = processor.run_uproot_job(\n\u001b[0m\u001b[1;32m      5\u001b[0m     \u001b[0mfileset\u001b[0m\u001b[0;34m,\u001b[0m\u001b[0;34m\u001b[0m\u001b[0;34m\u001b[0m\u001b[0m\n\u001b[1;32m      6\u001b[0m     \u001b[0;34m\"Events\"\u001b[0m\u001b[0;34m,\u001b[0m\u001b[0;34m\u001b[0m\u001b[0;34m\u001b[0m\u001b[0m\n",
      "\u001b[0;32m~/anaconda3/envs/tf_env/lib/python3.8/site-packages/coffea/processor/executor.py\u001b[0m in \u001b[0;36mrun_uproot_job\u001b[0;34m(fileset, treename, processor_instance, executor, executor_args, pre_executor, pre_args, chunksize, maxchunks, metadata_cache)\u001b[0m\n\u001b[1;32m   1367\u001b[0m     \u001b[0;32melse\u001b[0m\u001b[0;34m:\u001b[0m\u001b[0;34m\u001b[0m\u001b[0;34m\u001b[0m\u001b[0m\n\u001b[1;32m   1368\u001b[0m         pi_to_send = lz4f.compress(\n\u001b[0;32m-> 1369\u001b[0;31m             \u001b[0mcloudpickle\u001b[0m\u001b[0;34m.\u001b[0m\u001b[0mdumps\u001b[0m\u001b[0;34m(\u001b[0m\u001b[0mprocessor_instance\u001b[0m\u001b[0;34m)\u001b[0m\u001b[0;34m,\u001b[0m \u001b[0mcompression_level\u001b[0m\u001b[0;34m=\u001b[0m\u001b[0mpi_compression\u001b[0m\u001b[0;34m\u001b[0m\u001b[0;34m\u001b[0m\u001b[0m\n\u001b[0m\u001b[1;32m   1370\u001b[0m         )\n\u001b[1;32m   1371\u001b[0m     closure = partial(\n",
      "\u001b[0;32m~/anaconda3/envs/tf_env/lib/python3.8/site-packages/cloudpickle/cloudpickle_fast.py\u001b[0m in \u001b[0;36mdumps\u001b[0;34m(obj, protocol, buffer_callback)\u001b[0m\n\u001b[1;32m     71\u001b[0m                 \u001b[0mfile\u001b[0m\u001b[0;34m,\u001b[0m \u001b[0mprotocol\u001b[0m\u001b[0;34m=\u001b[0m\u001b[0mprotocol\u001b[0m\u001b[0;34m,\u001b[0m \u001b[0mbuffer_callback\u001b[0m\u001b[0;34m=\u001b[0m\u001b[0mbuffer_callback\u001b[0m\u001b[0;34m\u001b[0m\u001b[0;34m\u001b[0m\u001b[0m\n\u001b[1;32m     72\u001b[0m             )\n\u001b[0;32m---> 73\u001b[0;31m             \u001b[0mcp\u001b[0m\u001b[0;34m.\u001b[0m\u001b[0mdump\u001b[0m\u001b[0;34m(\u001b[0m\u001b[0mobj\u001b[0m\u001b[0;34m)\u001b[0m\u001b[0;34m\u001b[0m\u001b[0;34m\u001b[0m\u001b[0m\n\u001b[0m\u001b[1;32m     74\u001b[0m             \u001b[0;32mreturn\u001b[0m \u001b[0mfile\u001b[0m\u001b[0;34m.\u001b[0m\u001b[0mgetvalue\u001b[0m\u001b[0;34m(\u001b[0m\u001b[0;34m)\u001b[0m\u001b[0;34m\u001b[0m\u001b[0;34m\u001b[0m\u001b[0m\n\u001b[1;32m     75\u001b[0m \u001b[0;34m\u001b[0m\u001b[0m\n",
      "\u001b[0;32m~/anaconda3/envs/tf_env/lib/python3.8/site-packages/cloudpickle/cloudpickle_fast.py\u001b[0m in \u001b[0;36mdump\u001b[0;34m(self, obj)\u001b[0m\n\u001b[1;32m    561\u001b[0m     \u001b[0;32mdef\u001b[0m \u001b[0mdump\u001b[0m\u001b[0;34m(\u001b[0m\u001b[0mself\u001b[0m\u001b[0;34m,\u001b[0m \u001b[0mobj\u001b[0m\u001b[0;34m)\u001b[0m\u001b[0;34m:\u001b[0m\u001b[0;34m\u001b[0m\u001b[0;34m\u001b[0m\u001b[0m\n\u001b[1;32m    562\u001b[0m         \u001b[0;32mtry\u001b[0m\u001b[0;34m:\u001b[0m\u001b[0;34m\u001b[0m\u001b[0;34m\u001b[0m\u001b[0m\n\u001b[0;32m--> 563\u001b[0;31m             \u001b[0;32mreturn\u001b[0m \u001b[0mPickler\u001b[0m\u001b[0;34m.\u001b[0m\u001b[0mdump\u001b[0m\u001b[0;34m(\u001b[0m\u001b[0mself\u001b[0m\u001b[0;34m,\u001b[0m \u001b[0mobj\u001b[0m\u001b[0;34m)\u001b[0m\u001b[0;34m\u001b[0m\u001b[0;34m\u001b[0m\u001b[0m\n\u001b[0m\u001b[1;32m    564\u001b[0m         \u001b[0;32mexcept\u001b[0m \u001b[0mRuntimeError\u001b[0m \u001b[0;32mas\u001b[0m \u001b[0me\u001b[0m\u001b[0;34m:\u001b[0m\u001b[0;34m\u001b[0m\u001b[0;34m\u001b[0m\u001b[0m\n\u001b[1;32m    565\u001b[0m             \u001b[0;32mif\u001b[0m \u001b[0;34m\"recursion\"\u001b[0m \u001b[0;32min\u001b[0m \u001b[0me\u001b[0m\u001b[0;34m.\u001b[0m\u001b[0margs\u001b[0m\u001b[0;34m[\u001b[0m\u001b[0;36m0\u001b[0m\u001b[0;34m]\u001b[0m\u001b[0;34m:\u001b[0m\u001b[0;34m\u001b[0m\u001b[0;34m\u001b[0m\u001b[0m\n",
      "\u001b[0;31mTypeError\u001b[0m: cannot pickle '_thread.RLock' object"
     ]
    }
   ],
   "source": [
    "# Run Coffea code using uproot\n",
    "\n",
    "## Monte Carlo\n",
    "outputMC = processor.run_uproot_job(\n",
    "    fileset,\n",
    "    \"Events\",\n",
    "    PhotonPredictor(),\n",
    "    processor.futures_executor,\n",
    "    executor_args={\"schema\": SkimmedSchema,'workers': 4},\n",
    "    chunksize=100000,\n",
    "    maxchunks=3,\n",
    ")"
   ]
  },
  {
   "cell_type": "code",
   "execution_count": null,
   "metadata": {},
   "outputs": [],
   "source": []
  },
  {
   "cell_type": "code",
   "execution_count": null,
   "metadata": {},
   "outputs": [],
   "source": []
  }
 ],
 "metadata": {
  "kernelspec": {
   "display_name": "Python 3",
   "language": "python",
   "name": "python3"
  },
  "language_info": {
   "codemirror_mode": {
    "name": "ipython",
    "version": 3
   },
   "file_extension": ".py",
   "mimetype": "text/x-python",
   "name": "python",
   "nbconvert_exporter": "python",
   "pygments_lexer": "ipython3",
   "version": "3.8.5"
  }
 },
 "nbformat": 4,
 "nbformat_minor": 4
}
