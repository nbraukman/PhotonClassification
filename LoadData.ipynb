{
 "cells": [
  {
   "cell_type": "markdown",
   "metadata": {},
   "source": [
    "# Load data using coffea"
   ]
  },
  {
   "cell_type": "code",
   "execution_count": 1,
   "metadata": {},
   "outputs": [],
   "source": [
    "import numpy as np\n",
    "import awkward as ak"
   ]
  },
  {
   "cell_type": "code",
   "execution_count": 2,
   "metadata": {},
   "outputs": [],
   "source": [
    "import uproot"
   ]
  },
  {
   "cell_type": "code",
   "execution_count": 3,
   "metadata": {},
   "outputs": [],
   "source": [
    "from coffea import hist, util\n",
    "import coffea.processor as processor\n",
    "from coffea.nanoevents import NanoEventsFactory, NanoAODSchema\n",
    "from coffea.util import save"
   ]
  },
  {
   "cell_type": "code",
   "execution_count": 4,
   "metadata": {},
   "outputs": [],
   "source": [
    "class PhotonSelector(processor.ProcessorABC):\n",
    "    def __init__(self, isMC=True):\n",
    "        \n",
    "        # data is/isn't Monte Carlo\n",
    "        self.isMC = isMC\n",
    "\n",
    "        # declare axes\n",
    "        dataset_axis = hist.Cat(\"dataset\",\"Dataset\")\n",
    "\n",
    "        photon_pt_axis = hist.Bin(\"pt\",\"$p_{T}$ [GeV]\", 40, 0, 200)\n",
    "        photon_eta_axis = hist.Bin(\"eta\",\"$\\eta$\", 50, -2, 2)\n",
    "        photon_phi_axis = hist.Bin(\"phi\",\"$\\phi$\", 64, -3.2, 3.2)\n",
    "        photon_reliso_all_axis = hist.Bin(\"reliso\",\"pfRelIso03_all\", 40, 0, 0.2)\n",
    "        photon_reliso_chg_axis = hist.Bin(\"reliso\",\"pfRelIso03_chg\", 40, 0, 0.2)\n",
    "        photon_sieie_axis = hist.Bin(\"sieie\",\"$\\sigma_{i\\eta i\\eta}$\", 40, 0, 0.03)\n",
    "        photon_r9_axis = hist.Bin(\"r9\",\"R9\", 40, 0.2, 1.1)\n",
    "        photon_hoe_axis = hist.Bin(\"hoe\",\"H over E\", 40, 0, 0.1)\n",
    "        \n",
    "        mu_deltar_axis = hist.Bin(\"deltar\",\"$\\Delta R$: photon-muon\", 50, 0, 4)\n",
    "        jet_deltar_axis = hist.Bin(\"deltar\",\"$\\Delta R$: photon-jet\", 50, 0, 4)\n",
    "        \n",
    "        mvaid_axis = hist.Bin(\"mvaid\", \"mvaID\", 25,-1,1)\n",
    "\n",
    "        flavLabel_axis = hist.Bin(\"flav\",None,[0,1,2,14])\n",
    "        photon_genPartFlav_axis = hist.Bin(\"flav\",\"genPartFlav\",14,0,14)\n",
    "        \n",
    "        \n",
    "        # accumulator object: dictionary storing histograms & counters to be filled\n",
    "        if self.isMC:\n",
    "            self._accumulator = processor.dict_accumulator({\n",
    "\n",
    "                ## column accumulators\n",
    "                'photon_pt': processor.column_accumulator(np.ndarray(shape=(0,))),\n",
    "                'photon_eta': processor.column_accumulator(np.ndarray(shape=(0,))),\n",
    "                'photon_phi': processor.column_accumulator(np.ndarray(shape=(0,))),\n",
    "                'photon_pfRelIso03_all': processor.column_accumulator(np.ndarray(shape=(0,))),\n",
    "                'photon_pfRelIso03_chg': processor.column_accumulator(np.ndarray(shape=(0,))),\n",
    "                'photon_sieie': processor.column_accumulator(np.ndarray(shape=(0,))),\n",
    "                'photon_r9': processor.column_accumulator(np.ndarray(shape=(0,))),\n",
    "                'photon_hoe': processor.column_accumulator(np.ndarray(shape=(0,))),\n",
    "                'deltaR_photon_lepton': processor.column_accumulator(np.ndarray(shape=(0,))),\n",
    "                'deltaR_photon_jet': processor.column_accumulator(np.ndarray(shape=(0,))),\n",
    "                'photon_mvaid': processor.column_accumulator(np.ndarray(shape=(0,))),\n",
    "                'photon_genPartFlav': processor.column_accumulator(np.ndarray(shape=(0,))),\n",
    "                'file': processor.column_accumulator(np.ndarray(shape=(0,))),\n",
    "                \n",
    "                ## histograms for features\n",
    "                'photon_pt_hist': hist.Hist(\"Counts\", dataset_axis, photon_pt_axis, flavLabel_axis),\n",
    "                'photon_eta_hist': hist.Hist(\"Counts\", dataset_axis, photon_eta_axis, flavLabel_axis),\n",
    "                'photon_phi_hist': hist.Hist(\"Counts\", dataset_axis, photon_phi_axis, flavLabel_axis),\n",
    "                'photon_reliso_all_hist': hist.Hist(\"Counts\", dataset_axis, photon_reliso_all_axis, flavLabel_axis),\n",
    "                'photon_reliso_chg_hist': hist.Hist(\"Counts\", dataset_axis, photon_reliso_chg_axis, flavLabel_axis),\n",
    "                'photon_sieie_hist': hist.Hist(\"Counts\", dataset_axis, photon_sieie_axis, flavLabel_axis),\n",
    "                'photon_r9_hist': hist.Hist(\"Counts\", dataset_axis, photon_r9_axis, flavLabel_axis),\n",
    "                'photon_hoe_hist': hist.Hist(\"Counts\", dataset_axis, photon_hoe_axis, flavLabel_axis),\n",
    "                'deltaR_photon_lepton_hist': hist.Hist(\"Counts\", dataset_axis, mu_deltar_axis, flavLabel_axis),\n",
    "                'deltaR_photon_jet_hist': hist.Hist(\"Counts\", dataset_axis, jet_deltar_axis, flavLabel_axis),\n",
    "                'photon_mvaid_hist': hist.Hist(\"Counts\", dataset_axis, mvaid_axis, flavLabel_axis),\n",
    "                'photon_genPartFlav_hist': hist.Hist(\"Counts\", dataset_axis, photon_genPartFlav_axis),\n",
    "            }\n",
    "            )\n",
    "        if self.isMC==0:\n",
    "            self._accumulator = processor.dict_accumulator({\n",
    "                \n",
    "                ## column accumulators\n",
    "                'photon_pt': processor.column_accumulator(np.ndarray(shape=(0,))),\n",
    "                'photon_eta': processor.column_accumulator(np.ndarray(shape=(0,))),\n",
    "                'photon_phi': processor.column_accumulator(np.ndarray(shape=(0,))),\n",
    "                'photon_pfRelIso03_all': processor.column_accumulator(np.ndarray(shape=(0,))),\n",
    "                'photon_pfRelIso03_chg': processor.column_accumulator(np.ndarray(shape=(0,))),\n",
    "                'photon_sieie': processor.column_accumulator(np.ndarray(shape=(0,))),\n",
    "                'photon_r9': processor.column_accumulator(np.ndarray(shape=(0,))),\n",
    "                'photon_hoe': processor.column_accumulator(np.ndarray(shape=(0,))),\n",
    "                'deltaR_photon_lepton': processor.column_accumulator(np.ndarray(shape=(0,))),\n",
    "                'deltaR_photon_jet': processor.column_accumulator(np.ndarray(shape=(0,))),\n",
    "                \n",
    "                ## histograms for features\n",
    "                'photon_pt_hist': hist.Hist(\"Counts\", photon_pt_axis),\n",
    "                'photon_eta_hist': hist.Hist(\"Counts\", photon_eta_axis),\n",
    "                'photon_phi_hist': hist.Hist(\"Counts\", photon_phi_axis),\n",
    "                'photon_reliso_all_hist': hist.Hist(\"Counts\", photon_reliso_all_axis),\n",
    "                'photon_reliso_chg_hist': hist.Hist(\"Counts\", photon_reliso_chg_axis),\n",
    "                'photon_sieie_hist': hist.Hist(\"Counts\", photon_sieie_axis),\n",
    "                'photon_r9_hist': hist.Hist(\"Counts\", photon_r9_axis),\n",
    "                'photon_hoe_hist': hist.Hist(\"Counts\", photon_hoe_axis),\n",
    "                'deltaR_photon_lepton_hist': hist.Hist(\"Counts\", mu_deltar_axis),\n",
    "                'deltaR_photon_jet_hist': hist.Hist(\"Counts\", jet_deltar_axis),\n",
    "            }\n",
    "            )\n",
    "\n",
    "    @property\n",
    "    def accumulator(self):\n",
    "        return self._accumulator\n",
    "\n",
    "    def process(self, events):\n",
    "        \n",
    "        output = self.accumulator.identity()\n",
    "        dataset = events.metadata['dataset']\n",
    "        \n",
    "        ######## object & event selection ########\n",
    "        # muons\n",
    "        muons=events.Muon\n",
    "        muonSelectTight = ((muons.pt>30) &\n",
    "                           (abs(muons.eta)<2.4) &\n",
    "                           (muons.tightId) &\n",
    "                           (muons.pfRelIso04_all < 0.15)\n",
    "                          )\n",
    "        tightMuons = muons[muonSelectTight]\n",
    "        \n",
    "        # jets & b-tagged jets\n",
    "        jets=events.Jet\n",
    "        jetSelectTight = ((jets.pt>30) &\n",
    "                          (abs(jets.eta)<2.4) &\n",
    "                          (jets.isTight)\n",
    "                         )\n",
    "        btaggedJetSelect = (jetSelectTight &\n",
    "                           (jets.btagDeepB>0.6321)\n",
    "                          )\n",
    "        tightJets = jets[jetSelectTight]\n",
    "        tightBJets = jets[btaggedJetSelect]\n",
    "        \n",
    "        # electrons\n",
    "        electrons=events.Electron\n",
    "        electronSelectTight = ((electrons.pt> 35) &\n",
    "                               (abs(electrons.eta)<2.1) &\n",
    "                               electrons.cutBased>=4 # tight cut-based ID\n",
    "                              )\n",
    "        tightEle = electrons[electronSelectTight]\n",
    "        \n",
    "        \n",
    "        # delta R cuts\n",
    "        phoMu, phoMuDR = events.Photon.nearest(tightMuons,return_metric=True)\n",
    "        phoMuMask = ak.fill_none(phoMuDR>0.4,True)\n",
    "        \n",
    "        phoJet, phoJetDR = events.Photon.nearest(tightJets,return_metric=True)\n",
    "        phoJetMask = ak.fill_none(phoJetDR>0.4,True)\n",
    "        \n",
    "        \n",
    "        # photons\n",
    "        photons = events.Photon\n",
    "        photonSelect= ((photons.pt>20) &\n",
    "                       (abs(photons.eta) < 1.4442) &\n",
    "                       (photons.isScEtaEE | photons.isScEtaEB) &\n",
    "                       (photons.electronVeto) & \n",
    "                       np.invert(photons.pixelSeed) &\n",
    "                       phoMuMask & phoJetMask\n",
    "                       )\n",
    "        tightPhotons = photons[photonSelect]\n",
    "        \n",
    "        tightPhoMu, tightPhoMuDR = tightPhotons.nearest(tightMuons,return_metric=True)\n",
    "        tightPhoJet, tightPhoJetDR = tightPhotons.nearest(tightJets,return_metric=True)\n",
    "        \n",
    "        \n",
    "        # events\n",
    "        trigger = events.HLT.IsoMu24 | events.HLT.IsoTkMu24\n",
    "        \n",
    "        eventSelection = (trigger &\n",
    "                          (ak.num(tightMuons)==1) &\n",
    "                          (ak.num(tightJets)>=4) & \n",
    "                          (ak.num(tightBJets)>=1) &\n",
    "                          (ak.num(tightEle)==0) &\n",
    "                          (ak.num(tightPhotons)>=1))\n",
    "\n",
    "        \n",
    "        ######## fill histograms: Monte Carlo ########\n",
    "        if self.isMC:\n",
    "            flavLabel = ak.to_numpy(ak.flatten(tightPhotons[eventSelection].genPartFlav))\n",
    "            ## flavLabel[flavLabel == 13] = 0 # relabel prompt electrons as fake photons\n",
    "            \n",
    "            output['photon_pt_hist'].fill(dataset=dataset, flav=flavLabel,\n",
    "                                          pt=ak.to_numpy(ak.flatten(tightPhotons[eventSelection].pt)))\n",
    "            output['photon_eta_hist'].fill(dataset=dataset, flav=flavLabel,\n",
    "                                           eta=ak.to_numpy(ak.flatten(tightPhotons[eventSelection].eta)))\n",
    "            output['photon_phi_hist'].fill(dataset=dataset, flav=flavLabel,\n",
    "                                           phi=ak.to_numpy(ak.flatten(tightPhotons[eventSelection].phi)))\n",
    "            output['photon_reliso_all_hist'].fill(dataset=dataset, flav=flavLabel,\n",
    "                                                  reliso=ak.to_numpy(ak.flatten(tightPhotons[eventSelection].pfRelIso03_all)))\n",
    "            output['photon_reliso_chg_hist'].fill(dataset=dataset, flav=flavLabel,\n",
    "                                                  reliso=ak.to_numpy(ak.flatten(tightPhotons[eventSelection].pfRelIso03_chg)))\n",
    "            output['photon_sieie_hist'].fill(dataset=dataset, flav=flavLabel,\n",
    "                                             sieie=ak.to_numpy(ak.flatten(tightPhotons[eventSelection].sieie)))\n",
    "            output['photon_r9_hist'].fill(dataset=dataset, flav=flavLabel,\n",
    "                                          r9=ak.to_numpy(ak.flatten(tightPhotons[eventSelection].r9)))\n",
    "            output['photon_hoe_hist'].fill(dataset=dataset, flav=flavLabel,\n",
    "                                           hoe=ak.to_numpy(ak.flatten(tightPhotons[eventSelection].hoe)))\n",
    "            \n",
    "            output['deltaR_photon_lepton_hist'].fill(dataset=dataset, flav=flavLabel,\n",
    "                                                     deltar=ak.to_numpy(ak.flatten(tightPhoMuDR[eventSelection])))\n",
    "            output['deltaR_photon_jet_hist'].fill(dataset=dataset, flav=flavLabel,\n",
    "                                                  deltar=ak.to_numpy(ak.flatten(tightPhoJetDR[eventSelection])))\n",
    "            \n",
    "            output['photon_mvaid_hist'].fill(dataset=dataset, flav=flavLabel,\n",
    "                                             mvaid=ak.to_numpy(ak.flatten(tightPhotons[eventSelection].mvaID)))\n",
    "        \n",
    "            output['photon_genPartFlav_hist'].fill(dataset=dataset,\n",
    "                                                   flav=ak.to_numpy(ak.flatten(tightPhotons[eventSelection].genPartFlav)))\n",
    "        \n",
    "        ######## fill histograms: Data ########\n",
    "        if self.isMC==0:\n",
    "            output['photon_pt_hist'].fill(pt=ak.to_numpy(ak.flatten(tightPhotons[eventSelection].pt)))\n",
    "            output['photon_eta_hist'].fill(eta=ak.to_numpy(ak.flatten(tightPhotons[eventSelection].eta)))\n",
    "            output['photon_phi_hist'].fill(phi=ak.to_numpy(ak.flatten(tightPhotons[eventSelection].phi)))\n",
    "            output['photon_reliso_all_hist'].fill(reliso=ak.to_numpy(ak.flatten(tightPhotons[eventSelection].pfRelIso03_all)))\n",
    "            output['photon_reliso_chg_hist'].fill(reliso=ak.to_numpy(ak.flatten(tightPhotons[eventSelection].pfRelIso03_chg)))\n",
    "            output['photon_sieie_hist'].fill(sieie=ak.to_numpy(ak.flatten(tightPhotons[eventSelection].sieie)))\n",
    "            output['photon_r9_hist'].fill(r9=ak.to_numpy(ak.flatten(tightPhotons[eventSelection].r9)))\n",
    "            output['photon_hoe_hist'].fill(hoe=ak.to_numpy(ak.flatten(tightPhotons[eventSelection].hoe)))\n",
    "            \n",
    "            output['deltaR_photon_lepton_hist'].fill(deltar=ak.to_numpy(ak.flatten(tightPhoMuDR[eventSelection])))\n",
    "            output['deltaR_photon_jet_hist'].fill(deltar=ak.to_numpy(ak.flatten(tightPhoJetDR[eventSelection])))\n",
    "            \n",
    "        \n",
    "        ######## fill column accumulators ########\n",
    "        output['photon_pt'] = processor.column_accumulator(ak.to_numpy(ak.flatten(tightPhotons.pt[eventSelection])))\n",
    "        output['photon_eta'] = processor.column_accumulator(ak.to_numpy(ak.flatten(tightPhotons.eta[eventSelection])))\n",
    "        output['photon_phi'] = processor.column_accumulator(ak.to_numpy(ak.flatten(tightPhotons.phi[eventSelection])))\n",
    "        output['photon_pfRelIso03_all'] = processor.column_accumulator(ak.to_numpy(ak.flatten(tightPhotons.pfRelIso03_all[eventSelection])))\n",
    "        output['photon_pfRelIso03_chg'] = processor.column_accumulator(ak.to_numpy(ak.flatten(tightPhotons.pfRelIso03_chg[eventSelection])))\n",
    "        output['photon_sieie'] = processor.column_accumulator(ak.to_numpy(ak.flatten(tightPhotons.sieie[eventSelection])))\n",
    "        output['photon_r9'] = processor.column_accumulator(ak.to_numpy(ak.flatten(tightPhotons.r9[eventSelection])))\n",
    "        output['photon_hoe'] = processor.column_accumulator(ak.to_numpy(ak.flatten(tightPhotons.hoe[eventSelection])))\n",
    "        \n",
    "        output['deltaR_photon_lepton'] = processor.column_accumulator(ak.to_numpy(ak.flatten(tightPhoMuDR[eventSelection])))\n",
    "        output['deltaR_photon_jet'] = processor.column_accumulator(ak.to_numpy(ak.flatten(tightPhoJetDR[eventSelection])))\n",
    "        \n",
    "        output['photon_mvaid'] = processor.column_accumulator(ak.to_numpy(ak.flatten(tightPhotons.mvaID[eventSelection])))\n",
    "        \n",
    "        if self.isMC:\n",
    "            output['photon_genPartFlav'] = processor.column_accumulator(ak.to_numpy(ak.flatten(tightPhotons.genPartFlav[eventSelection])))\n",
    "            \n",
    "            if dataset=='TTGamma':\n",
    "                output['file'] = processor.column_accumulator(np.ones_like(ak.to_numpy(ak.flatten(tightPhotons.pt[eventSelection]))))\n",
    "            elif dataset=='TTbar':\n",
    "                output['file'] = processor.column_accumulator(np.zeros_like(ak.to_numpy(ak.flatten(tightPhotons.pt[eventSelection]))))\n",
    "            else:\n",
    "                output['file'] = processor.column_accumulator(2*np.ones_like(ak.to_numpy(ak.flatten(tightPhotons.pt[eventSelection]))))\n",
    "        \n",
    "        \n",
    "        return output\n",
    "    \n",
    "    def postprocess(self, accumulator):\n",
    "        return accumulator"
   ]
  },
  {
   "cell_type": "code",
   "execution_count": 5,
   "metadata": {},
   "outputs": [],
   "source": [
    "# Define files to run over\n",
    "skimDir=\"/udrive/staff/dnoonan/Skims\"\n",
    "\n",
    "fileset = {\"TTGamma\":[f\"{skimDir}/TTGamma_SingleLept_2016_skim.root\"],\n",
    "           \"TTbar\":[f\"{skimDir}/TTbarPowheg_Semilept_2016_skim_1of10.root\",\n",
    "                    f\"{skimDir}/TTbarPowheg_Semilept_2016_skim_2of10.root\",\n",
    "                    f\"{skimDir}/TTbarPowheg_Semilept_2016_skim_3of10.root\",\n",
    "                    f\"{skimDir}/TTbarPowheg_Semilept_2016_skim_4of10.root\",\n",
    "                    f\"{skimDir}/TTbarPowheg_Semilept_2016_skim_5of10.root\"],\n",
    "           \"WGamma\":[f\"{skimDir}/WGamma_2016_skim.root\"],\n",
    "           \"Z+jets\":[f'{skimDir}/DYjetsM50_ext2_2016_skim_1of10.root'],\n",
    "           \"W+3jets\":[f\"{skimDir}/W3jets_2016_skim.root\"],\n",
    "           \"W+4jets\":[f\"{skimDir}/W4jets_2016_skim.root\"],\n",
    "          }\n",
    "filesetData = {\"DataMu\":[f\"{skimDir}/Data_SingleMu_b_2016_skim_1of10.root\",\n",
    "                         f\"{skimDir}/Data_SingleMu_b_2016_skim_2of10.root\",\n",
    "                         f\"{skimDir}/Data_SingleMu_b_2016_skim_3of10.root\",\n",
    "                         f\"{skimDir}/Data_SingleMu_b_2016_skim_4of10.root\",\n",
    "                         f\"{skimDir}/Data_SingleMu_b_2016_skim_5of10.root\",\n",
    "                         f\"{skimDir}/Data_SingleMu_b_2016_skim_6of10.root\",\n",
    "                         f\"{skimDir}/Data_SingleMu_b_2016_skim_7of10.root\",\n",
    "                         f\"{skimDir}/Data_SingleMu_b_2016_skim_8of10.root\",\n",
    "                         f\"{skimDir}/Data_SingleMu_b_2016_skim_9of10.root\",\n",
    "                         f\"{skimDir}/Data_SingleMu_b_2016_skim_10of10.root\"]\n",
    "              }"
   ]
  },
  {
   "cell_type": "code",
   "execution_count": 6,
   "metadata": {},
   "outputs": [],
   "source": [
    "np.warnings.filterwarnings('ignore')\n",
    "\n",
    "# The NanoAODSchema needs to be adjusted, to remove cross references to FSRPhotons\n",
    "class SkimmedSchema(NanoAODSchema):\n",
    "    def __init__(self, base_form):\n",
    "        base_form[\"contents\"].pop(\"Muon_fsrPhotonIdx\", None)\n",
    "        super().__init__(base_form)"
   ]
  },
  {
   "cell_type": "code",
   "execution_count": 7,
   "metadata": {},
   "outputs": [
    {
     "data": {
      "application/vnd.jupyter.widget-view+json": {
       "model_id": "63b30eb8b61647959302a0e9e5db49b7",
       "version_major": 2,
       "version_minor": 0
      },
      "text/plain": [
       "Preprocessing:   0%|          | 0/10 [00:00<?, ?file/s]"
      ]
     },
     "metadata": {},
     "output_type": "display_data"
    },
    {
     "data": {
      "application/vnd.jupyter.widget-view+json": {
       "model_id": "cae0029104bc42509d0438bef76460fa",
       "version_major": 2,
       "version_minor": 0
      },
      "text/plain": [
       "Processing:   0%|          | 0/35 [00:00<?, ?chunk/s]"
      ]
     },
     "metadata": {},
     "output_type": "display_data"
    }
   ],
   "source": [
    "# Run Coffea code using uproot\n",
    "\n",
    "## Monte Carlo\n",
    "outputMC = processor.run_uproot_job(\n",
    "    fileset,\n",
    "    \"Events\",\n",
    "    PhotonSelector(),\n",
    "    processor.futures_executor,\n",
    "    executor_args={\"schema\": SkimmedSchema,'workers': 4},\n",
    "    chunksize=1000000,\n",
    "    #maxchunks=3,\n",
    ")"
   ]
  },
  {
   "cell_type": "code",
   "execution_count": 8,
   "metadata": {},
   "outputs": [
    {
     "data": {
      "application/vnd.jupyter.widget-view+json": {
       "model_id": "1cc0ed56901c47dcae0c3b368a18fabe",
       "version_major": 2,
       "version_minor": 0
      },
      "text/plain": [
       "Preprocessing:   0%|          | 0/10 [00:00<?, ?file/s]"
      ]
     },
     "metadata": {},
     "output_type": "display_data"
    },
    {
     "data": {
      "application/vnd.jupyter.widget-view+json": {
       "model_id": "b8d3f1a8ef2e4e92ab5a7056c9f4d91a",
       "version_major": 2,
       "version_minor": 0
      },
      "text/plain": [
       "Processing:   0%|          | 0/78 [00:00<?, ?chunk/s]"
      ]
     },
     "metadata": {},
     "output_type": "display_data"
    }
   ],
   "source": [
    "## Real data\n",
    "\n",
    "outputData = processor.run_uproot_job(\n",
    "    filesetData,\n",
    "    \"Events\",\n",
    "    PhotonSelector(isMC=False),\n",
    "    processor.futures_executor,\n",
    "    executor_args={\"schema\": SkimmedSchema,'workers': 4},\n",
    "    chunksize=1000000,\n",
    "    #maxchunks=3,\n",
    ")"
   ]
  },
  {
   "cell_type": "markdown",
   "metadata": {},
   "source": [
    "## Luminosity scaling"
   ]
  },
  {
   "cell_type": "code",
   "execution_count": 9,
   "metadata": {},
   "outputs": [
    {
     "name": "stdout",
     "output_type": "stream",
     "text": [
      "{'TTGamma': 11005200.0, 'TTbar': 51018200.0, 'WGamma': 6103817.0, 'Z+jets': 8920292.0, 'W+3jets': 19798117.0, 'W+4jets': 9116657.0}\n"
     ]
    }
   ],
   "source": [
    "# get number of events in each dataset\n",
    "nEvents = {}\n",
    "for d in fileset:\n",
    "    if not d in nEvents:\n",
    "        nEvents[d] = 0\n",
    "    for fName in fileset[d]:\n",
    "        with uproot.open(fName)['hEvents'] as hEvents:\n",
    "            nEvents[d] += hEvents.values()[0] + hEvents.values()[2]\n",
    "\n",
    "print(nEvents)"
   ]
  },
  {
   "cell_type": "code",
   "execution_count": 10,
   "metadata": {},
   "outputs": [
    {
     "name": "stdout",
     "output_type": "stream",
     "text": [
      "{'TTGamma': 0.003943773852360702, 'TTbar': 0.043062066086220215, 'WGamma': 0.46305778826593263, 'Z+jets': 3.937800645987822, 'W+3jets': 0.34035491476285346, 'W+4jets': 0.37591232487961324}\n"
     ]
    }
   ],
   "source": [
    "# cross-section\n",
    "cx = {'TTGamma':7.509,\n",
    "     'TTbar': 380.095,\n",
    "     'WGamma':489,\n",
    "     'Z+jets':6077.22,\n",
    "     'W+3jets':1165.8108,\n",
    "     'W+4jets':592.9176}\n",
    "\n",
    "# weights\n",
    "lumi_weight = {}\n",
    "for keyName in fileset:\n",
    "    lumi_weight[keyName] = (cx[keyName]*5780.)/nEvents[keyName]\n",
    "\n",
    "print(lumi_weight)"
   ]
  },
  {
   "cell_type": "code",
   "execution_count": 11,
   "metadata": {},
   "outputs": [],
   "source": [
    "for key, obj in outputMC.items():\n",
    "    if (isinstance(obj, hist.Hist)):\n",
    "        obj.scale(lumi_weight, axis=\"dataset\")"
   ]
  },
  {
   "cell_type": "markdown",
   "metadata": {},
   "source": [
    "## Save outputs"
   ]
  },
  {
   "cell_type": "code",
   "execution_count": 12,
   "metadata": {},
   "outputs": [],
   "source": [
    "save(outputMC,'outputMC.coffea')\n",
    "save(outputData,'outputData.coffea')"
   ]
  },
  {
   "cell_type": "code",
   "execution_count": null,
   "metadata": {},
   "outputs": [],
   "source": []
  }
 ],
 "metadata": {
  "kernelspec": {
   "display_name": "Python 3",
   "language": "python",
   "name": "python3"
  },
  "language_info": {
   "codemirror_mode": {
    "name": "ipython",
    "version": 3
   },
   "file_extension": ".py",
   "mimetype": "text/x-python",
   "name": "python",
   "nbconvert_exporter": "python",
   "pygments_lexer": "ipython3",
   "version": "3.8.5"
  }
 },
 "nbformat": 4,
 "nbformat_minor": 4
}
