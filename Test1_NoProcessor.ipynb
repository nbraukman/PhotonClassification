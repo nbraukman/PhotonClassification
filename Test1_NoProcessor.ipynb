{
 "cells": [
  {
   "cell_type": "markdown",
   "metadata": {},
   "source": [
    "# testing without processor\n",
    "Only `TTGamma` data, distinguishing prompt photons from fake photons\n",
    "\n",
    "* Change labels to come from `genPartFlav` instead of dataset"
   ]
  },
  {
   "cell_type": "code",
   "execution_count": 1,
   "metadata": {},
   "outputs": [],
   "source": [
    "from coffea import hist, util\n",
    "\n",
    "#import coffea.processor as processor\n",
    "from coffea.nanoevents import NanoEventsFactory, NanoAODSchema\n",
    "import awkward as ak\n",
    "import numpy as np\n",
    "import uproot\n",
    "\n",
    "import matplotlib.pyplot as plt\n",
    "import pandas as pd\n",
    "\n",
    "import tensorflow as tf\n",
    "from tensorflow import keras\n",
    "from keras.models import Sequential\n",
    "from keras.layers import Dense\n",
    "\n",
    "from sklearn.preprocessing import StandardScaler, MinMaxScaler\n",
    "from sklearn.model_selection import train_test_split\n",
    "from sklearn.metrics import roc_curve, auc"
   ]
  },
  {
   "cell_type": "code",
   "execution_count": 2,
   "metadata": {},
   "outputs": [],
   "source": [
    "#Define files to run over\n",
    "skimDir=\"/udrive/staff/dnoonan/Skims\"\n",
    "\n",
    "fileset = {\"TTGamma\":[f\"{skimDir}/TTGamma_SingleLept_2016_skim.root\"],\n",
    "           \"TTbar\":[f\"{skimDir}/TTbarPowheg_Semilept_2016_skim_1of10.root\",\n",
    "                    f\"{skimDir}/TTbarPowheg_Semilept_2016_skim_2of10.root\"],\n",
    "          }\n",
    "\n",
    "filesetData = {\"DataMu\":[f\"{skimDir}/Data_SingleMu_b_2016_skim_1of10.root\"],\n",
    "              }"
   ]
  },
  {
   "cell_type": "code",
   "execution_count": 3,
   "metadata": {},
   "outputs": [],
   "source": [
    "np.warnings.filterwarnings('ignore')\n",
    "\n",
    "#the NanoAODSchema needs to be adjusted, to remove cross references to FSRPhotons\n",
    "class SkimmedSchema(NanoAODSchema):\n",
    "    def __init__(self, base_form):\n",
    "        base_form[\"contents\"].pop(\"Muon_fsrPhotonIdx\", None)\n",
    "        super().__init__(base_form)"
   ]
  },
  {
   "cell_type": "code",
   "execution_count": 4,
   "metadata": {},
   "outputs": [],
   "source": [
    "# events from TTGamma\n",
    "events = NanoEventsFactory.from_root(fileset[\"TTGamma\"][0],\n",
    "                                     schemaclass=SkimmedSchema,\n",
    "                                     entry_stop=10000).events()\n",
    "\n",
    "dataset = \"TTGamma\""
   ]
  },
  {
   "cell_type": "code",
   "execution_count": 5,
   "metadata": {},
   "outputs": [],
   "source": [
    "# photon cuts\n",
    "photons = events.Photon\n",
    "photonSelect= ((photons.pt>20) &\n",
    "               (abs(photons.eta) < 1.4442) &\n",
    "               (photons.isScEtaEE | photons.isScEtaEB) &\n",
    "               (photons.electronVeto) & \n",
    "               np.invert(photons.pixelSeed)\n",
    "               )\n",
    "tightPhotons = photons[photonSelect]"
   ]
  },
  {
   "cell_type": "code",
   "execution_count": 6,
   "metadata": {},
   "outputs": [],
   "source": [
    "# muon cuts\n",
    "muons = events.Muon\n",
    "muonSelectTight = ((muons.pt>30) &\n",
    "                   (abs(muons.eta)<2.4) &\n",
    "                   (muons.tightId) &\n",
    "                   (muons.pfRelIso04_all < 0.15)\n",
    "                  )\n",
    "tightMuons = muons[muonSelectTight]"
   ]
  },
  {
   "cell_type": "code",
   "execution_count": 7,
   "metadata": {},
   "outputs": [],
   "source": [
    "# jet & b-tagged jet cuts\n",
    "jets = events.Jet\n",
    "\n",
    "jetSelectTight = ((jets.pt>30) &\n",
    "                  (abs(jets.eta)<2.4) &\n",
    "                  (jets.isTight)\n",
    "                 )\n",
    "btaggedJetSelect = (jetSelectTight &\n",
    "                   (jets.btagDeepB>0.6321)\n",
    "                  )\n",
    "\n",
    "tightJets = jets[jetSelectTight]\n",
    "tightBJets = jets[btaggedJetSelect]"
   ]
  },
  {
   "cell_type": "code",
   "execution_count": 8,
   "metadata": {},
   "outputs": [],
   "source": [
    "# electron cuts\n",
    "electrons = events.Electron\n",
    "electronSelectTight = ((electrons.pt> 35) &\n",
    "                       (abs(electrons.eta)<2.1) &\n",
    "                       (electrons.cutBased>=4)\n",
    "                      )\n",
    "tightEle = electrons[electronSelectTight]"
   ]
  },
  {
   "cell_type": "code",
   "execution_count": 9,
   "metadata": {},
   "outputs": [],
   "source": [
    "# event cuts\n",
    "trigger = events.HLT.IsoMu24 | events.HLT.IsoTkMu24\n",
    "\n",
    "eventSelection = (trigger &\n",
    "                  (ak.num(tightMuons)==1) &\n",
    "                  (ak.num(tightJets)>=4) & \n",
    "                  (ak.num(tightBJets)>=1) &\n",
    "                  (ak.num(tightEle)==0) &\n",
    "                  (ak.num(tightPhotons)==1))"
   ]
  },
  {
   "cell_type": "code",
   "execution_count": null,
   "metadata": {},
   "outputs": [],
   "source": []
  },
  {
   "cell_type": "code",
   "execution_count": 10,
   "metadata": {},
   "outputs": [],
   "source": [
    "##### histograms #####"
   ]
  },
  {
   "cell_type": "code",
   "execution_count": 11,
   "metadata": {},
   "outputs": [],
   "source": [
    "dataset_axis = hist.Cat(\"dataset\",\"Dataset\")\n",
    "\n",
    "photon_pt_axis = hist.Bin(\"pt\",\"photon $p_{T}$ [GeV]\", 40, 0, 400)\n",
    "photon_eta_axis = hist.Bin(\"eta\",\"photon $\\eta$\", 50, -2.5, 2.5)\n",
    "photon_phi_axis = hist.Bin(\"phi\",\"photon $\\phi$\", 64, -3.2, 3.2)\n",
    "photon_reliso_all_axis = hist.Bin(\"reliso\",\"photon pfRelIso03_all\", 40, -0.5, 6)\n",
    "photon_reliso_chg_axis = hist.Bin(\"reliso\",\"photon pfRelIso03_chg\", 40, -0.5, 6)\n",
    "photon_sieie_axis = hist.Bin(\"sieie\",\"photon sigma I eta I eta\", 40, 0, 0.05)\n",
    "photon_r9_axis = hist.Bin(\"r9\",\"photon R9\", 40, -0.5, 1.5)\n",
    "photon_hoe_axis = hist.Bin(\"hoe\",\"photon H over E\", 40, -0.5, 1)\n",
    "photon_count_axis = hist.Bin(\"count\",\"Photon number\",12,-1,10)\n",
    "\n",
    "jet_count_axis = hist.Bin(\"count\",\"Jet number\",21,0,20)\n",
    "jet_pt_axis = hist.Bin(\"pt\",\"jet $p_T$ [GeV]\", 40, 0, 400)\n",
    "jet_eta_axis = hist.Bin(\"eta\",\"jet $\\eta$\", 50, -2.5, 2.5)\n",
    "jet_phi_axis = hist.Bin(\"phi\",\"jet $\\phi$\", 64, -3.2, 3.2)\n",
    "jet_mass_axis = hist.Bin(\"mass\",\"jet mass\", 40, 0, 10)\n",
    "\n",
    "muon_pt_axis = hist.Bin(\"pt\",\"muon $p_T$ [GeV]\", 40, 0, 400)\n",
    "muon_eta_axis = hist.Bin(\"eta\",\"muon $\\eta$\", 50, -2.5, 2.5)\n",
    "muon_phi_axis = hist.Bin(\"phi\",\"muon $\\phi$\", 64, -3.2, 3.2)\n",
    "muon_mass_axis = hist.Bin(\"mass\",\"muon mass [GeV]\", 40, 0, 10)\n",
    "muon_reliso_all_axis = hist.Bin(\"reliso\",\"muon_pfRelIso03_all\",40, -0.5, 6)\n",
    "muon_reliso_chg_axis = hist.Bin(\"reliso\",\"muon_pfRelIso03_chg\",40, -0.5, 6)\n",
    "\n",
    "deltar_axis = hist.Bin(\"deltar\",\"$\\Delta R$\", 50, -0.5, 4)\n",
    "\n",
    "photon_genPartFlav_axis = hist.Bin(\"flav\",\"genPartFlav\",40,-1,15)"
   ]
  },
  {
   "cell_type": "code",
   "execution_count": 12,
   "metadata": {},
   "outputs": [],
   "source": [
    "photon_pt_hist = hist.Hist(\"Counts\", dataset_axis, photon_pt_axis)\n",
    "photon_eta_hist = hist.Hist(\"Counts\", dataset_axis, photon_eta_axis)\n",
    "photon_phi_hist = hist.Hist(\"Counts\", dataset_axis, photon_phi_axis)\n",
    "photon_reliso_all_hist = hist.Hist(\"Counts\", dataset_axis, photon_reliso_all_axis)\n",
    "photon_reliso_chg_hist = hist.Hist(\"Counts\", dataset_axis, photon_reliso_chg_axis)\n",
    "photon_sieie_hist = hist.Hist(\"Counts\", dataset_axis, photon_sieie_axis)\n",
    "photon_r9_hist = hist.Hist(\"Counts\", dataset_axis, photon_r9_axis)\n",
    "photon_hoe_hist = hist.Hist(\"Counts\", dataset_axis, photon_hoe_axis)\n",
    "photon_count_hist = hist.Hist(\"Counts\", dataset_axis, photon_count_axis)\n",
    "\n",
    "jet_count_hist = hist.Hist(\"Counts\", dataset_axis, jet_count_axis)\n",
    "jet_pt_hist = hist.Hist(\"Counts\", dataset_axis, jet_pt_axis)\n",
    "jet_eta_hist = hist.Hist(\"Counts\", dataset_axis, jet_eta_axis)\n",
    "jet_phi_hist = hist.Hist(\"Counts\", dataset_axis, jet_phi_axis)\n",
    "jet_mass_hist = hist.Hist(\"Counts\", dataset_axis, jet_mass_axis)\n",
    "\n",
    "muon_pt_hist = hist.Hist(\"Counts\", dataset_axis, muon_pt_axis)\n",
    "muon_eta_hist = hist.Hist(\"Counts\", dataset_axis, muon_eta_axis)\n",
    "muon_phi_hist = hist.Hist(\"Counts\", dataset_axis, muon_phi_axis)\n",
    "muon_mass_hist = hist.Hist(\"Counts\", dataset_axis, muon_mass_axis)\n",
    "muon_reliso_all_hist = hist.Hist(\"Counts\", dataset_axis, muon_reliso_all_axis)\n",
    "muon_reliso_chg_hist = hist.Hist(\"Counts\", dataset_axis, muon_reliso_chg_axis)\n",
    "\n",
    "deltaR_photon_lepton_hist = hist.Hist(\"Counts\", dataset_axis, deltar_axis)\n",
    "deltaR_photon_jet_hist = hist.Hist(\"Counts\", dataset_axis, deltar_axis)\n",
    "\n",
    "photon_genPartFlav_hist = hist.Hist(\"Counts\", dataset_axis, photon_genPartFlav_axis)"
   ]
  },
  {
   "cell_type": "code",
   "execution_count": 13,
   "metadata": {},
   "outputs": [],
   "source": [
    "photon_pt_hist.fill(dataset=dataset,\n",
    "                    pt=ak.flatten(tightPhotons[eventSelection].pt))\n",
    "photon_eta_hist.fill(dataset=dataset,\n",
    "                     eta=ak.flatten(tightPhotons[eventSelection].eta))\n",
    "photon_phi_hist.fill(dataset=dataset,\n",
    "                     phi=ak.flatten(tightPhotons[eventSelection].phi))\n",
    "photon_reliso_all_hist.fill(dataset=dataset,\n",
    "                            reliso=ak.flatten(tightPhotons[eventSelection].pfRelIso03_all))\n",
    "photon_reliso_chg_hist.fill(dataset=dataset,\n",
    "                            reliso=ak.flatten(tightPhotons[eventSelection].pfRelIso03_chg))\n",
    "photon_sieie_hist.fill(dataset=dataset,\n",
    "                       sieie=ak.flatten(tightPhotons[eventSelection].sieie))\n",
    "photon_r9_hist.fill(dataset=dataset,\n",
    "                    r9=ak.flatten(tightPhotons[eventSelection].r9))\n",
    "photon_hoe_hist.fill(dataset=dataset,\n",
    "                     hoe=ak.flatten(tightPhotons[eventSelection].hoe))\n",
    "photon_count_hist.fill(dataset=dataset,\n",
    "                       count=(ak.num(tightPhotons[eventSelection])))\n",
    "\n",
    "jet_count_hist.fill(dataset=dataset,\n",
    "                    count=(ak.num(tightJets[eventSelection])))\n",
    "jet_pt_hist.fill(dataset=dataset,\n",
    "                 pt=ak.flatten(tightJets[eventSelection].pt))\n",
    "jet_eta_hist.fill(dataset=dataset,\n",
    "                  eta=ak.flatten(tightJets[eventSelection].eta))\n",
    "jet_phi_hist.fill(dataset=dataset,\n",
    "                  phi=ak.flatten(tightJets[eventSelection].phi))\n",
    "jet_mass_hist.fill(dataset=dataset,\n",
    "                   mass=ak.flatten(tightJets[eventSelection].mass))\n",
    "\n",
    "muon_pt_hist.fill(dataset=dataset,\n",
    "                  pt=ak.flatten(tightMuons[eventSelection].pt))\n",
    "muon_eta_hist.fill(dataset=dataset,\n",
    "                   eta=ak.flatten(tightMuons[eventSelection].eta))\n",
    "muon_phi_hist.fill(dataset=dataset,\n",
    "                   phi=ak.flatten(tightMuons[eventSelection].phi))\n",
    "muon_mass_hist.fill(dataset=dataset,\n",
    "                    mass=ak.flatten(tightMuons[eventSelection].mass))\n",
    "muon_reliso_all_hist.fill(dataset=dataset,\n",
    "                          reliso=ak.flatten(tightMuons[eventSelection].pfRelIso03_all))\n",
    "muon_reliso_chg_hist.fill(dataset=dataset,\n",
    "                          reliso=ak.flatten(tightMuons[eventSelection].pfRelIso03_chg))\n",
    "\n",
    "deltaR_photon_lepton_hist.fill(dataset=dataset,\n",
    "                               deltar=ak.flatten(tightPhotons[eventSelection,:1].delta_r(tightMuons[eventSelection,:1])))\n",
    "deltaR_photon_jet_hist.fill(dataset=dataset,\n",
    "                            deltar=ak.flatten(tightPhotons[eventSelection,:1].delta_r(tightJets[eventSelection,:1])))\n",
    "\n",
    "photon_genPartFlav_hist.fill(dataset=dataset,\n",
    "                             flav=ak.flatten(tightPhotons[eventSelection].genPartFlav))"
   ]
  },
  {
   "cell_type": "code",
   "execution_count": 14,
   "metadata": {},
   "outputs": [
    {
     "data": {
      "image/png": "[encoded data removed]",
      "text/plain": [
       "<Figure size 432x288 with 1 Axes>"
      ]
     },
     "metadata": {
      "needs_background": "light"
     },
     "output_type": "display_data"
    }
   ],
   "source": [
    "hist.plot1d(photon_pt_hist,overlay='dataset',stack=False,density=True)\n",
    "plt.show()"
   ]
  },
  {
   "cell_type": "code",
   "execution_count": 15,
   "metadata": {},
   "outputs": [
    {
     "data": {
      "image/png": "[encoded data removed]",
      "text/plain": [
       "<Figure size 432x288 with 1 Axes>"
      ]
     },
     "metadata": {
      "needs_background": "light"
     },
     "output_type": "display_data"
    }
   ],
   "source": [
    "hist.plot1d(deltaR_photon_lepton_hist,overlay='dataset',stack=False,density=True)\n",
    "plt.show()"
   ]
  },
  {
   "cell_type": "code",
   "execution_count": 16,
   "metadata": {},
   "outputs": [
    {
     "data": {
      "image/png": "[encoded data removed]",
      "text/plain": [
       "<Figure size 432x288 with 1 Axes>"
      ]
     },
     "metadata": {
      "needs_background": "light"
     },
     "output_type": "display_data"
    }
   ],
   "source": [
    "hist.plot1d(deltaR_photon_jet_hist,overlay='dataset',stack=False,density=True)\n",
    "plt.show()"
   ]
  },
  {
   "cell_type": "code",
   "execution_count": 17,
   "metadata": {},
   "outputs": [
    {
     "data": {
      "image/png": "[encoded data removed]",
      "text/plain": [
       "<Figure size 432x288 with 1 Axes>"
      ]
     },
     "metadata": {
      "needs_background": "light"
     },
     "output_type": "display_data"
    }
   ],
   "source": [
    "hist.plot1d(photon_genPartFlav_hist,overlay='dataset',stack=False,density=True)\n",
    "plt.show()"
   ]
  },
  {
   "cell_type": "code",
   "execution_count": null,
   "metadata": {},
   "outputs": [],
   "source": []
  },
  {
   "cell_type": "code",
   "execution_count": 18,
   "metadata": {},
   "outputs": [],
   "source": [
    "###### column accumulators #######"
   ]
  },
  {
   "cell_type": "code",
   "execution_count": 19,
   "metadata": {},
   "outputs": [],
   "source": [
    "photon_pt = ak.to_numpy(ak.pad_none(tightPhotons.pt[eventSelection],8,clip=True))\n",
    "photon_eta = ak.to_numpy(ak.pad_none(tightPhotons.eta[eventSelection],8,clip=True))\n",
    "photon_phi = ak.to_numpy(ak.pad_none(tightPhotons.phi[eventSelection],8,clip=True))\n",
    "photon_pfRelIso03_all = ak.to_numpy(ak.pad_none(tightPhotons.pfRelIso03_all[eventSelection],8,clip=True))\n",
    "photon_pfRelIso03_chg = ak.to_numpy(ak.pad_none(tightPhotons.pfRelIso03_chg[eventSelection],8,clip=True))\n",
    "photon_sieie = ak.to_numpy(ak.pad_none(tightPhotons.sieie[eventSelection],8,clip=True))\n",
    "photon_r9 = ak.to_numpy(ak.pad_none(tightPhotons.r9[eventSelection],8,clip=True))\n",
    "photon_hoe = ak.to_numpy(ak.pad_none(tightPhotons.hoe[eventSelection],8,clip=True))\n",
    "photon_count = ak.to_numpy(ak.num(tightPhotons[eventSelection]))\n",
    "photon_genPartFlav = ak.to_numpy(ak.pad_none(tightPhotons.genPartFlav[eventSelection],8,clip=True))\n",
    "\n",
    "###\n",
    "jet_count = ak.to_numpy(ak.num(tightJets[eventSelection]))\n",
    "jet_pt = ak.to_numpy(ak.pad_none(tightJets.pt[eventSelection],8,clip=True))\n",
    "jet_eta = ak.to_numpy(ak.pad_none(tightJets.eta[eventSelection],8,clip=True))\n",
    "jet_phi = ak.to_numpy(ak.pad_none(tightJets.phi[eventSelection],8,clip=True))\n",
    "jet_mass = ak.to_numpy(ak.pad_none(tightJets.mass[eventSelection],8,clip=True))\n",
    "\n",
    "###\n",
    "muon_pt = ak.to_numpy(ak.pad_none(tightMuons.pt[eventSelection],8,clip=True))\n",
    "muon_eta = ak.to_numpy(ak.pad_none(tightMuons.eta[eventSelection],8,clip=True))\n",
    "muon_phi = ak.to_numpy(ak.pad_none(tightMuons.phi[eventSelection],8,clip=True))\n",
    "muon_mass = ak.to_numpy(ak.pad_none(tightMuons.mass[eventSelection],8,clip=True))\n",
    "muon_pfRelIso03_all = ak.to_numpy(ak.pad_none(tightMuons.pfRelIso03_all[eventSelection],8,clip=True))\n",
    "muon_pfRelIso03_chg = ak.to_numpy(ak.pad_none(tightMuons.pfRelIso03_chg[eventSelection],8,clip=True))\n",
    "\n",
    "###\n",
    "deltaR_photon_lepton = ak.to_numpy(ak.pad_none(tightPhotons[eventSelection,:1].delta_r(tightMuons[eventSelection,:1]),1,clip=True))\n",
    "deltaR_photon_jet = ak.to_numpy(ak.pad_none(tightPhotons[eventSelection,:1].delta_r(tightJets[eventSelection,:1]),1,clip=True))\n"
   ]
  },
  {
   "cell_type": "code",
   "execution_count": 20,
   "metadata": {},
   "outputs": [
    {
     "data": {
      "text/plain": [
       "(1157,)"
      ]
     },
     "execution_count": 20,
     "metadata": {},
     "output_type": "execute_result"
    }
   ],
   "source": [
    "photon_count.shape"
   ]
  },
  {
   "cell_type": "code",
   "execution_count": 21,
   "metadata": {},
   "outputs": [
    {
     "data": {
      "text/plain": [
       "(1157, 8)"
      ]
     },
     "execution_count": 21,
     "metadata": {},
     "output_type": "execute_result"
    }
   ],
   "source": [
    "photon_pt.shape"
   ]
  },
  {
   "cell_type": "code",
   "execution_count": 22,
   "metadata": {},
   "outputs": [
    {
     "data": {
      "text/plain": [
       "array([25.824781, 35.281075, 34.028465, ..., 20.967505, 41.821255,\n",
       "       26.404654], dtype=float32)"
      ]
     },
     "execution_count": 22,
     "metadata": {},
     "output_type": "execute_result"
    }
   ],
   "source": [
    "np.array(photon_pt)[:,0]"
   ]
  },
  {
   "cell_type": "code",
   "execution_count": 23,
   "metadata": {},
   "outputs": [
    {
     "data": {
      "text/plain": [
       "(1157,)"
      ]
     },
     "execution_count": 23,
     "metadata": {},
     "output_type": "execute_result"
    }
   ],
   "source": [
    "np.array(photon_pt)[:,0].shape"
   ]
  },
  {
   "cell_type": "code",
   "execution_count": null,
   "metadata": {},
   "outputs": [],
   "source": []
  },
  {
   "cell_type": "code",
   "execution_count": null,
   "metadata": {},
   "outputs": [],
   "source": []
  },
  {
   "cell_type": "code",
   "execution_count": 24,
   "metadata": {},
   "outputs": [],
   "source": [
    "####### processing for machine learning #######"
   ]
  },
  {
   "cell_type": "code",
   "execution_count": 25,
   "metadata": {},
   "outputs": [
    {
     "data": {
      "text/html": [
       "<div>\n",
       "<style scoped>\n",
       "    .dataframe tbody tr th:only-of-type {\n",
       "        vertical-align: middle;\n",
       "    }\n",
       "\n",
       "    .dataframe tbody tr th {\n",
       "        vertical-align: top;\n",
       "    }\n",
       "\n",
       "    .dataframe thead th {\n",
       "        text-align: right;\n",
       "    }\n",
       "</style>\n",
       "<table border=\"1\" class=\"dataframe\">\n",
       "  <thead>\n",
       "    <tr style=\"text-align: right;\">\n",
       "      <th></th>\n",
       "      <th>photon_pt</th>\n",
       "      <th>photon_eta</th>\n",
       "      <th>photon_phi</th>\n",
       "      <th>photon_hoe</th>\n",
       "      <th>photon_r9</th>\n",
       "      <th>photon_sieie</th>\n",
       "      <th>photon_pfRelIso03_all</th>\n",
       "      <th>photon_pfRelIso03_chg</th>\n",
       "      <th>photon_count</th>\n",
       "      <th>photon_genPartFlav</th>\n",
       "      <th>...</th>\n",
       "      <th>jet_phi</th>\n",
       "      <th>jet_mass</th>\n",
       "      <th>muon_pt</th>\n",
       "      <th>muon_eta</th>\n",
       "      <th>muon_phi</th>\n",
       "      <th>muon_mass</th>\n",
       "      <th>muon_pfRelIso03_all</th>\n",
       "      <th>muon_pfRelIso03_chg</th>\n",
       "      <th>deltaR_photon_lepton</th>\n",
       "      <th>deltaR_photon_jet</th>\n",
       "    </tr>\n",
       "  </thead>\n",
       "  <tbody>\n",
       "    <tr>\n",
       "      <th>count</th>\n",
       "      <td>1157.000000</td>\n",
       "      <td>1157.000000</td>\n",
       "      <td>1157.000000</td>\n",
       "      <td>1157.000000</td>\n",
       "      <td>1157.000000</td>\n",
       "      <td>1157.000000</td>\n",
       "      <td>1157.000000</td>\n",
       "      <td>1157.000000</td>\n",
       "      <td>1157.0</td>\n",
       "      <td>1157.000000</td>\n",
       "      <td>...</td>\n",
       "      <td>1157.000000</td>\n",
       "      <td>1157.000000</td>\n",
       "      <td>1157.000000</td>\n",
       "      <td>1157.000000</td>\n",
       "      <td>1157.000000</td>\n",
       "      <td>1157.000000</td>\n",
       "      <td>1157.000000</td>\n",
       "      <td>1157.000000</td>\n",
       "      <td>1157.000000</td>\n",
       "      <td>1157.000000</td>\n",
       "    </tr>\n",
       "    <tr>\n",
       "      <th>mean</th>\n",
       "      <td>49.074131</td>\n",
       "      <td>0.035144</td>\n",
       "      <td>0.042858</td>\n",
       "      <td>0.102568</td>\n",
       "      <td>0.799614</td>\n",
       "      <td>0.011013</td>\n",
       "      <td>0.500894</td>\n",
       "      <td>0.309495</td>\n",
       "      <td>1.0</td>\n",
       "      <td>0.647364</td>\n",
       "      <td>...</td>\n",
       "      <td>0.011096</td>\n",
       "      <td>16.166845</td>\n",
       "      <td>70.528236</td>\n",
       "      <td>-0.002633</td>\n",
       "      <td>-0.007489</td>\n",
       "      <td>0.105713</td>\n",
       "      <td>0.017186</td>\n",
       "      <td>0.008397</td>\n",
       "      <td>2.149714</td>\n",
       "      <td>1.841543</td>\n",
       "    </tr>\n",
       "    <tr>\n",
       "      <th>std</th>\n",
       "      <td>41.622272</td>\n",
       "      <td>0.762631</td>\n",
       "      <td>1.845154</td>\n",
       "      <td>0.147042</td>\n",
       "      <td>0.198861</td>\n",
       "      <td>0.003369</td>\n",
       "      <td>0.924297</td>\n",
       "      <td>0.614703</td>\n",
       "      <td>0.0</td>\n",
       "      <td>0.477997</td>\n",
       "      <td>...</td>\n",
       "      <td>1.802328</td>\n",
       "      <td>10.792919</td>\n",
       "      <td>44.933998</td>\n",
       "      <td>1.042010</td>\n",
       "      <td>1.815960</td>\n",
       "      <td>0.000000</td>\n",
       "      <td>0.025136</td>\n",
       "      <td>0.015342</td>\n",
       "      <td>0.891409</td>\n",
       "      <td>1.174477</td>\n",
       "    </tr>\n",
       "    <tr>\n",
       "      <th>min</th>\n",
       "      <td>20.004259</td>\n",
       "      <td>-1.433350</td>\n",
       "      <td>-3.138672</td>\n",
       "      <td>0.000000</td>\n",
       "      <td>0.192383</td>\n",
       "      <td>0.005318</td>\n",
       "      <td>0.000000</td>\n",
       "      <td>0.000000</td>\n",
       "      <td>1.0</td>\n",
       "      <td>0.000000</td>\n",
       "      <td>...</td>\n",
       "      <td>-3.133789</td>\n",
       "      <td>3.306641</td>\n",
       "      <td>30.008116</td>\n",
       "      <td>-2.375977</td>\n",
       "      <td>-3.137695</td>\n",
       "      <td>0.105713</td>\n",
       "      <td>0.000000</td>\n",
       "      <td>0.000000</td>\n",
       "      <td>0.183863</td>\n",
       "      <td>0.001652</td>\n",
       "    </tr>\n",
       "    <tr>\n",
       "      <th>25%</th>\n",
       "      <td>25.472223</td>\n",
       "      <td>-0.587280</td>\n",
       "      <td>-1.560059</td>\n",
       "      <td>0.000000</td>\n",
       "      <td>0.666992</td>\n",
       "      <td>0.008995</td>\n",
       "      <td>0.009612</td>\n",
       "      <td>0.000000</td>\n",
       "      <td>1.0</td>\n",
       "      <td>0.000000</td>\n",
       "      <td>...</td>\n",
       "      <td>-1.505371</td>\n",
       "      <td>10.328125</td>\n",
       "      <td>41.400139</td>\n",
       "      <td>-0.753540</td>\n",
       "      <td>-1.560059</td>\n",
       "      <td>0.105713</td>\n",
       "      <td>0.000000</td>\n",
       "      <td>0.000000</td>\n",
       "      <td>1.394264</td>\n",
       "      <td>0.763312</td>\n",
       "    </tr>\n",
       "    <tr>\n",
       "      <th>50%</th>\n",
       "      <td>35.071461</td>\n",
       "      <td>0.076050</td>\n",
       "      <td>0.093887</td>\n",
       "      <td>0.019287</td>\n",
       "      <td>0.890625</td>\n",
       "      <td>0.009468</td>\n",
       "      <td>0.146177</td>\n",
       "      <td>0.073107</td>\n",
       "      <td>1.0</td>\n",
       "      <td>1.000000</td>\n",
       "      <td>...</td>\n",
       "      <td>0.034271</td>\n",
       "      <td>13.734375</td>\n",
       "      <td>57.147926</td>\n",
       "      <td>-0.044319</td>\n",
       "      <td>-0.093048</td>\n",
       "      <td>0.105713</td>\n",
       "      <td>0.006732</td>\n",
       "      <td>0.000000</td>\n",
       "      <td>2.300767</td>\n",
       "      <td>2.123579</td>\n",
       "    </tr>\n",
       "    <tr>\n",
       "      <th>75%</th>\n",
       "      <td>54.655857</td>\n",
       "      <td>0.640381</td>\n",
       "      <td>1.612793</td>\n",
       "      <td>0.186523</td>\n",
       "      <td>0.958984</td>\n",
       "      <td>0.012245</td>\n",
       "      <td>0.750167</td>\n",
       "      <td>0.427222</td>\n",
       "      <td>1.0</td>\n",
       "      <td>1.000000</td>\n",
       "      <td>...</td>\n",
       "      <td>1.551514</td>\n",
       "      <td>19.078125</td>\n",
       "      <td>84.590981</td>\n",
       "      <td>0.782227</td>\n",
       "      <td>1.567627</td>\n",
       "      <td>0.105713</td>\n",
       "      <td>0.024832</td>\n",
       "      <td>0.011055</td>\n",
       "      <td>2.866857</td>\n",
       "      <td>2.833286</td>\n",
       "    </tr>\n",
       "    <tr>\n",
       "      <th>max</th>\n",
       "      <td>426.615692</td>\n",
       "      <td>1.441895</td>\n",
       "      <td>3.138672</td>\n",
       "      <td>1.390625</td>\n",
       "      <td>1.078125</td>\n",
       "      <td>0.024841</td>\n",
       "      <td>16.187374</td>\n",
       "      <td>11.755681</td>\n",
       "      <td>1.0</td>\n",
       "      <td>1.000000</td>\n",
       "      <td>...</td>\n",
       "      <td>3.138672</td>\n",
       "      <td>174.250000</td>\n",
       "      <td>636.924561</td>\n",
       "      <td>2.384766</td>\n",
       "      <td>3.137695</td>\n",
       "      <td>0.105713</td>\n",
       "      <td>0.160318</td>\n",
       "      <td>0.115287</td>\n",
       "      <td>4.260221</td>\n",
       "      <td>4.175145</td>\n",
       "    </tr>\n",
       "  </tbody>\n",
       "</table>\n",
       "<p>8 rows × 23 columns</p>\n",
       "</div>"
      ],
      "text/plain": [
       "         photon_pt   photon_eta   photon_phi   photon_hoe    photon_r9  \\\n",
       "count  1157.000000  1157.000000  1157.000000  1157.000000  1157.000000   \n",
       "mean     49.074131     0.035144     0.042858     0.102568     0.799614   \n",
       "std      41.622272     0.762631     1.845154     0.147042     0.198861   \n",
       "min      20.004259    -1.433350    -3.138672     0.000000     0.192383   \n",
       "25%      25.472223    -0.587280    -1.560059     0.000000     0.666992   \n",
       "50%      35.071461     0.076050     0.093887     0.019287     0.890625   \n",
       "75%      54.655857     0.640381     1.612793     0.186523     0.958984   \n",
       "max     426.615692     1.441895     3.138672     1.390625     1.078125   \n",
       "\n",
       "       photon_sieie  photon_pfRelIso03_all  photon_pfRelIso03_chg  \\\n",
       "count   1157.000000            1157.000000            1157.000000   \n",
       "mean       0.011013               0.500894               0.309495   \n",
       "std        0.003369               0.924297               0.614703   \n",
       "min        0.005318               0.000000               0.000000   \n",
       "25%        0.008995               0.009612               0.000000   \n",
       "50%        0.009468               0.146177               0.073107   \n",
       "75%        0.012245               0.750167               0.427222   \n",
       "max        0.024841              16.187374              11.755681   \n",
       "\n",
       "       photon_count  photon_genPartFlav  ...      jet_phi     jet_mass  \\\n",
       "count        1157.0         1157.000000  ...  1157.000000  1157.000000   \n",
       "mean            1.0            0.647364  ...     0.011096    16.166845   \n",
       "std             0.0            0.477997  ...     1.802328    10.792919   \n",
       "min             1.0            0.000000  ...    -3.133789     3.306641   \n",
       "25%             1.0            0.000000  ...    -1.505371    10.328125   \n",
       "50%             1.0            1.000000  ...     0.034271    13.734375   \n",
       "75%             1.0            1.000000  ...     1.551514    19.078125   \n",
       "max             1.0            1.000000  ...     3.138672   174.250000   \n",
       "\n",
       "           muon_pt     muon_eta     muon_phi    muon_mass  \\\n",
       "count  1157.000000  1157.000000  1157.000000  1157.000000   \n",
       "mean     70.528236    -0.002633    -0.007489     0.105713   \n",
       "std      44.933998     1.042010     1.815960     0.000000   \n",
       "min      30.008116    -2.375977    -3.137695     0.105713   \n",
       "25%      41.400139    -0.753540    -1.560059     0.105713   \n",
       "50%      57.147926    -0.044319    -0.093048     0.105713   \n",
       "75%      84.590981     0.782227     1.567627     0.105713   \n",
       "max     636.924561     2.384766     3.137695     0.105713   \n",
       "\n",
       "       muon_pfRelIso03_all  muon_pfRelIso03_chg  deltaR_photon_lepton  \\\n",
       "count          1157.000000          1157.000000           1157.000000   \n",
       "mean              0.017186             0.008397              2.149714   \n",
       "std               0.025136             0.015342              0.891409   \n",
       "min               0.000000             0.000000              0.183863   \n",
       "25%               0.000000             0.000000              1.394264   \n",
       "50%               0.006732             0.000000              2.300767   \n",
       "75%               0.024832             0.011055              2.866857   \n",
       "max               0.160318             0.115287              4.260221   \n",
       "\n",
       "       deltaR_photon_jet  \n",
       "count        1157.000000  \n",
       "mean            1.841543  \n",
       "std             1.174477  \n",
       "min             0.001652  \n",
       "25%             0.763312  \n",
       "50%             2.123579  \n",
       "75%             2.833286  \n",
       "max             4.175145  \n",
       "\n",
       "[8 rows x 23 columns]"
      ]
     },
     "execution_count": 25,
     "metadata": {},
     "output_type": "execute_result"
    }
   ],
   "source": [
    "df = pd.DataFrame({\n",
    "    'photon_pt': np.array(photon_pt)[:,0],\n",
    "    'photon_eta': np.array(photon_eta)[:,0],\n",
    "    'photon_phi': np.array(photon_phi)[:,0],\n",
    "    'photon_hoe': np.array(photon_hoe)[:,0],\n",
    "    'photon_r9': np.array(photon_r9)[:,0],\n",
    "    'photon_sieie': np.array(photon_sieie)[:,0],\n",
    "    'photon_pfRelIso03_all': np.array(photon_pfRelIso03_all)[:,0],\n",
    "    'photon_pfRelIso03_chg': np.array(photon_pfRelIso03_chg)[:,0],\n",
    "    'photon_count': np.array(photon_count),\n",
    "    'photon_genPartFlav': np.array(photon_genPartFlav)[:,0],  ## target ##\n",
    "    \n",
    "    'jet_count': np.array(jet_count),\n",
    "    'jet_pt': np.array(jet_pt)[:,0],\n",
    "    'jet_eta': np.array(jet_eta)[:,0],\n",
    "    'jet_phi': np.array(jet_phi)[:,0],\n",
    "    'jet_mass': np.array(jet_mass)[:,0],\n",
    "    \n",
    "    'muon_pt': np.array(muon_pt)[:,0],\n",
    "    'muon_eta': np.array(muon_eta)[:,0],\n",
    "    'muon_phi': np.array(muon_phi)[:,0],\n",
    "    'muon_mass': np.array(muon_mass)[:,0],\n",
    "    'muon_pfRelIso03_all': np.array(muon_pfRelIso03_all)[:,0],\n",
    "    'muon_pfRelIso03_chg': np.array(muon_pfRelIso03_chg)[:,0],\n",
    "    \n",
    "    'deltaR_photon_lepton': np.array(deltaR_photon_lepton)[:,0],\n",
    "    'deltaR_photon_jet': np.array(deltaR_photon_jet)[:,0],\n",
    "    \n",
    "    #'target': np.array(outputMC['label'].value)[:,0]\n",
    "})\n",
    "df.describe()"
   ]
  },
  {
   "cell_type": "code",
   "execution_count": 26,
   "metadata": {},
   "outputs": [
    {
     "name": "stdout",
     "output_type": "stream",
     "text": [
      "(693, 22)\n",
      "1\n",
      "0\n"
     ]
    }
   ],
   "source": [
    "# split into features and labels\n",
    "X = np.array(df.drop(['photon_genPartFlav'],axis=1))\n",
    "y = df['photon_genPartFlav']\n",
    "\n",
    "# shuffle & split into training, validation, testing datasets\n",
    "X_train, X_test, y_train, y_test = train_test_split(X, y, test_size=0.2, random_state=1)\n",
    "X_train, X_val, y_train, y_val = train_test_split(X_train, y_train, test_size=0.25, random_state=1)\n",
    "\n",
    "print(X_train.shape)\n",
    "print(y_train.max())\n",
    "print(y_train.min())"
   ]
  },
  {
   "cell_type": "code",
   "execution_count": 27,
   "metadata": {},
   "outputs": [],
   "source": [
    "# Scale: mean=0, stdev=1\n",
    "scaler = StandardScaler()\n",
    "\n",
    "X_train_scaled = scaler.fit_transform(X_train)\n",
    "X_val_scaled = scaler.fit_transform(X_val)\n",
    "X_test_scaled = scaler.fit_transform(X_test)"
   ]
  },
  {
   "cell_type": "code",
   "execution_count": 28,
   "metadata": {},
   "outputs": [
    {
     "name": "stdout",
     "output_type": "stream",
     "text": [
      "Model: \"sequential\"\n",
      "_________________________________________________________________\n",
      "Layer (type)                 Output Shape              Param #   \n",
      "=================================================================\n",
      "dense (Dense)                (None, 32)                736       \n",
      "_________________________________________________________________\n",
      "dense_1 (Dense)              (None, 32)                1056      \n",
      "_________________________________________________________________\n",
      "dense_2 (Dense)              (None, 1)                 33        \n",
      "=================================================================\n",
      "Total params: 1,825\n",
      "Trainable params: 1,825\n",
      "Non-trainable params: 0\n",
      "_________________________________________________________________\n"
     ]
    }
   ],
   "source": [
    "model = Sequential()\n",
    "model.add(Dense(32, input_shape=(22,), activation=\"relu\"))\n",
    "model.add(Dense(32, activation=\"relu\"))\n",
    "model.add(Dense(1,activation=\"sigmoid\"))\n",
    "\n",
    "model.compile(\"adam\", \"binary_crossentropy\", metrics=[\"accuracy\"])\n",
    "model.summary()"
   ]
  },
  {
   "cell_type": "code",
   "execution_count": 29,
   "metadata": {},
   "outputs": [
    {
     "name": "stdout",
     "output_type": "stream",
     "text": [
      "Epoch 1/20\n",
      "6/6 [==============================] - 0s 1ms/step - loss: 0.7577 - accuracy: 0.4257\n",
      "Epoch 2/20\n",
      "6/6 [==============================] - 0s 1ms/step - loss: 0.6830 - accuracy: 0.5354\n",
      "Epoch 3/20\n",
      "6/6 [==============================] - 0s 1ms/step - loss: 0.6203 - accuracy: 0.6537\n",
      "Epoch 4/20\n",
      "6/6 [==============================] - 0s 1ms/step - loss: 0.5669 - accuracy: 0.7734\n",
      "Epoch 5/20\n",
      "6/6 [==============================] - 0s 1ms/step - loss: 0.5199 - accuracy: 0.8326\n",
      "Epoch 6/20\n",
      "6/6 [==============================] - 0s 1ms/step - loss: 0.4776 - accuracy: 0.8644\n",
      "Epoch 7/20\n",
      "6/6 [==============================] - 0s 1ms/step - loss: 0.4388 - accuracy: 0.8773\n",
      "Epoch 8/20\n",
      "6/6 [==============================] - 0s 1ms/step - loss: 0.4026 - accuracy: 0.8860\n",
      "Epoch 9/20\n",
      "6/6 [==============================] - 0s 1ms/step - loss: 0.3693 - accuracy: 0.8918\n",
      "Epoch 10/20\n",
      "6/6 [==============================] - 0s 1ms/step - loss: 0.3394 - accuracy: 0.8903\n",
      "Epoch 11/20\n",
      "6/6 [==============================] - 0s 1ms/step - loss: 0.3126 - accuracy: 0.9004\n",
      "Epoch 12/20\n",
      "6/6 [==============================] - 0s 1ms/step - loss: 0.2896 - accuracy: 0.9062\n",
      "Epoch 13/20\n",
      "6/6 [==============================] - 0s 1ms/step - loss: 0.2703 - accuracy: 0.9076\n",
      "Epoch 14/20\n",
      "6/6 [==============================] - 0s 1ms/step - loss: 0.2536 - accuracy: 0.9105\n",
      "Epoch 15/20\n",
      "6/6 [==============================] - 0s 1ms/step - loss: 0.2400 - accuracy: 0.9134\n",
      "Epoch 16/20\n",
      "6/6 [==============================] - 0s 2ms/step - loss: 0.2270 - accuracy: 0.9177\n",
      "Epoch 17/20\n",
      "6/6 [==============================] - 0s 2ms/step - loss: 0.2159 - accuracy: 0.9221\n",
      "Epoch 18/20\n",
      "6/6 [==============================] - 0s 1ms/step - loss: 0.2067 - accuracy: 0.9221\n",
      "Epoch 19/20\n",
      "6/6 [==============================] - 0s 1ms/step - loss: 0.1981 - accuracy: 0.9250\n",
      "Epoch 20/20\n",
      "6/6 [==============================] - 0s 1ms/step - loss: 0.1908 - accuracy: 0.9278\n"
     ]
    },
    {
     "data": {
      "text/plain": [
       "<tensorflow.python.keras.callbacks.History at 0x7f7afc2748b0>"
      ]
     },
     "execution_count": 29,
     "metadata": {},
     "output_type": "execute_result"
    }
   ],
   "source": [
    "model.fit(X_train_scaled, y_train, epochs=20, batch_size=128)"
   ]
  },
  {
   "cell_type": "code",
   "execution_count": 30,
   "metadata": {},
   "outputs": [
    {
     "name": "stdout",
     "output_type": "stream",
     "text": [
      "Test loss: 0.27756\n",
      "Test accuracy: 0.875\n"
     ]
    }
   ],
   "source": [
    "loss, accuracy = model.evaluate(X_test_scaled,y_test,verbose=0)\n",
    "print(f'Test loss: {round(loss,5)}\\nTest accuracy: {round(accuracy,5)}')"
   ]
  },
  {
   "cell_type": "code",
   "execution_count": 31,
   "metadata": {},
   "outputs": [],
   "source": [
    "y_pred = model.predict(X_test_scaled)\n",
    "fpr, tpr, thresholds = roc_curve(y_test, y_pred)\n",
    "area_under_curve = auc(fpr, tpr)"
   ]
  },
  {
   "cell_type": "code",
   "execution_count": 32,
   "metadata": {},
   "outputs": [
    {
     "data": {
      "image/png": "[encoded data removed]",
      "text/plain": [
       "<Figure size 432x288 with 1 Axes>"
      ]
     },
     "metadata": {
      "needs_background": "light"
     },
     "output_type": "display_data"
    }
   ],
   "source": [
    "plt.plot([0,1], [0,1], 'k--')\n",
    "plt.plot(fpr, tpr, label='area = {:.3f}'.format(area_under_curve))\n",
    "\n",
    "plt.xlabel('False positive rate')\n",
    "plt.ylabel('True positive rate')\n",
    "plt.title('ROC curve')\n",
    "plt.legend(loc='best')\n",
    "plt.show()"
   ]
  },
  {
   "cell_type": "code",
   "execution_count": 33,
   "metadata": {},
   "outputs": [],
   "source": [
    "predTrue  = y_pred[y_test==True]\n",
    "predFalse = y_pred[y_test==False]"
   ]
  },
  {
   "cell_type": "code",
   "execution_count": 34,
   "metadata": {},
   "outputs": [
    {
     "data": {
      "image/png": "[encoded data removed]",
      "text/plain": [
       "<Figure size 432x288 with 1 Axes>"
      ]
     },
     "metadata": {
      "needs_background": "light"
     },
     "output_type": "display_data"
    }
   ],
   "source": [
    "plt.hist(predTrue,bins=50,alpha=0.5,label='true label=1')\n",
    "plt.hist(predFalse,bins=50,alpha=0.5,label='true label=0')\n",
    "\n",
    "plt.xlabel('Predicted label')\n",
    "plt.ylabel('Counts')\n",
    "plt.title('')\n",
    "plt.legend(loc='best')\n",
    "plt.show()"
   ]
  },
  {
   "cell_type": "code",
   "execution_count": null,
   "metadata": {},
   "outputs": [],
   "source": []
  },
  {
   "cell_type": "code",
   "execution_count": null,
   "metadata": {},
   "outputs": [],
   "source": []
  },
  {
   "cell_type": "code",
   "execution_count": null,
   "metadata": {},
   "outputs": [],
   "source": []
  },
  {
   "cell_type": "code",
   "execution_count": null,
   "metadata": {},
   "outputs": [],
   "source": []
  }
 ],
 "metadata": {
  "kernelspec": {
   "display_name": "Python 3",
   "language": "python",
   "name": "python3"
  },
  "language_info": {
   "codemirror_mode": {
    "name": "ipython",
    "version": 3
   },
   "file_extension": ".py",
   "mimetype": "text/x-python",
   "name": "python",
   "nbconvert_exporter": "python",
   "pygments_lexer": "ipython3",
   "version": "3.8.5"
  }
 },
 "nbformat": 4,
 "nbformat_minor": 4
}
