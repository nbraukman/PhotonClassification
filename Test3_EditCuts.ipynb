{
 "cells": [
  {
   "cell_type": "markdown",
   "metadata": {},
   "source": [
    "# testing without processor: edit features and cuts\n",
    "Only `TTGamma` data, distinguishing prompt photons from fake photons\n",
    "\n",
    "* `ak.flatten` instead of `ak.pad_none`\n",
    "* Remove jet & muon features\n",
    "* Remove 1 photon requirement. How to include `photon_count` feature?\n",
    "* Add cut: pho-jet $\\Delta R > 0.4$. ??? histograms look correct, but column accumulators have an issue"
   ]
  },
  {
   "cell_type": "code",
   "execution_count": 1,
   "metadata": {},
   "outputs": [],
   "source": [
    "from coffea import hist, util\n",
    "\n",
    "#import coffea.processor as processor\n",
    "from coffea.nanoevents import NanoEventsFactory, NanoAODSchema\n",
    "import awkward as ak\n",
    "import numpy as np\n",
    "import uproot\n",
    "\n",
    "import matplotlib.pyplot as plt\n",
    "import pandas as pd\n",
    "\n",
    "import tensorflow as tf\n",
    "from tensorflow import keras\n",
    "from keras.models import Sequential\n",
    "from keras.layers import Dense\n",
    "\n",
    "from sklearn.preprocessing import StandardScaler, MinMaxScaler\n",
    "from sklearn.model_selection import train_test_split\n",
    "from sklearn.metrics import roc_curve, auc"
   ]
  },
  {
   "cell_type": "code",
   "execution_count": 2,
   "metadata": {},
   "outputs": [],
   "source": [
    "#Define files to run over\n",
    "skimDir=\"/udrive/staff/dnoonan/Skims\"\n",
    "\n",
    "fileset = {\"TTGamma\":[f\"{skimDir}/TTGamma_SingleLept_2016_skim.root\"],\n",
    "           \"TTbar\":[f\"{skimDir}/TTbarPowheg_Semilept_2016_skim_1of10.root\",\n",
    "                    f\"{skimDir}/TTbarPowheg_Semilept_2016_skim_2of10.root\"],\n",
    "          }\n",
    "\n",
    "filesetData = {\"DataMu\":[f\"{skimDir}/Data_SingleMu_b_2016_skim_1of10.root\"],\n",
    "              }"
   ]
  },
  {
   "cell_type": "code",
   "execution_count": 3,
   "metadata": {},
   "outputs": [],
   "source": [
    "np.warnings.filterwarnings('ignore')\n",
    "\n",
    "#the NanoAODSchema needs to be adjusted, to remove cross references to FSRPhotons\n",
    "class SkimmedSchema(NanoAODSchema):\n",
    "    def __init__(self, base_form):\n",
    "        base_form[\"contents\"].pop(\"Muon_fsrPhotonIdx\", None)\n",
    "        super().__init__(base_form)"
   ]
  },
  {
   "cell_type": "code",
   "execution_count": 4,
   "metadata": {},
   "outputs": [],
   "source": [
    "# events from TTGamma\n",
    "events = NanoEventsFactory.from_root(fileset[\"TTGamma\"][0],\n",
    "                                     schemaclass=SkimmedSchema,\n",
    "                                     entry_stop=100000).events()\n",
    "\n",
    "dataset = \"TTGamma\""
   ]
  },
  {
   "cell_type": "code",
   "execution_count": 5,
   "metadata": {},
   "outputs": [],
   "source": [
    "# photon cuts\n",
    "photons = events.Photon\n",
    "photonSelect= ((photons.pt>20) &\n",
    "               (abs(photons.eta) < 1.4442) &\n",
    "               (photons.isScEtaEE | photons.isScEtaEB) &\n",
    "               (photons.electronVeto) & \n",
    "               np.invert(photons.pixelSeed)\n",
    "               )\n",
    "tightPhotons = photons[photonSelect]"
   ]
  },
  {
   "cell_type": "code",
   "execution_count": 6,
   "metadata": {},
   "outputs": [],
   "source": [
    "# muon cuts\n",
    "muons = events.Muon\n",
    "muonSelectTight = ((muons.pt>30) &\n",
    "                   (abs(muons.eta)<2.4) &\n",
    "                   (muons.tightId) &\n",
    "                   (muons.pfRelIso04_all < 0.15)\n",
    "                  )\n",
    "tightMuons = muons[muonSelectTight]"
   ]
  },
  {
   "cell_type": "code",
   "execution_count": 7,
   "metadata": {},
   "outputs": [],
   "source": [
    "# jet & b-tagged jet cuts\n",
    "jets = events.Jet\n",
    "\n",
    "jetSelectTight = ((jets.pt>30) &\n",
    "                  (abs(jets.eta)<2.4) &\n",
    "                  (jets.isTight)\n",
    "                 )\n",
    "btaggedJetSelect = (jetSelectTight &\n",
    "                   (jets.btagDeepB>0.6321)\n",
    "                  )\n",
    "\n",
    "tightJets = jets[jetSelectTight]\n",
    "tightBJets = jets[btaggedJetSelect]"
   ]
  },
  {
   "cell_type": "code",
   "execution_count": 8,
   "metadata": {},
   "outputs": [],
   "source": [
    "# electron cuts\n",
    "electrons = events.Electron\n",
    "electronSelectTight = ((electrons.pt> 35) &\n",
    "                       (abs(electrons.eta)<2.1) &\n",
    "                       (electrons.cutBased>=4)\n",
    "                      )\n",
    "tightEle = electrons[electronSelectTight]"
   ]
  },
  {
   "cell_type": "code",
   "execution_count": null,
   "metadata": {},
   "outputs": [],
   "source": []
  },
  {
   "cell_type": "code",
   "execution_count": 9,
   "metadata": {},
   "outputs": [],
   "source": [
    "## delta R using nearest\n",
    "phoMu, phoMuDR   = tightPhotons.nearest(tightMuons,return_metric=True)\n",
    "phoJet, phoJetDR = tightPhotons.nearest(tightJets,return_metric=True)"
   ]
  },
  {
   "cell_type": "code",
   "execution_count": 10,
   "metadata": {},
   "outputs": [
    {
     "name": "stdout",
     "output_type": "stream",
     "text": [
      "Pho: [[Photon], [], [], [Photon], [], [Photon, ... [], [], [Photon], [], [Photon], []]\n",
      "Mu:  [[Muon], [], [], [Muon], [], [], [], [], ... [], [], [], [], [], [], [], [Muon]]\n",
      "DR:  [[1.87], [], [], [2.99], [], [None, None, ... [], [], [None], [], [None], []]\n"
     ]
    }
   ],
   "source": [
    "print('Pho:',tightPhotons)\n",
    "print('Mu: ',tightMuons)\n",
    "print('DR: ',phoMuDR)\n",
    "\n",
    "# [] == no photon\n",
    "# [None] == photon but no muon; will be removed by the event selection (ak.num(tightMuons)==1)"
   ]
  },
  {
   "cell_type": "code",
   "execution_count": 11,
   "metadata": {},
   "outputs": [],
   "source": [
    "# event cuts\n",
    "trigger = events.HLT.IsoMu24 | events.HLT.IsoTkMu24\n",
    "\n",
    "eventSelection = (trigger &\n",
    "                  (ak.num(tightMuons)==1) &\n",
    "                  (ak.num(tightJets)>=4) & \n",
    "                  (ak.num(tightBJets)>=1) &\n",
    "                  (ak.num(tightEle)==0) &\n",
    "                  (ak.num(tightPhotons)>=1) &\n",
    "                  (phoJetDR>0.4))"
   ]
  },
  {
   "cell_type": "code",
   "execution_count": 12,
   "metadata": {},
   "outputs": [
    {
     "data": {
      "text/plain": [
       "<Array [[True], [], [], ... [], [False], []] type='100000 * var * ?bool'>"
      ]
     },
     "execution_count": 12,
     "metadata": {},
     "output_type": "execute_result"
    }
   ],
   "source": [
    "phoJetDR>0.4"
   ]
  },
  {
   "cell_type": "code",
   "execution_count": null,
   "metadata": {},
   "outputs": [],
   "source": []
  },
  {
   "cell_type": "code",
   "execution_count": 13,
   "metadata": {},
   "outputs": [],
   "source": [
    "##### histograms #####"
   ]
  },
  {
   "cell_type": "code",
   "execution_count": 14,
   "metadata": {},
   "outputs": [],
   "source": [
    "dataset_axis = hist.Cat(\"dataset\",\"Dataset\")\n",
    "\n",
    "photon_pt_axis = hist.Bin(\"pt\",\"photon $p_{T}$ [GeV]\", 40, 0, 400)\n",
    "photon_eta_axis = hist.Bin(\"eta\",\"photon $\\eta$\", 50, -2.5, 2.5)\n",
    "photon_phi_axis = hist.Bin(\"phi\",\"photon $\\phi$\", 64, -3.2, 3.2)\n",
    "photon_reliso_all_axis = hist.Bin(\"reliso\",\"photon pfRelIso03_all\", 40, -0.5, 6)\n",
    "photon_reliso_chg_axis = hist.Bin(\"reliso\",\"photon pfRelIso03_chg\", 40, -0.5, 6)\n",
    "photon_sieie_axis = hist.Bin(\"sieie\",\"photon sigma I eta I eta\", 40, 0, 0.05)\n",
    "photon_r9_axis = hist.Bin(\"r9\",\"photon R9\", 40, -0.5, 1.5)\n",
    "photon_hoe_axis = hist.Bin(\"hoe\",\"photon H over E\", 40, -0.5, 1)\n",
    "photon_count_axis = hist.Bin(\"count\",\"Photon number\",12,-1,10)\n",
    "\n",
    "deltar_axis = hist.Bin(\"deltar\",\"$\\Delta R$\", 50, -0.5, 4)\n",
    "\n",
    "photon_genPartFlav_axis = hist.Bin(\"flav\",\"genPartFlav\",40,-1,15)"
   ]
  },
  {
   "cell_type": "code",
   "execution_count": 15,
   "metadata": {},
   "outputs": [],
   "source": [
    "photon_pt_hist = hist.Hist(\"Counts\", dataset_axis, photon_pt_axis)\n",
    "photon_eta_hist = hist.Hist(\"Counts\", dataset_axis, photon_eta_axis)\n",
    "photon_phi_hist = hist.Hist(\"Counts\", dataset_axis, photon_phi_axis)\n",
    "photon_reliso_all_hist = hist.Hist(\"Counts\", dataset_axis, photon_reliso_all_axis)\n",
    "photon_reliso_chg_hist = hist.Hist(\"Counts\", dataset_axis, photon_reliso_chg_axis)\n",
    "photon_sieie_hist = hist.Hist(\"Counts\", dataset_axis, photon_sieie_axis)\n",
    "photon_r9_hist = hist.Hist(\"Counts\", dataset_axis, photon_r9_axis)\n",
    "photon_hoe_hist = hist.Hist(\"Counts\", dataset_axis, photon_hoe_axis)\n",
    "photon_count_hist = hist.Hist(\"Counts\", dataset_axis, photon_count_axis)\n",
    "\n",
    "deltaR_photon_lepton_hist = hist.Hist(\"Counts\", dataset_axis, deltar_axis)\n",
    "deltaR_photon_jet_hist = hist.Hist(\"Counts\", dataset_axis, deltar_axis)\n",
    "\n",
    "photon_genPartFlav_hist = hist.Hist(\"Counts\", dataset_axis, photon_genPartFlav_axis)"
   ]
  },
  {
   "cell_type": "code",
   "execution_count": 16,
   "metadata": {},
   "outputs": [],
   "source": [
    "photon_pt_hist.fill(dataset=dataset,\n",
    "                    pt=ak.to_numpy(ak.flatten(tightPhotons[eventSelection].pt)))\n",
    "photon_eta_hist.fill(dataset=dataset,\n",
    "                     eta=ak.to_numpy(ak.flatten(tightPhotons[eventSelection].eta)))\n",
    "photon_phi_hist.fill(dataset=dataset,\n",
    "                     phi=ak.to_numpy(ak.flatten(tightPhotons[eventSelection].phi)))\n",
    "photon_reliso_all_hist.fill(dataset=dataset,\n",
    "                            reliso=ak.to_numpy(ak.flatten(tightPhotons[eventSelection].pfRelIso03_all)))\n",
    "photon_reliso_chg_hist.fill(dataset=dataset,\n",
    "                            reliso=ak.to_numpy(ak.flatten(tightPhotons[eventSelection].pfRelIso03_chg)))\n",
    "photon_sieie_hist.fill(dataset=dataset,\n",
    "                       sieie=ak.to_numpy(ak.flatten(tightPhotons[eventSelection].sieie)))\n",
    "photon_r9_hist.fill(dataset=dataset,\n",
    "                    r9=ak.to_numpy(ak.flatten(tightPhotons[eventSelection].r9)))\n",
    "photon_hoe_hist.fill(dataset=dataset,\n",
    "                     hoe=ak.to_numpy(ak.flatten(tightPhotons[eventSelection].hoe)))\n",
    "photon_count_hist.fill(dataset=dataset,\n",
    "                       count=(ak.num(tightPhotons[eventSelection])))\n",
    "\n",
    "deltaR_photon_lepton_hist.fill(dataset=dataset,\n",
    "                               deltar=ak.to_numpy(ak.flatten(phoMuDR[eventSelection])))\n",
    "deltaR_photon_jet_hist.fill(dataset=dataset,\n",
    "                            deltar=ak.to_numpy(ak.flatten(phoJetDR[eventSelection])))\n",
    "\n",
    "photon_genPartFlav_hist.fill(dataset=dataset,\n",
    "                             flav=ak.to_numpy(ak.flatten(tightPhotons[eventSelection].genPartFlav)))"
   ]
  },
  {
   "cell_type": "code",
   "execution_count": 17,
   "metadata": {},
   "outputs": [
    {
     "data": {
      "image/png": "[encoded data removed]",
      "text/plain": [
       "<Figure size 432x288 with 1 Axes>"
      ]
     },
     "metadata": {
      "needs_background": "light"
     },
     "output_type": "display_data"
    }
   ],
   "source": [
    "hist.plot1d(photon_pt_hist,overlay='dataset',stack=False,density=True)\n",
    "plt.show()"
   ]
  },
  {
   "cell_type": "code",
   "execution_count": 18,
   "metadata": {},
   "outputs": [
    {
     "data": {
      "image/png": "[encoded data removed]",
      "text/plain": [
       "<Figure size 432x288 with 1 Axes>"
      ]
     },
     "metadata": {
      "needs_background": "light"
     },
     "output_type": "display_data"
    }
   ],
   "source": [
    "hist.plot1d(deltaR_photon_lepton_hist,overlay='dataset',stack=False)#,density=True)\n",
    "plt.show()"
   ]
  },
  {
   "cell_type": "code",
   "execution_count": 19,
   "metadata": {},
   "outputs": [
    {
     "data": {
      "image/png": "[encoded data removed]",
      "text/plain": [
       "<Figure size 432x288 with 1 Axes>"
      ]
     },
     "metadata": {
      "needs_background": "light"
     },
     "output_type": "display_data"
    }
   ],
   "source": [
    "hist.plot1d(deltaR_photon_jet_hist,overlay='dataset',stack=False)#,density=True)\n",
    "plt.show()"
   ]
  },
  {
   "cell_type": "code",
   "execution_count": 20,
   "metadata": {},
   "outputs": [
    {
     "data": {
      "image/png": "[encoded data removed]",
      "text/plain": [
       "<Figure size 432x288 with 1 Axes>"
      ]
     },
     "metadata": {
      "needs_background": "light"
     },
     "output_type": "display_data"
    }
   ],
   "source": [
    "hist.plot1d(photon_genPartFlav_hist,overlay='dataset',stack=False,density=True)\n",
    "plt.show()"
   ]
  },
  {
   "cell_type": "code",
   "execution_count": null,
   "metadata": {},
   "outputs": [],
   "source": []
  },
  {
   "cell_type": "code",
   "execution_count": 21,
   "metadata": {},
   "outputs": [],
   "source": [
    "###### column accumulators #######"
   ]
  },
  {
   "cell_type": "code",
   "execution_count": 22,
   "metadata": {},
   "outputs": [],
   "source": [
    "photon_pt = ak.to_numpy(ak.flatten(tightPhotons.pt[eventSelection]))\n",
    "photon_eta = ak.to_numpy(ak.flatten(tightPhotons.eta[eventSelection]))\n",
    "photon_phi = ak.to_numpy(ak.flatten(tightPhotons.phi[eventSelection]))\n",
    "photon_pfRelIso03_all = ak.to_numpy(ak.flatten(tightPhotons.pfRelIso03_all[eventSelection]))\n",
    "photon_pfRelIso03_chg = ak.to_numpy(ak.flatten(tightPhotons.pfRelIso03_chg[eventSelection]))\n",
    "photon_sieie = ak.to_numpy(ak.flatten(tightPhotons.sieie[eventSelection]))\n",
    "photon_r9 = ak.to_numpy(ak.flatten(tightPhotons.r9[eventSelection]))\n",
    "photon_hoe = ak.to_numpy(ak.flatten(tightPhotons.hoe[eventSelection]))\n",
    "\n",
    "dim = ak.to_numpy(ak.num(tightPhotons[eventSelection]))\n",
    "photon_count = ak.to_numpy(ak.num(tightPhotons[eventSelection]))\n",
    "\n",
    "deltaR_photon_lepton = ak.to_numpy(ak.flatten(phoMuDR[eventSelection]))\n",
    "deltaR_photon_jet = ak.to_numpy(ak.flatten(phoJetDR[eventSelection]))\n",
    "\n",
    "photon_genPartFlav = ak.to_numpy(ak.flatten(tightPhotons.genPartFlav[eventSelection]))\n"
   ]
  },
  {
   "cell_type": "code",
   "execution_count": 23,
   "metadata": {},
   "outputs": [
    {
     "data": {
      "text/plain": [
       "(100000,)"
      ]
     },
     "execution_count": 23,
     "metadata": {},
     "output_type": "execute_result"
    }
   ],
   "source": [
    "photon_count.shape"
   ]
  },
  {
   "cell_type": "code",
   "execution_count": 24,
   "metadata": {},
   "outputs": [
    {
     "name": "stdout",
     "output_type": "stream",
     "text": [
      "[0 0 0 ... 0 0 0]\n",
      "(100000,)\n"
     ]
    }
   ],
   "source": [
    "dim = ak.to_numpy(ak.num(tightPhotons[eventSelection]))\n",
    "print(dim) # number photons in each event\n",
    "print(dim.shape) # number of events"
   ]
  },
  {
   "cell_type": "code",
   "execution_count": 25,
   "metadata": {},
   "outputs": [
    {
     "data": {
      "text/plain": [
       "(5128,)"
      ]
     },
     "execution_count": 25,
     "metadata": {},
     "output_type": "execute_result"
    }
   ],
   "source": [
    "ak.to_numpy(ak.flatten(tightPhotons[eventSelection])).shape # number of photons"
   ]
  },
  {
   "cell_type": "code",
   "execution_count": null,
   "metadata": {},
   "outputs": [],
   "source": []
  },
  {
   "cell_type": "code",
   "execution_count": 26,
   "metadata": {},
   "outputs": [
    {
     "data": {
      "text/plain": [
       "(5128,)"
      ]
     },
     "execution_count": 26,
     "metadata": {},
     "output_type": "execute_result"
    }
   ],
   "source": [
    "photon_pt.shape"
   ]
  },
  {
   "cell_type": "code",
   "execution_count": 27,
   "metadata": {},
   "outputs": [
    {
     "data": {
      "text/plain": [
       "(5128,)"
      ]
     },
     "execution_count": 27,
     "metadata": {},
     "output_type": "execute_result"
    }
   ],
   "source": [
    "np.array(photon_pt).shape"
   ]
  },
  {
   "cell_type": "code",
   "execution_count": 28,
   "metadata": {},
   "outputs": [
    {
     "data": {
      "text/plain": [
       "(5128,)"
      ]
     },
     "execution_count": 28,
     "metadata": {},
     "output_type": "execute_result"
    }
   ],
   "source": [
    "np.array(deltaR_photon_lepton).shape"
   ]
  },
  {
   "cell_type": "code",
   "execution_count": null,
   "metadata": {},
   "outputs": [],
   "source": []
  },
  {
   "cell_type": "code",
   "execution_count": null,
   "metadata": {},
   "outputs": [],
   "source": []
  },
  {
   "cell_type": "code",
   "execution_count": null,
   "metadata": {},
   "outputs": [],
   "source": []
  },
  {
   "cell_type": "code",
   "execution_count": null,
   "metadata": {},
   "outputs": [],
   "source": []
  },
  {
   "cell_type": "code",
   "execution_count": 29,
   "metadata": {},
   "outputs": [],
   "source": [
    "####### processing for machine learning #######"
   ]
  },
  {
   "cell_type": "code",
   "execution_count": 30,
   "metadata": {},
   "outputs": [
    {
     "data": {
      "text/html": [
       "<div>\n",
       "<style scoped>\n",
       "    .dataframe tbody tr th:only-of-type {\n",
       "        vertical-align: middle;\n",
       "    }\n",
       "\n",
       "    .dataframe tbody tr th {\n",
       "        vertical-align: top;\n",
       "    }\n",
       "\n",
       "    .dataframe thead th {\n",
       "        text-align: right;\n",
       "    }\n",
       "</style>\n",
       "<table border=\"1\" class=\"dataframe\">\n",
       "  <thead>\n",
       "    <tr style=\"text-align: right;\">\n",
       "      <th></th>\n",
       "      <th>photon_pt</th>\n",
       "      <th>photon_eta</th>\n",
       "      <th>photon_phi</th>\n",
       "      <th>photon_hoe</th>\n",
       "      <th>photon_r9</th>\n",
       "      <th>photon_sieie</th>\n",
       "      <th>photon_pfRelIso03_all</th>\n",
       "      <th>photon_pfRelIso03_chg</th>\n",
       "      <th>photon_genPartFlav</th>\n",
       "      <th>deltaR_photon_lepton</th>\n",
       "      <th>deltaR_photon_jet</th>\n",
       "    </tr>\n",
       "  </thead>\n",
       "  <tbody>\n",
       "    <tr>\n",
       "      <th>count</th>\n",
       "      <td>5128.000000</td>\n",
       "      <td>5128.000000</td>\n",
       "      <td>5128.000000</td>\n",
       "      <td>5128.000000</td>\n",
       "      <td>5128.000000</td>\n",
       "      <td>5128.000000</td>\n",
       "      <td>5128.000000</td>\n",
       "      <td>5128.000000</td>\n",
       "      <td>5128.000000</td>\n",
       "      <td>5128.000000</td>\n",
       "      <td>5128.000000</td>\n",
       "    </tr>\n",
       "    <tr>\n",
       "      <th>mean</th>\n",
       "      <td>59.812263</td>\n",
       "      <td>0.006113</td>\n",
       "      <td>-0.008686</td>\n",
       "      <td>0.007859</td>\n",
       "      <td>0.905628</td>\n",
       "      <td>0.009208</td>\n",
       "      <td>0.025339</td>\n",
       "      <td>0.008776</td>\n",
       "      <td>1.046412</td>\n",
       "      <td>1.875620</td>\n",
       "      <td>0.980995</td>\n",
       "    </tr>\n",
       "    <tr>\n",
       "      <th>std</th>\n",
       "      <td>56.296101</td>\n",
       "      <td>0.725257</td>\n",
       "      <td>1.826404</td>\n",
       "      <td>0.022198</td>\n",
       "      <td>0.125907</td>\n",
       "      <td>0.001089</td>\n",
       "      <td>0.123612</td>\n",
       "      <td>0.031897</td>\n",
       "      <td>2.916193</td>\n",
       "      <td>0.937635</td>\n",
       "      <td>0.444725</td>\n",
       "    </tr>\n",
       "    <tr>\n",
       "      <th>min</th>\n",
       "      <td>0.000000</td>\n",
       "      <td>-1.442139</td>\n",
       "      <td>-3.139648</td>\n",
       "      <td>0.000000</td>\n",
       "      <td>0.000000</td>\n",
       "      <td>0.000000</td>\n",
       "      <td>0.000000</td>\n",
       "      <td>0.000000</td>\n",
       "      <td>0.000000</td>\n",
       "      <td>0.000000</td>\n",
       "      <td>0.000000</td>\n",
       "    </tr>\n",
       "    <tr>\n",
       "      <th>25%</th>\n",
       "      <td>26.275589</td>\n",
       "      <td>-0.566772</td>\n",
       "      <td>-1.590088</td>\n",
       "      <td>0.000000</td>\n",
       "      <td>0.918823</td>\n",
       "      <td>0.008850</td>\n",
       "      <td>0.000000</td>\n",
       "      <td>0.000000</td>\n",
       "      <td>1.000000</td>\n",
       "      <td>1.013071</td>\n",
       "      <td>0.618707</td>\n",
       "    </tr>\n",
       "    <tr>\n",
       "      <th>50%</th>\n",
       "      <td>40.977444</td>\n",
       "      <td>0.013137</td>\n",
       "      <td>-0.018076</td>\n",
       "      <td>0.000000</td>\n",
       "      <td>0.956055</td>\n",
       "      <td>0.009186</td>\n",
       "      <td>0.001183</td>\n",
       "      <td>0.000000</td>\n",
       "      <td>1.000000</td>\n",
       "      <td>1.893133</td>\n",
       "      <td>0.887818</td>\n",
       "    </tr>\n",
       "    <tr>\n",
       "      <th>75%</th>\n",
       "      <td>68.836470</td>\n",
       "      <td>0.569244</td>\n",
       "      <td>1.562317</td>\n",
       "      <td>0.004715</td>\n",
       "      <td>0.966309</td>\n",
       "      <td>0.009499</td>\n",
       "      <td>0.020783</td>\n",
       "      <td>0.003235</td>\n",
       "      <td>1.000000</td>\n",
       "      <td>2.684781</td>\n",
       "      <td>1.263214</td>\n",
       "    </tr>\n",
       "    <tr>\n",
       "      <th>max</th>\n",
       "      <td>550.472412</td>\n",
       "      <td>1.442871</td>\n",
       "      <td>3.141113</td>\n",
       "      <td>0.487305</td>\n",
       "      <td>1.092773</td>\n",
       "      <td>0.022308</td>\n",
       "      <td>5.257202</td>\n",
       "      <td>0.731495</td>\n",
       "      <td>177.000000</td>\n",
       "      <td>4.511411</td>\n",
       "      <td>3.276965</td>\n",
       "    </tr>\n",
       "  </tbody>\n",
       "</table>\n",
       "</div>"
      ],
      "text/plain": [
       "         photon_pt   photon_eta   photon_phi   photon_hoe    photon_r9  \\\n",
       "count  5128.000000  5128.000000  5128.000000  5128.000000  5128.000000   \n",
       "mean     59.812263     0.006113    -0.008686     0.007859     0.905628   \n",
       "std      56.296101     0.725257     1.826404     0.022198     0.125907   \n",
       "min       0.000000    -1.442139    -3.139648     0.000000     0.000000   \n",
       "25%      26.275589    -0.566772    -1.590088     0.000000     0.918823   \n",
       "50%      40.977444     0.013137    -0.018076     0.000000     0.956055   \n",
       "75%      68.836470     0.569244     1.562317     0.004715     0.966309   \n",
       "max     550.472412     1.442871     3.141113     0.487305     1.092773   \n",
       "\n",
       "       photon_sieie  photon_pfRelIso03_all  photon_pfRelIso03_chg  \\\n",
       "count   5128.000000            5128.000000            5128.000000   \n",
       "mean       0.009208               0.025339               0.008776   \n",
       "std        0.001089               0.123612               0.031897   \n",
       "min        0.000000               0.000000               0.000000   \n",
       "25%        0.008850               0.000000               0.000000   \n",
       "50%        0.009186               0.001183               0.000000   \n",
       "75%        0.009499               0.020783               0.003235   \n",
       "max        0.022308               5.257202               0.731495   \n",
       "\n",
       "       photon_genPartFlav  deltaR_photon_lepton  deltaR_photon_jet  \n",
       "count         5128.000000           5128.000000        5128.000000  \n",
       "mean             1.046412              1.875620           0.980995  \n",
       "std              2.916193              0.937635           0.444725  \n",
       "min              0.000000              0.000000           0.000000  \n",
       "25%              1.000000              1.013071           0.618707  \n",
       "50%              1.000000              1.893133           0.887818  \n",
       "75%              1.000000              2.684781           1.263214  \n",
       "max            177.000000              4.511411           3.276965  "
      ]
     },
     "execution_count": 30,
     "metadata": {},
     "output_type": "execute_result"
    }
   ],
   "source": [
    "df = pd.DataFrame({\n",
    "    'photon_pt': np.array(photon_pt),\n",
    "    'photon_eta': np.array(photon_eta),\n",
    "    'photon_phi': np.array(photon_phi),\n",
    "    'photon_hoe': np.array(photon_hoe),\n",
    "    'photon_r9': np.array(photon_r9),\n",
    "    'photon_sieie': np.array(photon_sieie),\n",
    "    'photon_pfRelIso03_all': np.array(photon_pfRelIso03_all),\n",
    "    'photon_pfRelIso03_chg': np.array(photon_pfRelIso03_chg),\n",
    "    #'photon_count': np.array(photon_count), ### different shape than other features...\n",
    "    'photon_genPartFlav': np.array(photon_genPartFlav),  ## target ##\n",
    "    \n",
    "    'deltaR_photon_lepton': np.array(deltaR_photon_lepton),\n",
    "    'deltaR_photon_jet': np.array(deltaR_photon_jet),\n",
    "})\n",
    "df.describe()"
   ]
  },
  {
   "cell_type": "code",
   "execution_count": 31,
   "metadata": {},
   "outputs": [
    {
     "data": {
      "text/html": [
       "<div>\n",
       "<style scoped>\n",
       "    .dataframe tbody tr th:only-of-type {\n",
       "        vertical-align: middle;\n",
       "    }\n",
       "\n",
       "    .dataframe tbody tr th {\n",
       "        vertical-align: top;\n",
       "    }\n",
       "\n",
       "    .dataframe thead th {\n",
       "        text-align: right;\n",
       "    }\n",
       "</style>\n",
       "<table border=\"1\" class=\"dataframe\">\n",
       "  <thead>\n",
       "    <tr style=\"text-align: right;\">\n",
       "      <th></th>\n",
       "      <th>photon_pt</th>\n",
       "      <th>photon_eta</th>\n",
       "      <th>photon_phi</th>\n",
       "      <th>photon_hoe</th>\n",
       "      <th>photon_r9</th>\n",
       "      <th>photon_sieie</th>\n",
       "      <th>photon_pfRelIso03_all</th>\n",
       "      <th>photon_pfRelIso03_chg</th>\n",
       "      <th>photon_genPartFlav</th>\n",
       "      <th>deltaR_photon_lepton</th>\n",
       "      <th>deltaR_photon_jet</th>\n",
       "    </tr>\n",
       "  </thead>\n",
       "  <tbody>\n",
       "    <tr>\n",
       "      <th>0</th>\n",
       "      <td>35.281075</td>\n",
       "      <td>1.013672</td>\n",
       "      <td>-2.959961</td>\n",
       "      <td>0.024109</td>\n",
       "      <td>0.959473</td>\n",
       "      <td>0.010345</td>\n",
       "      <td>0.018126</td>\n",
       "      <td>0.000000</td>\n",
       "      <td>1</td>\n",
       "      <td>0.673868</td>\n",
       "      <td>0.433896</td>\n",
       "    </tr>\n",
       "    <tr>\n",
       "      <th>1</th>\n",
       "      <td>49.449341</td>\n",
       "      <td>-0.927979</td>\n",
       "      <td>0.476990</td>\n",
       "      <td>0.000000</td>\n",
       "      <td>0.489990</td>\n",
       "      <td>0.009041</td>\n",
       "      <td>0.000000</td>\n",
       "      <td>0.000000</td>\n",
       "      <td>1</td>\n",
       "      <td>0.424922</td>\n",
       "      <td>0.429203</td>\n",
       "    </tr>\n",
       "    <tr>\n",
       "      <th>2</th>\n",
       "      <td>28.769894</td>\n",
       "      <td>-0.589233</td>\n",
       "      <td>-0.331116</td>\n",
       "      <td>0.000000</td>\n",
       "      <td>0.764160</td>\n",
       "      <td>0.008560</td>\n",
       "      <td>0.083477</td>\n",
       "      <td>0.083477</td>\n",
       "      <td>1</td>\n",
       "      <td>2.511429</td>\n",
       "      <td>0.605962</td>\n",
       "    </tr>\n",
       "    <tr>\n",
       "      <th>3</th>\n",
       "      <td>31.101566</td>\n",
       "      <td>0.875122</td>\n",
       "      <td>-0.901123</td>\n",
       "      <td>0.000000</td>\n",
       "      <td>0.967773</td>\n",
       "      <td>0.009857</td>\n",
       "      <td>0.000000</td>\n",
       "      <td>0.000000</td>\n",
       "      <td>1</td>\n",
       "      <td>1.692268</td>\n",
       "      <td>1.213066</td>\n",
       "    </tr>\n",
       "    <tr>\n",
       "      <th>4</th>\n",
       "      <td>152.660461</td>\n",
       "      <td>0.046585</td>\n",
       "      <td>-1.978027</td>\n",
       "      <td>0.005081</td>\n",
       "      <td>0.966797</td>\n",
       "      <td>0.008659</td>\n",
       "      <td>0.000000</td>\n",
       "      <td>0.000000</td>\n",
       "      <td>1</td>\n",
       "      <td>1.430684</td>\n",
       "      <td>0.719516</td>\n",
       "    </tr>\n",
       "  </tbody>\n",
       "</table>\n",
       "</div>"
      ],
      "text/plain": [
       "    photon_pt  photon_eta  photon_phi  photon_hoe  photon_r9  photon_sieie  \\\n",
       "0   35.281075    1.013672   -2.959961    0.024109   0.959473      0.010345   \n",
       "1   49.449341   -0.927979    0.476990    0.000000   0.489990      0.009041   \n",
       "2   28.769894   -0.589233   -0.331116    0.000000   0.764160      0.008560   \n",
       "3   31.101566    0.875122   -0.901123    0.000000   0.967773      0.009857   \n",
       "4  152.660461    0.046585   -1.978027    0.005081   0.966797      0.008659   \n",
       "\n",
       "   photon_pfRelIso03_all  photon_pfRelIso03_chg  photon_genPartFlav  \\\n",
       "0               0.018126               0.000000                   1   \n",
       "1               0.000000               0.000000                   1   \n",
       "2               0.083477               0.083477                   1   \n",
       "3               0.000000               0.000000                   1   \n",
       "4               0.000000               0.000000                   1   \n",
       "\n",
       "   deltaR_photon_lepton  deltaR_photon_jet  \n",
       "0              0.673868           0.433896  \n",
       "1              0.424922           0.429203  \n",
       "2              2.511429           0.605962  \n",
       "3              1.692268           1.213066  \n",
       "4              1.430684           0.719516  "
      ]
     },
     "execution_count": 31,
     "metadata": {},
     "output_type": "execute_result"
    }
   ],
   "source": [
    "df.head()"
   ]
  },
  {
   "cell_type": "code",
   "execution_count": 32,
   "metadata": {},
   "outputs": [
    {
     "data": {
      "text/plain": [
       "1      5029\n",
       "0        94\n",
       "3         1\n",
       "106       1\n",
       "38        1\n",
       "177       1\n",
       "13        1\n",
       "Name: photon_genPartFlav, dtype: int64"
      ]
     },
     "execution_count": 32,
     "metadata": {},
     "output_type": "execute_result"
    }
   ],
   "source": [
    "df['photon_genPartFlav'].value_counts()"
   ]
  },
  {
   "cell_type": "code",
   "execution_count": 33,
   "metadata": {},
   "outputs": [],
   "source": [
    "df = df[(df['photon_genPartFlav'] == 1) | (df['photon_genPartFlav'] == 0)]"
   ]
  },
  {
   "cell_type": "code",
   "execution_count": 34,
   "metadata": {},
   "outputs": [
    {
     "data": {
      "text/plain": [
       "1    5029\n",
       "0      94\n",
       "Name: photon_genPartFlav, dtype: int64"
      ]
     },
     "execution_count": 34,
     "metadata": {},
     "output_type": "execute_result"
    }
   ],
   "source": [
    "df['photon_genPartFlav'].value_counts()"
   ]
  },
  {
   "cell_type": "code",
   "execution_count": null,
   "metadata": {},
   "outputs": [],
   "source": []
  },
  {
   "cell_type": "code",
   "execution_count": 35,
   "metadata": {},
   "outputs": [
    {
     "name": "stdout",
     "output_type": "stream",
     "text": [
      "(3073, 10)\n",
      "1\n",
      "0\n"
     ]
    }
   ],
   "source": [
    "# split into features and labels\n",
    "X = np.array(df.drop(['photon_genPartFlav'],axis=1))\n",
    "y = df['photon_genPartFlav']\n",
    "\n",
    "# shuffle & split into training, validation, testing datasets\n",
    "X_train, X_test, y_train, y_test = train_test_split(X, y, test_size=0.2, random_state=1)\n",
    "X_train, X_val, y_train, y_val = train_test_split(X_train, y_train, test_size=0.25, random_state=1)\n",
    "\n",
    "print(X_train.shape)\n",
    "print(y_train.max())\n",
    "print(y_train.min())"
   ]
  },
  {
   "cell_type": "code",
   "execution_count": 36,
   "metadata": {},
   "outputs": [],
   "source": [
    "# Scale: mean=0, stdev=1\n",
    "scaler = StandardScaler()\n",
    "\n",
    "X_train_scaled = scaler.fit_transform(X_train)\n",
    "X_val_scaled = scaler.fit_transform(X_val)\n",
    "X_test_scaled = scaler.fit_transform(X_test)"
   ]
  },
  {
   "cell_type": "code",
   "execution_count": 37,
   "metadata": {},
   "outputs": [
    {
     "name": "stdout",
     "output_type": "stream",
     "text": [
      "Model: \"sequential\"\n",
      "_________________________________________________________________\n",
      "Layer (type)                 Output Shape              Param #   \n",
      "=================================================================\n",
      "dense (Dense)                (None, 32)                352       \n",
      "_________________________________________________________________\n",
      "dense_1 (Dense)              (None, 32)                1056      \n",
      "_________________________________________________________________\n",
      "dense_2 (Dense)              (None, 1)                 33        \n",
      "=================================================================\n",
      "Total params: 1,441\n",
      "Trainable params: 1,441\n",
      "Non-trainable params: 0\n",
      "_________________________________________________________________\n"
     ]
    }
   ],
   "source": [
    "model = Sequential()\n",
    "model.add(Dense(32, input_shape=(X_train.shape[1],), activation=\"relu\"))\n",
    "model.add(Dense(32, activation=\"relu\"))\n",
    "model.add(Dense(1,activation=\"sigmoid\"))\n",
    "\n",
    "model.compile(\"adam\", \"binary_crossentropy\", metrics=[\"accuracy\"])\n",
    "model.summary()"
   ]
  },
  {
   "cell_type": "code",
   "execution_count": 38,
   "metadata": {},
   "outputs": [
    {
     "name": "stdout",
     "output_type": "stream",
     "text": [
      "Epoch 1/10\n",
      "25/25 [==============================] - 0s 1ms/step - loss: 0.5338 - accuracy: 0.8692\n",
      "Epoch 2/10\n",
      "25/25 [==============================] - 0s 1ms/step - loss: 0.3059 - accuracy: 0.9811\n",
      "Epoch 3/10\n",
      "25/25 [==============================] - 0s 1ms/step - loss: 0.1930 - accuracy: 0.9811\n",
      "Epoch 4/10\n",
      "25/25 [==============================] - 0s 1ms/step - loss: 0.1386 - accuracy: 0.9811\n",
      "Epoch 5/10\n",
      "25/25 [==============================] - 0s 1ms/step - loss: 0.1077 - accuracy: 0.9811\n",
      "Epoch 6/10\n",
      "25/25 [==============================] - 0s 1ms/step - loss: 0.0893 - accuracy: 0.9815\n",
      "Epoch 7/10\n",
      "25/25 [==============================] - 0s 1ms/step - loss: 0.0752 - accuracy: 0.9831\n",
      "Epoch 8/10\n",
      "25/25 [==============================] - 0s 1ms/step - loss: 0.0667 - accuracy: 0.9844\n",
      "Epoch 9/10\n",
      "25/25 [==============================] - 0s 1ms/step - loss: 0.0597 - accuracy: 0.9857\n",
      "Epoch 10/10\n",
      "25/25 [==============================] - 0s 1ms/step - loss: 0.0552 - accuracy: 0.9870\n"
     ]
    },
    {
     "data": {
      "text/plain": [
       "<tensorflow.python.keras.callbacks.History at 0x7f477844f190>"
      ]
     },
     "execution_count": 38,
     "metadata": {},
     "output_type": "execute_result"
    }
   ],
   "source": [
    "model.fit(X_train_scaled, y_train, epochs=10, batch_size=128)"
   ]
  },
  {
   "cell_type": "code",
   "execution_count": 39,
   "metadata": {},
   "outputs": [
    {
     "name": "stdout",
     "output_type": "stream",
     "text": [
      "Test loss: 0.06745\n",
      "Test accuracy: 0.98634\n"
     ]
    }
   ],
   "source": [
    "loss, accuracy = model.evaluate(X_test_scaled,y_test,verbose=0)\n",
    "print(f'Test loss: {round(loss,5)}\\nTest accuracy: {round(accuracy,5)}')"
   ]
  },
  {
   "cell_type": "code",
   "execution_count": 40,
   "metadata": {},
   "outputs": [],
   "source": [
    "y_pred = model.predict(X_test_scaled)\n",
    "fpr, tpr, thresholds = roc_curve(y_test, y_pred)\n",
    "area_under_curve = auc(fpr, tpr)"
   ]
  },
  {
   "cell_type": "code",
   "execution_count": 41,
   "metadata": {},
   "outputs": [
    {
     "data": {
      "image/png": "[encoded data removed]",
      "text/plain": [
       "<Figure size 432x288 with 1 Axes>"
      ]
     },
     "metadata": {
      "needs_background": "light"
     },
     "output_type": "display_data"
    }
   ],
   "source": [
    "plt.plot([0,1], [0,1], 'k--')\n",
    "plt.plot(fpr, tpr, label='area = {:.3f}'.format(area_under_curve))\n",
    "\n",
    "plt.xlabel('False positive rate')\n",
    "plt.ylabel('True positive rate')\n",
    "plt.title('ROC curve')\n",
    "plt.legend(loc='best')\n",
    "plt.show()"
   ]
  },
  {
   "cell_type": "code",
   "execution_count": 42,
   "metadata": {},
   "outputs": [],
   "source": [
    "predTrue  = y_pred[y_test==True]\n",
    "predFalse = y_pred[y_test==False]"
   ]
  },
  {
   "cell_type": "code",
   "execution_count": 43,
   "metadata": {},
   "outputs": [
    {
     "data": {
      "image/png": "[encoded data removed]",
      "text/plain": [
       "<Figure size 432x288 with 1 Axes>"
      ]
     },
     "metadata": {
      "needs_background": "light"
     },
     "output_type": "display_data"
    }
   ],
   "source": [
    "plt.hist(predTrue,alpha=0.5,label='true label=1')\n",
    "plt.hist(predFalse,alpha=0.5,label='true label=0')\n",
    "\n",
    "plt.xlabel('Predicted label')\n",
    "plt.ylabel('Counts')\n",
    "plt.title('')\n",
    "plt.legend(loc='best')\n",
    "plt.show()"
   ]
  },
  {
   "cell_type": "code",
   "execution_count": null,
   "metadata": {},
   "outputs": [],
   "source": []
  },
  {
   "cell_type": "code",
   "execution_count": null,
   "metadata": {},
   "outputs": [],
   "source": []
  },
  {
   "cell_type": "code",
   "execution_count": null,
   "metadata": {},
   "outputs": [],
   "source": []
  },
  {
   "cell_type": "code",
   "execution_count": null,
   "metadata": {},
   "outputs": [],
   "source": []
  },
  {
   "cell_type": "code",
   "execution_count": null,
   "metadata": {},
   "outputs": [],
   "source": []
  },
  {
   "cell_type": "code",
   "execution_count": null,
   "metadata": {},
   "outputs": [],
   "source": []
  }
 ],
 "metadata": {
  "kernelspec": {
   "display_name": "Python 3",
   "language": "python",
   "name": "python3"
  },
  "language_info": {
   "codemirror_mode": {
    "name": "ipython",
    "version": 3
   },
   "file_extension": ".py",
   "mimetype": "text/x-python",
   "name": "python",
   "nbconvert_exporter": "python",
   "pygments_lexer": "ipython3",
   "version": "3.8.5"
  }
 },
 "nbformat": 4,
 "nbformat_minor": 4
}
