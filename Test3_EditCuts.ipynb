{
 "cells": [
  {
   "cell_type": "markdown",
   "metadata": {},
   "source": [
    "# testing without processor: edit features and cuts\n",
    "Only `TTGamma` data, distinguishing prompt photons from fake photons\n",
    "\n",
    "* `ak.flatten` instead of `ak.pad_none`\n",
    "* Remove jet & muon features\n",
    "* Remove 1 photon requirement. How to include `photon_count` feature?\n",
    "* Add cut: pho-jet $\\Delta R > 0.4$. ??? histograms look correct, but column accumulators have an issue"
   ]
  },
  {
   "cell_type": "code",
   "execution_count": 1,
   "metadata": {},
   "outputs": [],
   "source": [
    "from coffea import hist, util\n",
    "\n",
    "#import coffea.processor as processor\n",
    "from coffea.nanoevents import NanoEventsFactory, NanoAODSchema\n",
    "import awkward as ak\n",
    "import numpy as np\n",
    "import uproot\n",
    "\n",
    "import matplotlib.pyplot as plt\n",
    "import pandas as pd\n",
    "\n",
    "import tensorflow as tf\n",
    "from tensorflow import keras\n",
    "from keras.models import Sequential\n",
    "from keras.layers import Dense\n",
    "\n",
    "from sklearn.preprocessing import StandardScaler, MinMaxScaler\n",
    "from sklearn.model_selection import train_test_split\n",
    "from sklearn.metrics import roc_curve, auc"
   ]
  },
  {
   "cell_type": "code",
   "execution_count": 2,
   "metadata": {},
   "outputs": [],
   "source": [
    "#Define files to run over\n",
    "skimDir=\"/udrive/staff/dnoonan/Skims\"\n",
    "\n",
    "fileset = {\"TTGamma\":[f\"{skimDir}/TTGamma_SingleLept_2016_skim.root\"],\n",
    "           \"TTbar\":[f\"{skimDir}/TTbarPowheg_Semilept_2016_skim_1of10.root\",\n",
    "                    f\"{skimDir}/TTbarPowheg_Semilept_2016_skim_2of10.root\"],\n",
    "          }\n",
    "\n",
    "filesetData = {\"DataMu\":[f\"{skimDir}/Data_SingleMu_b_2016_skim_1of10.root\"],\n",
    "              }"
   ]
  },
  {
   "cell_type": "code",
   "execution_count": 3,
   "metadata": {},
   "outputs": [],
   "source": [
    "np.warnings.filterwarnings('ignore')\n",
    "\n",
    "#the NanoAODSchema needs to be adjusted, to remove cross references to FSRPhotons\n",
    "class SkimmedSchema(NanoAODSchema):\n",
    "    def __init__(self, base_form):\n",
    "        base_form[\"contents\"].pop(\"Muon_fsrPhotonIdx\", None)\n",
    "        super().__init__(base_form)"
   ]
  },
  {
   "cell_type": "code",
   "execution_count": 4,
   "metadata": {},
   "outputs": [],
   "source": [
    "# events from TTGamma\n",
    "events = NanoEventsFactory.from_root(fileset[\"TTGamma\"][0],\n",
    "                                     schemaclass=SkimmedSchema,\n",
    "                                     entry_stop=10000).events()\n",
    "\n",
    "dataset = \"TTGamma\""
   ]
  },
  {
   "cell_type": "code",
   "execution_count": 5,
   "metadata": {},
   "outputs": [],
   "source": [
    "# photon cuts\n",
    "photons = events.Photon\n",
    "photonSelect= ((photons.pt>20) &\n",
    "               (abs(photons.eta) < 1.4442) &\n",
    "               (photons.isScEtaEE | photons.isScEtaEB) &\n",
    "               (photons.electronVeto) & \n",
    "               np.invert(photons.pixelSeed)\n",
    "               )\n",
    "tightPhotons = photons[photonSelect]"
   ]
  },
  {
   "cell_type": "code",
   "execution_count": 6,
   "metadata": {},
   "outputs": [],
   "source": [
    "# muon cuts\n",
    "muons = events.Muon\n",
    "muonSelectTight = ((muons.pt>30) &\n",
    "                   (abs(muons.eta)<2.4) &\n",
    "                   (muons.tightId) &\n",
    "                   (muons.pfRelIso04_all < 0.15)\n",
    "                  )\n",
    "tightMuons = muons[muonSelectTight]"
   ]
  },
  {
   "cell_type": "code",
   "execution_count": 7,
   "metadata": {},
   "outputs": [],
   "source": [
    "# jet & b-tagged jet cuts\n",
    "jets = events.Jet\n",
    "\n",
    "jetSelectTight = ((jets.pt>30) &\n",
    "                  (abs(jets.eta)<2.4) &\n",
    "                  (jets.isTight)\n",
    "                 )\n",
    "btaggedJetSelect = (jetSelectTight &\n",
    "                   (jets.btagDeepB>0.6321)\n",
    "                  )\n",
    "\n",
    "tightJets = jets[jetSelectTight]\n",
    "tightBJets = jets[btaggedJetSelect]"
   ]
  },
  {
   "cell_type": "code",
   "execution_count": 8,
   "metadata": {},
   "outputs": [],
   "source": [
    "# electron cuts\n",
    "electrons = events.Electron\n",
    "electronSelectTight = ((electrons.pt> 35) &\n",
    "                       (abs(electrons.eta)<2.1) &\n",
    "                       (electrons.cutBased>=4)\n",
    "                      )\n",
    "tightEle = electrons[electronSelectTight]"
   ]
  },
  {
   "cell_type": "code",
   "execution_count": null,
   "metadata": {},
   "outputs": [],
   "source": []
  },
  {
   "cell_type": "code",
   "execution_count": 9,
   "metadata": {},
   "outputs": [],
   "source": [
    "## delta R using nearest\n",
    "phoMu, phoMuDR   = tightPhotons.nearest(tightMuons,return_metric=True)\n",
    "phoJet, phoJetDR = tightPhotons.nearest(tightJets,return_metric=True)"
   ]
  },
  {
   "cell_type": "code",
   "execution_count": 10,
   "metadata": {},
   "outputs": [
    {
     "name": "stdout",
     "output_type": "stream",
     "text": [
      "Pho: [[Photon], [], [], [Photon], [], ... [Photon], [Photon], [Photon], [Photon]]\n",
      "Mu:  [[Muon], [], [], [Muon], [], [], [], ... [Muon], [], [Muon], [], [Muon], []]\n",
      "DR:  [[1.87], [], [], [2.99], [], [None, None, ... [None], [4.26], [None], [2.6], [None]]\n"
     ]
    }
   ],
   "source": [
    "print('Pho:',tightPhotons)\n",
    "print('Mu: ',tightMuons)\n",
    "print('DR: ',phoMuDR)\n",
    "\n",
    "# [] == no photon\n",
    "# [None] == photon but no muon; will be removed by the event selection (ak.num(tightMuons)==1)"
   ]
  },
  {
   "cell_type": "code",
   "execution_count": 11,
   "metadata": {},
   "outputs": [],
   "source": [
    "# event cuts\n",
    "trigger = events.HLT.IsoMu24 | events.HLT.IsoTkMu24\n",
    "\n",
    "eventSelection = (trigger &\n",
    "                  (ak.num(tightMuons)==1) &\n",
    "                  (ak.num(tightJets)>=4) & \n",
    "                  (ak.num(tightBJets)>=1) &\n",
    "                  (ak.num(tightEle)==0) &\n",
    "                  (ak.num(tightPhotons)>=1) &\n",
    "                  (phoJetDR>0.4))"
   ]
  },
  {
   "cell_type": "code",
   "execution_count": 12,
   "metadata": {},
   "outputs": [
    {
     "data": {
      "text/plain": [
       "<Array [[True], [], [], ... [False], [True]] type='10000 * var * ?bool'>"
      ]
     },
     "execution_count": 12,
     "metadata": {},
     "output_type": "execute_result"
    }
   ],
   "source": [
    "phoJetDR>0.4"
   ]
  },
  {
   "cell_type": "code",
   "execution_count": null,
   "metadata": {},
   "outputs": [],
   "source": []
  },
  {
   "cell_type": "code",
   "execution_count": 13,
   "metadata": {},
   "outputs": [],
   "source": [
    "##### histograms #####"
   ]
  },
  {
   "cell_type": "code",
   "execution_count": 14,
   "metadata": {},
   "outputs": [],
   "source": [
    "dataset_axis = hist.Cat(\"dataset\",\"Dataset\")\n",
    "\n",
    "photon_pt_axis = hist.Bin(\"pt\",\"photon $p_{T}$ [GeV]\", 40, 0, 400)\n",
    "photon_eta_axis = hist.Bin(\"eta\",\"photon $\\eta$\", 50, -2.5, 2.5)\n",
    "photon_phi_axis = hist.Bin(\"phi\",\"photon $\\phi$\", 64, -3.2, 3.2)\n",
    "photon_reliso_all_axis = hist.Bin(\"reliso\",\"photon pfRelIso03_all\", 40, -0.5, 6)\n",
    "photon_reliso_chg_axis = hist.Bin(\"reliso\",\"photon pfRelIso03_chg\", 40, -0.5, 6)\n",
    "photon_sieie_axis = hist.Bin(\"sieie\",\"photon sigma I eta I eta\", 40, 0, 0.05)\n",
    "photon_r9_axis = hist.Bin(\"r9\",\"photon R9\", 40, -0.5, 1.5)\n",
    "photon_hoe_axis = hist.Bin(\"hoe\",\"photon H over E\", 40, -0.5, 1)\n",
    "photon_count_axis = hist.Bin(\"count\",\"Photon number\",12,-1,10)\n",
    "\n",
    "deltar_axis = hist.Bin(\"deltar\",\"$\\Delta R$\", 50, -0.5, 4)\n",
    "\n",
    "photon_genPartFlav_axis = hist.Bin(\"flav\",\"genPartFlav\",40,-1,15)"
   ]
  },
  {
   "cell_type": "code",
   "execution_count": 15,
   "metadata": {},
   "outputs": [],
   "source": [
    "photon_pt_hist = hist.Hist(\"Counts\", dataset_axis, photon_pt_axis)\n",
    "photon_eta_hist = hist.Hist(\"Counts\", dataset_axis, photon_eta_axis)\n",
    "photon_phi_hist = hist.Hist(\"Counts\", dataset_axis, photon_phi_axis)\n",
    "photon_reliso_all_hist = hist.Hist(\"Counts\", dataset_axis, photon_reliso_all_axis)\n",
    "photon_reliso_chg_hist = hist.Hist(\"Counts\", dataset_axis, photon_reliso_chg_axis)\n",
    "photon_sieie_hist = hist.Hist(\"Counts\", dataset_axis, photon_sieie_axis)\n",
    "photon_r9_hist = hist.Hist(\"Counts\", dataset_axis, photon_r9_axis)\n",
    "photon_hoe_hist = hist.Hist(\"Counts\", dataset_axis, photon_hoe_axis)\n",
    "photon_count_hist = hist.Hist(\"Counts\", dataset_axis, photon_count_axis)\n",
    "\n",
    "deltaR_photon_lepton_hist = hist.Hist(\"Counts\", dataset_axis, deltar_axis)\n",
    "deltaR_photon_jet_hist = hist.Hist(\"Counts\", dataset_axis, deltar_axis)\n",
    "\n",
    "photon_genPartFlav_hist = hist.Hist(\"Counts\", dataset_axis, photon_genPartFlav_axis)"
   ]
  },
  {
   "cell_type": "code",
   "execution_count": 16,
   "metadata": {},
   "outputs": [],
   "source": [
    "photon_pt_hist.fill(dataset=dataset,\n",
    "                    pt=ak.flatten(tightPhotons[eventSelection].pt))\n",
    "photon_eta_hist.fill(dataset=dataset,\n",
    "                     eta=ak.flatten(tightPhotons[eventSelection].eta))\n",
    "photon_phi_hist.fill(dataset=dataset,\n",
    "                     phi=ak.flatten(tightPhotons[eventSelection].phi))\n",
    "photon_reliso_all_hist.fill(dataset=dataset,\n",
    "                            reliso=ak.flatten(tightPhotons[eventSelection].pfRelIso03_all))\n",
    "photon_reliso_chg_hist.fill(dataset=dataset,\n",
    "                            reliso=ak.flatten(tightPhotons[eventSelection].pfRelIso03_chg))\n",
    "photon_sieie_hist.fill(dataset=dataset,\n",
    "                       sieie=ak.flatten(tightPhotons[eventSelection].sieie))\n",
    "photon_r9_hist.fill(dataset=dataset,\n",
    "                    r9=ak.flatten(tightPhotons[eventSelection].r9))\n",
    "photon_hoe_hist.fill(dataset=dataset,\n",
    "                     hoe=ak.flatten(tightPhotons[eventSelection].hoe))\n",
    "photon_count_hist.fill(dataset=dataset,\n",
    "                       count=(ak.num(tightPhotons[eventSelection])))\n",
    "\n",
    "deltaR_photon_lepton_hist.fill(dataset=dataset,\n",
    "                               deltar=ak.flatten(phoMuDR[eventSelection]))\n",
    "deltaR_photon_jet_hist.fill(dataset=dataset,\n",
    "                            deltar=ak.flatten(phoJetDR[eventSelection]))\n",
    "\n",
    "photon_genPartFlav_hist.fill(dataset=dataset,\n",
    "                             flav=ak.flatten(tightPhotons[eventSelection].genPartFlav))"
   ]
  },
  {
   "cell_type": "code",
   "execution_count": 17,
   "metadata": {},
   "outputs": [
    {
     "data": {
      "image/png": "[encoded data removed]",
      "text/plain": [
       "<Figure size 432x288 with 1 Axes>"
      ]
     },
     "metadata": {
      "needs_background": "light"
     },
     "output_type": "display_data"
    }
   ],
   "source": [
    "hist.plot1d(photon_pt_hist,overlay='dataset',stack=False,density=True)\n",
    "plt.show()"
   ]
  },
  {
   "cell_type": "code",
   "execution_count": 18,
   "metadata": {},
   "outputs": [
    {
     "data": {
      "image/png": "[encoded data removed]",
      "text/plain": [
       "<Figure size 432x288 with 1 Axes>"
      ]
     },
     "metadata": {
      "needs_background": "light"
     },
     "output_type": "display_data"
    }
   ],
   "source": [
    "hist.plot1d(deltaR_photon_lepton_hist,overlay='dataset',stack=False,density=True)\n",
    "plt.show()"
   ]
  },
  {
   "cell_type": "code",
   "execution_count": 19,
   "metadata": {},
   "outputs": [
    {
     "data": {
      "image/png": "[encoded data removed]",
      "text/plain": [
       "<Figure size 432x288 with 1 Axes>"
      ]
     },
     "metadata": {
      "needs_background": "light"
     },
     "output_type": "display_data"
    }
   ],
   "source": [
    "hist.plot1d(deltaR_photon_jet_hist,overlay='dataset',stack=False,density=True)\n",
    "plt.show()"
   ]
  },
  {
   "cell_type": "code",
   "execution_count": 20,
   "metadata": {},
   "outputs": [
    {
     "data": {
      "image/png": "[encoded data removed]",
      "text/plain": [
       "<Figure size 432x288 with 1 Axes>"
      ]
     },
     "metadata": {
      "needs_background": "light"
     },
     "output_type": "display_data"
    }
   ],
   "source": [
    "hist.plot1d(photon_genPartFlav_hist,overlay='dataset',stack=False,density=True)\n",
    "plt.show()"
   ]
  },
  {
   "cell_type": "code",
   "execution_count": null,
   "metadata": {},
   "outputs": [],
   "source": []
  },
  {
   "cell_type": "code",
   "execution_count": 21,
   "metadata": {},
   "outputs": [],
   "source": [
    "###### column accumulators #######"
   ]
  },
  {
   "cell_type": "code",
   "execution_count": 22,
   "metadata": {},
   "outputs": [],
   "source": [
    "photon_pt = ak.to_numpy(ak.flatten(tightPhotons.pt[eventSelection]))\n",
    "photon_eta = ak.to_numpy(ak.flatten(tightPhotons.eta[eventSelection]))\n",
    "photon_phi = ak.to_numpy(ak.flatten(tightPhotons.phi[eventSelection]))\n",
    "photon_pfRelIso03_all = ak.to_numpy(ak.flatten(tightPhotons.pfRelIso03_all[eventSelection]))\n",
    "photon_pfRelIso03_chg = ak.to_numpy(ak.flatten(tightPhotons.pfRelIso03_chg[eventSelection]))\n",
    "photon_sieie = ak.to_numpy(ak.flatten(tightPhotons.sieie[eventSelection]))\n",
    "photon_r9 = ak.to_numpy(ak.flatten(tightPhotons.r9[eventSelection]))\n",
    "photon_hoe = ak.to_numpy(ak.flatten(tightPhotons.hoe[eventSelection]))\n",
    "\n",
    "dim = ak.to_numpy(ak.num(tightPhotons[eventSelection]))\n",
    "photon_count = ak.to_numpy(ak.num(tightPhotons[eventSelection]))\n",
    "\n",
    "deltaR_photon_lepton = ak.to_numpy(ak.flatten(phoMuDR[eventSelection]))\n",
    "deltaR_photon_jet = ak.to_numpy(ak.flatten(phoJetDR[eventSelection]))\n",
    "\n",
    "photon_genPartFlav = ak.to_numpy(ak.flatten(tightPhotons.genPartFlav[eventSelection]))\n"
   ]
  },
  {
   "cell_type": "code",
   "execution_count": 23,
   "metadata": {},
   "outputs": [
    {
     "data": {
      "text/plain": [
       "(10000,)"
      ]
     },
     "execution_count": 23,
     "metadata": {},
     "output_type": "execute_result"
    }
   ],
   "source": [
    "photon_count.shape\n",
    "# (2931,) more than other features; includes events with 0 photons.\n",
    "\n",
    "# new event cut: not Exactly one photon, but At Least one photon\n",
    "# (1568,) less than other features; one entry per event, not one entry per photon...."
   ]
  },
  {
   "cell_type": "code",
   "execution_count": 24,
   "metadata": {},
   "outputs": [
    {
     "name": "stdout",
     "output_type": "stream",
     "text": [
      "[0 0 0 ... 0 0 0]\n",
      "(10000,)\n"
     ]
    }
   ],
   "source": [
    "dim = ak.to_numpy(ak.num(tightPhotons[eventSelection]))\n",
    "print(dim) # number photons in each event\n",
    "print(dim.shape) # number of events"
   ]
  },
  {
   "cell_type": "code",
   "execution_count": 25,
   "metadata": {},
   "outputs": [
    {
     "data": {
      "text/plain": [
       "(535,)"
      ]
     },
     "execution_count": 25,
     "metadata": {},
     "output_type": "execute_result"
    }
   ],
   "source": [
    "ak.to_numpy(ak.flatten(tightPhotons[eventSelection])).shape # number of photons"
   ]
  },
  {
   "cell_type": "code",
   "execution_count": null,
   "metadata": {},
   "outputs": [],
   "source": []
  },
  {
   "cell_type": "code",
   "execution_count": null,
   "metadata": {},
   "outputs": [],
   "source": []
  },
  {
   "cell_type": "code",
   "execution_count": 26,
   "metadata": {},
   "outputs": [
    {
     "data": {
      "text/plain": [
       "(535,)"
      ]
     },
     "execution_count": 26,
     "metadata": {},
     "output_type": "execute_result"
    }
   ],
   "source": [
    "photon_pt.shape"
   ]
  },
  {
   "cell_type": "code",
   "execution_count": 27,
   "metadata": {},
   "outputs": [
    {
     "data": {
      "text/plain": [
       "array([ 35.281075,  49.44934 ,  28.769894,  31.101566, 152.66046 ,\n",
       "        51.83101 ,  76.703026,  67.51278 ,  38.540478,  39.253826,\n",
       "        57.734154,  22.72388 ,  32.54122 ,  21.979406,  25.421835,\n",
       "        65.53817 ,  81.5897  ,  21.998438,  22.411175, 129.8085  ,\n",
       "        25.847443,  47.301296,  58.852924,  50.465275,  20.333208,\n",
       "        67.44624 ,  28.107462,  34.174965,  46.360043,  92.542465,\n",
       "        52.295574,  38.585636,  20.800695, 261.6831  ,  49.84153 ,\n",
       "        25.49042 ,  40.555843,  44.605167,  95.457375,  22.382675,\n",
       "        24.06832 ,  21.940132,  20.359816,  32.97046 ,  47.67932 ,\n",
       "        24.389797, 347.08508 ,  24.337135,  62.491257,  22.281546,\n",
       "        20.058075,  91.9475  ,  38.513905,  47.640682,  24.392567,\n",
       "        42.826992,  20.541357,  29.91543 ,  22.80285 ,  75.609245,\n",
       "        29.597458,  31.452442,  35.63822 ,  61.141903,  20.36454 ,\n",
       "        20.546593,  42.539238,  21.087948,  39.090767,  23.652805,\n",
       "        45.02262 ,  35.72438 ,  42.185272,  35.595108,  24.70581 ,\n",
       "        28.848337,  37.533722,  35.65342 ,  72.85367 , 106.374855,\n",
       "       256.91666 ,  63.036858,  59.074554,  82.20194 , 102.98311 ,\n",
       "        63.065563,  35.57546 ,  56.292973,  53.250015,  46.45503 ,\n",
       "       117.57969 ,  57.85902 ,  88.67864 ,  20.989532,  28.95036 ,\n",
       "        61.579872,  27.198324,  40.348454,  43.80842 ,  91.00182 ,\n",
       "        55.672485,  26.737673,  20.405602,  27.304632,  23.44966 ,\n",
       "        34.657234,  81.09168 ,  36.337757,  34.877964,  22.209095,\n",
       "        27.087341,  24.17729 ,  44.154343,  37.73635 ,  77.98849 ,\n",
       "        55.749577,  78.11256 ,  20.86571 ,  44.874306,  29.55527 ,\n",
       "        42.553013,  20.529934,  37.70841 , 114.393745,  60.408432,\n",
       "        54.037086,  28.842815,  27.045258, 139.8299  , 111.27094 ,\n",
       "        72.158264,  99.05068 ,  78.6102  ,  26.420937,  80.19207 ,\n",
       "        20.550985,  25.935564,  51.509476,  36.861835, 228.09479 ,\n",
       "       137.55215 ,  50.697437,  40.191044,  90.3657  ,  69.593575,\n",
       "        36.84832 ,  58.438175,  33.266506,  22.178186,  91.54039 ,\n",
       "        78.46866 ,  27.85655 ,  24.401646,  49.624294,  42.937298,\n",
       "       163.23207 ,  25.4156  ,  67.40163 , 213.20256 ,  56.47995 ,\n",
       "        38.61877 ,  30.34924 ,  20.99785 ,  25.472223,  35.256016,\n",
       "        56.341545,  63.976246,  49.54578 ,  88.709274,  26.699684,\n",
       "        21.123516,  49.70312 ,  27.01705 , 194.60168 ,  69.10498 ,\n",
       "       229.81342 ,  21.659065,  59.07472 ,  29.609907,  23.850462,\n",
       "        25.33212 ,  23.549694,  20.272947, 100.99419 ,  23.46748 ,\n",
       "        59.66698 , 109.46241 ,  47.63187 ,  96.32051 ,  54.766933,\n",
       "       171.05399 ,  21.891127, 137.06638 ,  73.64123 , 113.35157 ,\n",
       "        51.050232,  21.901688,  44.931553,  23.95883 ,  63.27792 ,\n",
       "        29.864443,  34.175816,  51.125957, 165.7563  , 122.117455,\n",
       "       285.75406 ,  56.236694,  52.38492 ,  60.456036, 111.22845 ,\n",
       "        28.916746,  43.93856 , 166.85815 ,  66.92025 , 155.28287 ,\n",
       "       172.35175 ,  28.598501,  22.056774, 173.54254 ,  89.79387 ,\n",
       "        40.96624 ,  50.061356,  21.913488,  48.27498 ,  60.551884,\n",
       "        43.481144,  23.526142, 357.00787 , 108.08159 ,  60.332172,\n",
       "        25.075413, 121.41127 ,  42.40059 , 182.16035 ,  23.28193 ,\n",
       "        40.52478 ,  30.156729,  21.104393,  21.917362,  88.75992 ,\n",
       "       352.84918 ,  87.21212 ,  55.170254,  26.339148,  23.886786,\n",
       "       103.62972 , 426.6157  ,  24.393393,  25.533726,  40.483925,\n",
       "        24.24275 ,  38.044765,  33.64185 , 126.6466  ,  20.756718,\n",
       "        20.243471,  26.780767, 242.92387 ,  31.950512,  32.425556,\n",
       "        20.294167,  20.476805,  95.760666,  94.52298 ,  59.856663,\n",
       "        45.29424 ,  21.671772,  53.711735,  51.128628, 134.43953 ,\n",
       "        45.249714,  31.215185,  49.65511 , 146.86183 ,  27.796558,\n",
       "       166.3763  ,  20.021927, 140.96034 ,  34.202133,  26.308336,\n",
       "        31.865667,  57.28007 ,  37.531414,  20.694347,  23.92098 ,\n",
       "        30.599586,  76.95181 ,  69.61011 ,  22.822206,  52.35847 ,\n",
       "        20.713099, 107.77145 ,  49.313488,  30.04729 , 149.64769 ,\n",
       "        62.90435 ,  70.56216 ,  23.373323,  52.259094,  44.492004,\n",
       "        38.20837 ,  31.82207 ,  88.7581  , 118.53027 ,  50.90672 ,\n",
       "        53.806534,  34.942238,  40.71381 ,  37.843166,  29.162664,\n",
       "        23.16389 ,  32.60636 ,  83.112114,  26.458101,  22.841003,\n",
       "        20.240498,  28.025068,  22.23693 ,  69.9334  , 162.20938 ,\n",
       "        30.422537,  23.86255 ,  24.669971,  44.970787,  21.92153 ,\n",
       "        26.632492, 106.56298 ,  31.518663,  51.284294,  59.873062,\n",
       "        33.947845,  41.73014 ,  62.254154,  37.52463 ,  35.473248,\n",
       "        49.758144,  32.866135,  50.291935,  34.477474,  34.811214,\n",
       "        48.36577 ,  35.04298 ,  26.591171,  20.563152, 108.63375 ,\n",
       "       103.68618 ,  78.89789 ,  38.853268,  77.7039  ,  27.309893,\n",
       "        56.88091 ,  22.67358 ,  20.78167 ,  35.07146 , 153.61873 ,\n",
       "        29.901455, 128.04158 ,  23.673336,  24.446815,  41.362965,\n",
       "        22.957897,  55.136314,  24.762203,  82.01897 ,  70.3584  ,\n",
       "       207.9921  ,  22.67313 ,  20.77675 , 117.82841 ,  25.21095 ,\n",
       "        47.14517 , 195.75684 ,  49.296093,  39.449642,  74.74603 ,\n",
       "        72.05785 ,  41.885662, 103.77411 ,  41.99445 ,  20.466806,\n",
       "        51.494453,  23.611477,  20.154459,  20.984426, 268.58157 ,\n",
       "        45.40956 ,  36.63757 ,  51.559883,  20.68702 ,  83.39335 ,\n",
       "        20.924278, 316.8946  ,  28.559366,  58.360023, 151.12067 ,\n",
       "        29.034706,  38.01032 ,  57.35657 ,  46.079365, 166.41086 ,\n",
       "        93.43349 ,  55.15876 ,  20.21389 ,  23.38827 ,  22.394451,\n",
       "        22.419144,  72.39563 ,  21.927471,  39.445335,  28.006138,\n",
       "        53.83138 ,  70.48431 ,  21.548449,  23.455917,  40.592827,\n",
       "        30.405315,  40.14019 ,  29.16615 ,  41.898033,  98.552826,\n",
       "        65.2433  ,  32.713013,  63.158813,  30.914448,  27.25985 ,\n",
       "        24.458345,  31.118717, 135.81932 ,  25.386744,  36.181416,\n",
       "       171.4557  ,  22.376293,  22.780828, 135.58008 ,  49.692097,\n",
       "       104.08354 ,  66.15912 ,  34.224842,  26.65653 ,  36.75872 ,\n",
       "        74.75241 ,  23.027983,  30.382175,  36.591927,  38.242424,\n",
       "        37.35673 ,  24.259096,  80.95303 ,  22.891737,  83.7122  ,\n",
       "        21.2541  ,  37.896957,  33.377068,  49.466988,  22.784452,\n",
       "        36.468384,  31.124445,  20.072063,  47.261513,  57.928753,\n",
       "        24.158192, 111.07004 , 118.51771 ,  73.83555 ,  21.584284,\n",
       "        64.5336  ,  27.787785,  56.093483,  38.935406,  20.142078,\n",
       "        40.37748 ,  42.989822,  27.060614,  74.640945,  21.249422,\n",
       "        29.15276 ,  30.601107,  44.240543,  42.93782 ,  56.062374,\n",
       "        56.820377,  71.37012 ,  26.839796,  40.528168,  77.64865 ,\n",
       "        60.092953,  23.086994,  78.99629 , 173.57149 ,  40.674515,\n",
       "       124.94036 ,  29.221907, 123.00352 ,  21.537062,  27.997189,\n",
       "        46.769577,  94.37537 ,  24.877974, 298.02612 ,  23.616425,\n",
       "        33.4961  ,  20.77663 ,  70.81856 , 163.43137 ,  34.71803 ,\n",
       "        25.371922,  22.003239,  38.97013 ,  47.48629 , 134.57472 ,\n",
       "        51.746914,  24.802092,  59.749706,  25.114008,  20.277122,\n",
       "        22.440016, 124.87934 ,  43.07015 ,  22.410511,  54.382107,\n",
       "        25.17443 ,  36.738594,  30.861956,  21.095282,  39.05068 ,\n",
       "        47.97691 ,  45.508347,  38.554276, 130.04613 , 121.49243 ,\n",
       "        25.030455,  39.802704, 155.5921  ,  36.883648,  20.967505],\n",
       "      dtype=float32)"
      ]
     },
     "execution_count": 27,
     "metadata": {},
     "output_type": "execute_result"
    }
   ],
   "source": [
    "np.array(photon_pt)"
   ]
  },
  {
   "cell_type": "code",
   "execution_count": 28,
   "metadata": {},
   "outputs": [
    {
     "data": {
      "text/plain": [
       "(535,)"
      ]
     },
     "execution_count": 28,
     "metadata": {},
     "output_type": "execute_result"
    }
   ],
   "source": [
    "np.array(photon_pt).shape"
   ]
  },
  {
   "cell_type": "code",
   "execution_count": 29,
   "metadata": {},
   "outputs": [
    {
     "data": {
      "text/plain": [
       "(535,)"
      ]
     },
     "execution_count": 29,
     "metadata": {},
     "output_type": "execute_result"
    }
   ],
   "source": [
    "np.array(deltaR_photon_lepton).shape"
   ]
  },
  {
   "cell_type": "code",
   "execution_count": null,
   "metadata": {},
   "outputs": [],
   "source": []
  },
  {
   "cell_type": "code",
   "execution_count": null,
   "metadata": {},
   "outputs": [],
   "source": []
  },
  {
   "cell_type": "code",
   "execution_count": 30,
   "metadata": {},
   "outputs": [],
   "source": [
    "####### processing for machine learning #######"
   ]
  },
  {
   "cell_type": "code",
   "execution_count": 31,
   "metadata": {},
   "outputs": [
    {
     "data": {
      "text/html": [
       "<div>\n",
       "<style scoped>\n",
       "    .dataframe tbody tr th:only-of-type {\n",
       "        vertical-align: middle;\n",
       "    }\n",
       "\n",
       "    .dataframe tbody tr th {\n",
       "        vertical-align: top;\n",
       "    }\n",
       "\n",
       "    .dataframe thead th {\n",
       "        text-align: right;\n",
       "    }\n",
       "</style>\n",
       "<table border=\"1\" class=\"dataframe\">\n",
       "  <thead>\n",
       "    <tr style=\"text-align: right;\">\n",
       "      <th></th>\n",
       "      <th>photon_pt</th>\n",
       "      <th>photon_eta</th>\n",
       "      <th>photon_phi</th>\n",
       "      <th>photon_hoe</th>\n",
       "      <th>photon_r9</th>\n",
       "      <th>photon_sieie</th>\n",
       "      <th>photon_pfRelIso03_all</th>\n",
       "      <th>photon_pfRelIso03_chg</th>\n",
       "      <th>photon_genPartFlav</th>\n",
       "      <th>deltaR_photon_lepton</th>\n",
       "      <th>deltaR_photon_jet</th>\n",
       "    </tr>\n",
       "  </thead>\n",
       "  <tbody>\n",
       "    <tr>\n",
       "      <th>count</th>\n",
       "      <td>535.000000</td>\n",
       "      <td>535.000000</td>\n",
       "      <td>535.000000</td>\n",
       "      <td>535.000000</td>\n",
       "      <td>535.000000</td>\n",
       "      <td>535.000000</td>\n",
       "      <td>535.000000</td>\n",
       "      <td>535.000000</td>\n",
       "      <td>535.000000</td>\n",
       "      <td>535.000000</td>\n",
       "      <td>535.000000</td>\n",
       "    </tr>\n",
       "    <tr>\n",
       "      <th>mean</th>\n",
       "      <td>59.272442</td>\n",
       "      <td>0.010482</td>\n",
       "      <td>0.061729</td>\n",
       "      <td>0.008212</td>\n",
       "      <td>0.901967</td>\n",
       "      <td>0.009225</td>\n",
       "      <td>0.023146</td>\n",
       "      <td>0.010117</td>\n",
       "      <td>0.985047</td>\n",
       "      <td>1.900419</td>\n",
       "      <td>0.975472</td>\n",
       "    </tr>\n",
       "    <tr>\n",
       "      <th>std</th>\n",
       "      <td>53.849277</td>\n",
       "      <td>0.720845</td>\n",
       "      <td>1.907326</td>\n",
       "      <td>0.022302</td>\n",
       "      <td>0.121853</td>\n",
       "      <td>0.000899</td>\n",
       "      <td>0.052654</td>\n",
       "      <td>0.036463</td>\n",
       "      <td>0.121479</td>\n",
       "      <td>0.924719</td>\n",
       "      <td>0.455916</td>\n",
       "    </tr>\n",
       "    <tr>\n",
       "      <th>min</th>\n",
       "      <td>20.021927</td>\n",
       "      <td>-1.433350</td>\n",
       "      <td>-3.138672</td>\n",
       "      <td>0.000000</td>\n",
       "      <td>0.400879</td>\n",
       "      <td>0.006657</td>\n",
       "      <td>0.000000</td>\n",
       "      <td>0.000000</td>\n",
       "      <td>0.000000</td>\n",
       "      <td>0.412199</td>\n",
       "      <td>0.407441</td>\n",
       "    </tr>\n",
       "    <tr>\n",
       "      <th>25%</th>\n",
       "      <td>26.439519</td>\n",
       "      <td>-0.541077</td>\n",
       "      <td>-1.666504</td>\n",
       "      <td>0.000000</td>\n",
       "      <td>0.901367</td>\n",
       "      <td>0.008846</td>\n",
       "      <td>0.000000</td>\n",
       "      <td>0.000000</td>\n",
       "      <td>1.000000</td>\n",
       "      <td>1.076918</td>\n",
       "      <td>0.625478</td>\n",
       "    </tr>\n",
       "    <tr>\n",
       "      <th>50%</th>\n",
       "      <td>40.528168</td>\n",
       "      <td>0.063354</td>\n",
       "      <td>0.121307</td>\n",
       "      <td>0.000000</td>\n",
       "      <td>0.955078</td>\n",
       "      <td>0.009209</td>\n",
       "      <td>0.002331</td>\n",
       "      <td>0.000000</td>\n",
       "      <td>1.000000</td>\n",
       "      <td>1.971521</td>\n",
       "      <td>0.867323</td>\n",
       "    </tr>\n",
       "    <tr>\n",
       "      <th>75%</th>\n",
       "      <td>67.479511</td>\n",
       "      <td>0.566223</td>\n",
       "      <td>1.783813</td>\n",
       "      <td>0.006378</td>\n",
       "      <td>0.965820</td>\n",
       "      <td>0.009502</td>\n",
       "      <td>0.026437</td>\n",
       "      <td>0.004206</td>\n",
       "      <td>1.000000</td>\n",
       "      <td>2.676070</td>\n",
       "      <td>1.216200</td>\n",
       "    </tr>\n",
       "    <tr>\n",
       "      <th>max</th>\n",
       "      <td>426.615692</td>\n",
       "      <td>1.438477</td>\n",
       "      <td>3.138672</td>\n",
       "      <td>0.339844</td>\n",
       "      <td>1.000000</td>\n",
       "      <td>0.015884</td>\n",
       "      <td>0.489263</td>\n",
       "      <td>0.468049</td>\n",
       "      <td>1.000000</td>\n",
       "      <td>4.180309</td>\n",
       "      <td>3.276965</td>\n",
       "    </tr>\n",
       "  </tbody>\n",
       "</table>\n",
       "</div>"
      ],
      "text/plain": [
       "        photon_pt  photon_eta  photon_phi  photon_hoe   photon_r9  \\\n",
       "count  535.000000  535.000000  535.000000  535.000000  535.000000   \n",
       "mean    59.272442    0.010482    0.061729    0.008212    0.901967   \n",
       "std     53.849277    0.720845    1.907326    0.022302    0.121853   \n",
       "min     20.021927   -1.433350   -3.138672    0.000000    0.400879   \n",
       "25%     26.439519   -0.541077   -1.666504    0.000000    0.901367   \n",
       "50%     40.528168    0.063354    0.121307    0.000000    0.955078   \n",
       "75%     67.479511    0.566223    1.783813    0.006378    0.965820   \n",
       "max    426.615692    1.438477    3.138672    0.339844    1.000000   \n",
       "\n",
       "       photon_sieie  photon_pfRelIso03_all  photon_pfRelIso03_chg  \\\n",
       "count    535.000000             535.000000             535.000000   \n",
       "mean       0.009225               0.023146               0.010117   \n",
       "std        0.000899               0.052654               0.036463   \n",
       "min        0.006657               0.000000               0.000000   \n",
       "25%        0.008846               0.000000               0.000000   \n",
       "50%        0.009209               0.002331               0.000000   \n",
       "75%        0.009502               0.026437               0.004206   \n",
       "max        0.015884               0.489263               0.468049   \n",
       "\n",
       "       photon_genPartFlav  deltaR_photon_lepton  deltaR_photon_jet  \n",
       "count          535.000000            535.000000         535.000000  \n",
       "mean             0.985047              1.900419           0.975472  \n",
       "std              0.121479              0.924719           0.455916  \n",
       "min              0.000000              0.412199           0.407441  \n",
       "25%              1.000000              1.076918           0.625478  \n",
       "50%              1.000000              1.971521           0.867323  \n",
       "75%              1.000000              2.676070           1.216200  \n",
       "max              1.000000              4.180309           3.276965  "
      ]
     },
     "execution_count": 31,
     "metadata": {},
     "output_type": "execute_result"
    }
   ],
   "source": [
    "df = pd.DataFrame({\n",
    "    'photon_pt': np.array(photon_pt),\n",
    "    'photon_eta': np.array(photon_eta),\n",
    "    'photon_phi': np.array(photon_phi),\n",
    "    'photon_hoe': np.array(photon_hoe),\n",
    "    'photon_r9': np.array(photon_r9),\n",
    "    'photon_sieie': np.array(photon_sieie),\n",
    "    'photon_pfRelIso03_all': np.array(photon_pfRelIso03_all),\n",
    "    'photon_pfRelIso03_chg': np.array(photon_pfRelIso03_chg),\n",
    "    #'photon_count': np.array(photon_count), ### different shape than other features...\n",
    "    'photon_genPartFlav': np.array(photon_genPartFlav),  ## target ##\n",
    "    \n",
    "    'deltaR_photon_lepton': np.array(deltaR_photon_lepton),\n",
    "    'deltaR_photon_jet': np.array(deltaR_photon_jet),\n",
    "})\n",
    "df.describe()"
   ]
  },
  {
   "cell_type": "code",
   "execution_count": 32,
   "metadata": {},
   "outputs": [
    {
     "data": {
      "text/html": [
       "<div>\n",
       "<style scoped>\n",
       "    .dataframe tbody tr th:only-of-type {\n",
       "        vertical-align: middle;\n",
       "    }\n",
       "\n",
       "    .dataframe tbody tr th {\n",
       "        vertical-align: top;\n",
       "    }\n",
       "\n",
       "    .dataframe thead th {\n",
       "        text-align: right;\n",
       "    }\n",
       "</style>\n",
       "<table border=\"1\" class=\"dataframe\">\n",
       "  <thead>\n",
       "    <tr style=\"text-align: right;\">\n",
       "      <th></th>\n",
       "      <th>photon_pt</th>\n",
       "      <th>photon_eta</th>\n",
       "      <th>photon_phi</th>\n",
       "      <th>photon_hoe</th>\n",
       "      <th>photon_r9</th>\n",
       "      <th>photon_sieie</th>\n",
       "      <th>photon_pfRelIso03_all</th>\n",
       "      <th>photon_pfRelIso03_chg</th>\n",
       "      <th>photon_genPartFlav</th>\n",
       "      <th>deltaR_photon_lepton</th>\n",
       "      <th>deltaR_photon_jet</th>\n",
       "    </tr>\n",
       "  </thead>\n",
       "  <tbody>\n",
       "    <tr>\n",
       "      <th>0</th>\n",
       "      <td>35.281075</td>\n",
       "      <td>1.013672</td>\n",
       "      <td>-2.959961</td>\n",
       "      <td>0.024109</td>\n",
       "      <td>0.959473</td>\n",
       "      <td>0.010345</td>\n",
       "      <td>0.018126</td>\n",
       "      <td>0.000000</td>\n",
       "      <td>1</td>\n",
       "      <td>0.673868</td>\n",
       "      <td>0.433896</td>\n",
       "    </tr>\n",
       "    <tr>\n",
       "      <th>1</th>\n",
       "      <td>49.449341</td>\n",
       "      <td>-0.927979</td>\n",
       "      <td>0.476990</td>\n",
       "      <td>0.000000</td>\n",
       "      <td>0.489990</td>\n",
       "      <td>0.009041</td>\n",
       "      <td>0.000000</td>\n",
       "      <td>0.000000</td>\n",
       "      <td>1</td>\n",
       "      <td>0.424922</td>\n",
       "      <td>0.429203</td>\n",
       "    </tr>\n",
       "    <tr>\n",
       "      <th>2</th>\n",
       "      <td>28.769894</td>\n",
       "      <td>-0.589233</td>\n",
       "      <td>-0.331116</td>\n",
       "      <td>0.000000</td>\n",
       "      <td>0.764160</td>\n",
       "      <td>0.008560</td>\n",
       "      <td>0.083477</td>\n",
       "      <td>0.083477</td>\n",
       "      <td>1</td>\n",
       "      <td>2.511429</td>\n",
       "      <td>0.605962</td>\n",
       "    </tr>\n",
       "    <tr>\n",
       "      <th>3</th>\n",
       "      <td>31.101566</td>\n",
       "      <td>0.875122</td>\n",
       "      <td>-0.901123</td>\n",
       "      <td>0.000000</td>\n",
       "      <td>0.967773</td>\n",
       "      <td>0.009857</td>\n",
       "      <td>0.000000</td>\n",
       "      <td>0.000000</td>\n",
       "      <td>1</td>\n",
       "      <td>1.692268</td>\n",
       "      <td>1.213066</td>\n",
       "    </tr>\n",
       "    <tr>\n",
       "      <th>4</th>\n",
       "      <td>152.660461</td>\n",
       "      <td>0.046585</td>\n",
       "      <td>-1.978027</td>\n",
       "      <td>0.005081</td>\n",
       "      <td>0.966797</td>\n",
       "      <td>0.008659</td>\n",
       "      <td>0.000000</td>\n",
       "      <td>0.000000</td>\n",
       "      <td>1</td>\n",
       "      <td>1.430684</td>\n",
       "      <td>0.719516</td>\n",
       "    </tr>\n",
       "  </tbody>\n",
       "</table>\n",
       "</div>"
      ],
      "text/plain": [
       "    photon_pt  photon_eta  photon_phi  photon_hoe  photon_r9  photon_sieie  \\\n",
       "0   35.281075    1.013672   -2.959961    0.024109   0.959473      0.010345   \n",
       "1   49.449341   -0.927979    0.476990    0.000000   0.489990      0.009041   \n",
       "2   28.769894   -0.589233   -0.331116    0.000000   0.764160      0.008560   \n",
       "3   31.101566    0.875122   -0.901123    0.000000   0.967773      0.009857   \n",
       "4  152.660461    0.046585   -1.978027    0.005081   0.966797      0.008659   \n",
       "\n",
       "   photon_pfRelIso03_all  photon_pfRelIso03_chg  photon_genPartFlav  \\\n",
       "0               0.018126               0.000000                   1   \n",
       "1               0.000000               0.000000                   1   \n",
       "2               0.083477               0.083477                   1   \n",
       "3               0.000000               0.000000                   1   \n",
       "4               0.000000               0.000000                   1   \n",
       "\n",
       "   deltaR_photon_lepton  deltaR_photon_jet  \n",
       "0              0.673868           0.433896  \n",
       "1              0.424922           0.429203  \n",
       "2              2.511429           0.605962  \n",
       "3              1.692268           1.213066  \n",
       "4              1.430684           0.719516  "
      ]
     },
     "execution_count": 32,
     "metadata": {},
     "output_type": "execute_result"
    }
   ],
   "source": [
    "df.head()"
   ]
  },
  {
   "cell_type": "code",
   "execution_count": 33,
   "metadata": {},
   "outputs": [
    {
     "name": "stdout",
     "output_type": "stream",
     "text": [
      "(321, 10)\n",
      "1\n",
      "0\n"
     ]
    }
   ],
   "source": [
    "# split into features and labels\n",
    "X = np.array(df.drop(['photon_genPartFlav'],axis=1))\n",
    "y = df['photon_genPartFlav']\n",
    "\n",
    "# shuffle & split into training, validation, testing datasets\n",
    "X_train, X_test, y_train, y_test = train_test_split(X, y, test_size=0.2, random_state=1)\n",
    "X_train, X_val, y_train, y_val = train_test_split(X_train, y_train, test_size=0.25, random_state=1)\n",
    "\n",
    "print(X_train.shape)\n",
    "print(y_train.max())\n",
    "print(y_train.min())"
   ]
  },
  {
   "cell_type": "code",
   "execution_count": 34,
   "metadata": {},
   "outputs": [],
   "source": [
    "# Scale: mean=0, stdev=1\n",
    "scaler = StandardScaler()\n",
    "\n",
    "X_train_scaled = scaler.fit_transform(X_train)\n",
    "X_val_scaled = scaler.fit_transform(X_val)\n",
    "X_test_scaled = scaler.fit_transform(X_test)"
   ]
  },
  {
   "cell_type": "code",
   "execution_count": 35,
   "metadata": {},
   "outputs": [
    {
     "name": "stdout",
     "output_type": "stream",
     "text": [
      "Model: \"sequential\"\n",
      "_________________________________________________________________\n",
      "Layer (type)                 Output Shape              Param #   \n",
      "=================================================================\n",
      "dense (Dense)                (None, 32)                352       \n",
      "_________________________________________________________________\n",
      "dense_1 (Dense)              (None, 32)                1056      \n",
      "_________________________________________________________________\n",
      "dense_2 (Dense)              (None, 1)                 33        \n",
      "=================================================================\n",
      "Total params: 1,441\n",
      "Trainable params: 1,441\n",
      "Non-trainable params: 0\n",
      "_________________________________________________________________\n"
     ]
    }
   ],
   "source": [
    "model = Sequential()\n",
    "model.add(Dense(32, input_shape=(X_train.shape[1],), activation=\"relu\"))\n",
    "model.add(Dense(32, activation=\"relu\"))\n",
    "model.add(Dense(1,activation=\"sigmoid\"))\n",
    "\n",
    "model.compile(\"adam\", \"binary_crossentropy\", metrics=[\"accuracy\"])\n",
    "model.summary()"
   ]
  },
  {
   "cell_type": "code",
   "execution_count": 36,
   "metadata": {},
   "outputs": [
    {
     "name": "stdout",
     "output_type": "stream",
     "text": [
      "Epoch 1/10\n",
      "3/3 [==============================] - 0s 1ms/step - loss: 0.6728 - accuracy: 0.5888\n",
      "Epoch 2/10\n",
      "3/3 [==============================] - 0s 1ms/step - loss: 0.6183 - accuracy: 0.7664\n",
      "Epoch 3/10\n",
      "3/3 [==============================] - 0s 981us/step - loss: 0.5674 - accuracy: 0.8660\n",
      "Epoch 4/10\n",
      "3/3 [==============================] - 0s 951us/step - loss: 0.5205 - accuracy: 0.9346\n",
      "Epoch 5/10\n",
      "3/3 [==============================] - 0s 1ms/step - loss: 0.4788 - accuracy: 0.9470\n",
      "Epoch 6/10\n",
      "3/3 [==============================] - 0s 1ms/step - loss: 0.4399 - accuracy: 0.9782\n",
      "Epoch 7/10\n",
      "3/3 [==============================] - 0s 1ms/step - loss: 0.4044 - accuracy: 0.9844\n",
      "Epoch 8/10\n",
      "3/3 [==============================] - 0s 1ms/step - loss: 0.3718 - accuracy: 0.9844\n",
      "Epoch 9/10\n",
      "3/3 [==============================] - 0s 1ms/step - loss: 0.3417 - accuracy: 0.9844\n",
      "Epoch 10/10\n",
      "3/3 [==============================] - 0s 1ms/step - loss: 0.3145 - accuracy: 0.9844\n"
     ]
    },
    {
     "data": {
      "text/plain": [
       "<tensorflow.python.keras.callbacks.History at 0x7ff10c7d2250>"
      ]
     },
     "execution_count": 36,
     "metadata": {},
     "output_type": "execute_result"
    }
   ],
   "source": [
    "model.fit(X_train_scaled, y_train, epochs=10, batch_size=128)"
   ]
  },
  {
   "cell_type": "code",
   "execution_count": 37,
   "metadata": {},
   "outputs": [
    {
     "name": "stdout",
     "output_type": "stream",
     "text": [
      "Test loss: 0.3694\n",
      "Test accuracy: 0.97196\n"
     ]
    }
   ],
   "source": [
    "loss, accuracy = model.evaluate(X_test_scaled,y_test,verbose=0)\n",
    "print(f'Test loss: {round(loss,5)}\\nTest accuracy: {round(accuracy,5)}')"
   ]
  },
  {
   "cell_type": "code",
   "execution_count": 38,
   "metadata": {},
   "outputs": [],
   "source": [
    "y_pred = model.predict(X_test_scaled)\n",
    "fpr, tpr, thresholds = roc_curve(y_test, y_pred)\n",
    "area_under_curve = auc(fpr, tpr)"
   ]
  },
  {
   "cell_type": "code",
   "execution_count": 39,
   "metadata": {},
   "outputs": [
    {
     "data": {
      "image/png": "[encoded data removed]",
      "text/plain": [
       "<Figure size 432x288 with 1 Axes>"
      ]
     },
     "metadata": {
      "needs_background": "light"
     },
     "output_type": "display_data"
    }
   ],
   "source": [
    "plt.plot([0,1], [0,1], 'k--')\n",
    "plt.plot(fpr, tpr, label='area = {:.3f}'.format(area_under_curve))\n",
    "\n",
    "plt.xlabel('False positive rate')\n",
    "plt.ylabel('True positive rate')\n",
    "plt.title('ROC curve')\n",
    "plt.legend(loc='best')\n",
    "plt.show()"
   ]
  },
  {
   "cell_type": "code",
   "execution_count": 40,
   "metadata": {},
   "outputs": [],
   "source": [
    "predTrue  = y_pred[y_test==True]\n",
    "predFalse = y_pred[y_test==False]"
   ]
  },
  {
   "cell_type": "code",
   "execution_count": 41,
   "metadata": {},
   "outputs": [
    {
     "data": {
      "image/png": "[encoded data removed]",
      "text/plain": [
       "<Figure size 432x288 with 1 Axes>"
      ]
     },
     "metadata": {
      "needs_background": "light"
     },
     "output_type": "display_data"
    }
   ],
   "source": [
    "plt.hist(predTrue,bins=50,alpha=0.5,label='true label=1')\n",
    "plt.hist(predFalse,bins=50,alpha=0.5,label='true label=0')\n",
    "\n",
    "plt.xlabel('Predicted label')\n",
    "plt.ylabel('Counts')\n",
    "plt.title('')\n",
    "plt.legend(loc='best')\n",
    "plt.show()"
   ]
  },
  {
   "cell_type": "code",
   "execution_count": null,
   "metadata": {},
   "outputs": [],
   "source": []
  },
  {
   "cell_type": "code",
   "execution_count": null,
   "metadata": {},
   "outputs": [],
   "source": []
  },
  {
   "cell_type": "code",
   "execution_count": null,
   "metadata": {},
   "outputs": [],
   "source": []
  },
  {
   "cell_type": "code",
   "execution_count": null,
   "metadata": {},
   "outputs": [],
   "source": []
  },
  {
   "cell_type": "code",
   "execution_count": null,
   "metadata": {},
   "outputs": [],
   "source": []
  },
  {
   "cell_type": "code",
   "execution_count": null,
   "metadata": {},
   "outputs": [],
   "source": []
  }
 ],
 "metadata": {
  "kernelspec": {
   "display_name": "Python 3",
   "language": "python",
   "name": "python3"
  },
  "language_info": {
   "codemirror_mode": {
    "name": "ipython",
    "version": 3
   },
   "file_extension": ".py",
   "mimetype": "text/x-python",
   "name": "python",
   "nbconvert_exporter": "python",
   "pygments_lexer": "ipython3",
   "version": "3.8.5"
  }
 },
 "nbformat": 4,
 "nbformat_minor": 4
}
