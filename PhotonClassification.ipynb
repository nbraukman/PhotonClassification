{
 "cells": [
  {
   "cell_type": "markdown",
   "metadata": {},
   "source": [
    "# Classifying real vs. fake photons from $tt\\gamma$, $t\\bar{t}$ events"
   ]
  },
  {
   "cell_type": "code",
   "execution_count": 1,
   "metadata": {},
   "outputs": [],
   "source": [
    "from coffea import hist, util\n",
    "\n",
    "import coffea.processor as processor\n",
    "from coffea.nanoevents import NanoEventsFactory, NanoAODSchema\n",
    "import awkward as ak\n",
    "import numpy as np\n",
    "import uproot\n",
    "\n",
    "import matplotlib.pyplot as plt\n",
    "import pandas as pd\n",
    "\n",
    "import tensorflow as tf\n",
    "from keras.models import Sequential\n",
    "from keras.layers import Dense\n",
    "\n",
    "from sklearn.preprocessing import StandardScaler, MinMaxScaler\n",
    "from sklearn.model_selection import train_test_split\n",
    "from sklearn.metrics import roc_curve, auc"
   ]
  },
  {
   "cell_type": "code",
   "execution_count": 2,
   "metadata": {},
   "outputs": [],
   "source": [
    "class PhotonSelector(processor.ProcessorABC):\n",
    "    def __init__(self, isMC=True):\n",
    "        \n",
    "        self.isMC = isMC\n",
    "\n",
    "        # Declare axes\n",
    "        dataset_axis = hist.Cat(\"dataset\",\"Dataset\")\n",
    "\n",
    "        photon_pt_axis = hist.Bin(\"pt\",\"photon $p_{T}$ [GeV]\", 40, 0, 400)\n",
    "        photon_eta_axis = hist.Bin(\"eta\",\"photon $\\eta$\", 50, -2.5, 2.5)\n",
    "        photon_phi_axis = hist.Bin(\"phi\",\"photon $\\phi$\", 64, -3.2, 3.2)\n",
    "        photon_reliso_all_axis = hist.Bin(\"reliso\",\"photon pfRelIso03_all\", 40, -0.5, 6)\n",
    "        photon_reliso_chg_axis = hist.Bin(\"reliso\",\"photon pfRelIso03_chg\", 40, -0.5, 6)\n",
    "        photon_sieie_axis = hist.Bin(\"sieie\",\"photon sigma I eta I eta\", 40, 0, 0.05)\n",
    "        photon_r9_axis = hist.Bin(\"r9\",\"photon R9\", 40, -0.5, 1.5)\n",
    "        photon_hoe_axis = hist.Bin(\"hoe\",\"photon H over E\", 40, -0.5, 1)\n",
    "        photon_count_axis = hist.Bin(\"count\",\"Photon number\",12,-1,10)\n",
    "\n",
    "        deltar_axis = hist.Bin(\"deltar\",\"$\\Delta R$\", 50, -0.5, 4)\n",
    "\n",
    "        photon_genPartFlav_axis = hist.Bin(\"flav\",\"genPartFlav\",40,-1,15)\n",
    "        \n",
    "        \n",
    "        # Accumulator object: dictionary storing histograms & counters to be filled\n",
    "        self._accumulator = processor.dict_accumulator({\n",
    "            \n",
    "            'photon_pt': processor.column_accumulator(np.ndarray(shape=(0,))),\n",
    "            'photon_eta': processor.column_accumulator(np.ndarray(shape=(0,))),\n",
    "            'photon_phi': processor.column_accumulator(np.ndarray(shape=(0,))),\n",
    "            'photon_pfRelIso03_all': processor.column_accumulator(np.ndarray(shape=(0,))),\n",
    "            'photon_pfRelIso03_chg': processor.column_accumulator(np.ndarray(shape=(0,))),\n",
    "            'photon_sieie': processor.column_accumulator(np.ndarray(shape=(0,))),\n",
    "            'photon_r9': processor.column_accumulator(np.ndarray(shape=(0,))),\n",
    "            'photon_hoe': processor.column_accumulator(np.ndarray(shape=(0,))),\n",
    "            'photon_count': processor.column_accumulator(np.ndarray(shape=(0,))),\n",
    "            \n",
    "            'deltaR_photon_lepton': processor.column_accumulator(np.ndarray(shape=(0,))),\n",
    "            'deltaR_photon_jet': processor.column_accumulator(np.ndarray(shape=(0,))),\n",
    "            \n",
    "            'photon_genPartFlav': processor.column_accumulator(np.ndarray(shape=(0,))),\n",
    "            \n",
    "            \n",
    "            ## histograms for features\n",
    "            'photon_pt_hist': hist.Hist(\"Counts\", dataset_axis, photon_pt_axis),\n",
    "            'photon_eta_hist': hist.Hist(\"Counts\", dataset_axis, photon_eta_axis),\n",
    "            'photon_phi_hist': hist.Hist(\"Counts\", dataset_axis, photon_phi_axis),\n",
    "            'photon_reliso_all_hist': hist.Hist(\"Counts\", dataset_axis, photon_reliso_all_axis),\n",
    "            'photon_reliso_chg_hist': hist.Hist(\"Counts\", dataset_axis, photon_reliso_chg_axis),\n",
    "            'photon_sieie_hist': hist.Hist(\"Counts\", dataset_axis, photon_sieie_axis),\n",
    "            'photon_r9_hist': hist.Hist(\"Counts\", dataset_axis, photon_r9_axis),\n",
    "            'photon_hoe_hist': hist.Hist(\"Counts\", dataset_axis, photon_hoe_axis),\n",
    "            'photon_count_hist': hist.Hist(\"Counts\", dataset_axis, photon_count_axis),\n",
    "            \n",
    "            'deltaR_photon_lepton_hist': hist.Hist(\"Counts\", dataset_axis, deltar_axis),\n",
    "            'deltaR_photon_jet_hist': hist.Hist(\"Counts\", dataset_axis, deltar_axis),\n",
    "            \n",
    "            'photon_genPartFlav_hist': hist.Hist(\"Counts\", dataset_axis, photon_genPartFlav_axis),\n",
    "        }\n",
    "        )\n",
    "\n",
    "    @property\n",
    "    def accumulator(self):\n",
    "        return self._accumulator\n",
    "\n",
    "    def process(self, events):\n",
    "        \n",
    "        output = self.accumulator.identity()\n",
    "        \n",
    "        dataset = events.metadata['dataset']\n",
    "        \n",
    "        ######## object & event selection ########\n",
    "        \n",
    "        # muons\n",
    "        muons=events.Muon\n",
    "        muonSelectTight = ((muons.pt>30) &\n",
    "                           (abs(muons.eta)<2.4) &\n",
    "                           (muons.tightId) &\n",
    "                           (muons.pfRelIso04_all < 0.15)\n",
    "                          )\n",
    "        tightMuons = muons[muonSelectTight]\n",
    "        \n",
    "        # jets & b-tagged jets\n",
    "        jets=events.Jet\n",
    "        jetSelectTight = ((jets.pt>30) &\n",
    "                          (abs(jets.eta)<2.4) &\n",
    "                          (jets.isTight)\n",
    "                         )\n",
    "        btaggedJetSelect = (jetSelectTight &\n",
    "                           (jets.btagDeepB>0.6321)\n",
    "                          )\n",
    "        tightJets = jets[jetSelectTight]\n",
    "        tightBJets = jets[btaggedJetSelect]\n",
    "        \n",
    "        # electrons\n",
    "        electrons=events.Electron\n",
    "        electronSelectTight = ((electrons.pt> 35) &\n",
    "                               (abs(electrons.eta)<2.1) &\n",
    "                               electrons.cutBased>=4\n",
    "                              )\n",
    "        tightEle = electrons[electronSelectTight]\n",
    "        \n",
    "        # photons\n",
    "        photons = events.Photon\n",
    "        photonSelect= ((photons.pt>20) &\n",
    "                       (abs(photons.eta) < 1.4442) &\n",
    "                       (photons.isScEtaEE | photons.isScEtaEB) &\n",
    "                       (photons.electronVeto) & \n",
    "                       np.invert(photons.pixelSeed)\n",
    "                       )\n",
    "        tightPhotons = photons[photonSelect]\n",
    "        \n",
    "        \n",
    "        ## delta R using nearest\n",
    "        phoMu, phoMuDR   = tightPhotons.nearest(tightMuons,return_metric=True)\n",
    "        phoJet, phoJetDR = tightPhotons.nearest(tightJets,return_metric=True)\n",
    "        \n",
    "        # events\n",
    "        trigger = events.HLT.IsoMu24 | events.HLT.IsoTkMu24\n",
    "        \n",
    "        eventSelection = (trigger &\n",
    "                          (ak.num(tightMuons)==1) &\n",
    "                          (ak.num(tightJets)>=4) & \n",
    "                          (ak.num(tightBJets)>=1) &\n",
    "                          (ak.num(tightEle)==0))\n",
    "                          #(ak.num(tightPhotons)==1))\n",
    "\n",
    "        \n",
    "        # Fill histograms\n",
    "        output['photon_pt_hist'].fill(dataset=dataset,\n",
    "                                      pt=ak.flatten(tightPhotons[eventSelection].pt))\n",
    "        output['photon_eta_hist'].fill(dataset=dataset,\n",
    "                                      eta=ak.flatten(tightPhotons[eventSelection].eta))\n",
    "        output['photon_phi_hist'].fill(dataset=dataset,\n",
    "                                      phi=ak.flatten(tightPhotons[eventSelection].phi))\n",
    "        output['photon_reliso_all_hist'].fill(dataset=dataset,\n",
    "                                         reliso=ak.flatten(tightPhotons[eventSelection].pfRelIso03_all))\n",
    "        output['photon_reliso_chg_hist'].fill(dataset=dataset,\n",
    "                                         reliso=ak.flatten(tightPhotons[eventSelection].pfRelIso03_chg))\n",
    "        output['photon_sieie_hist'].fill(dataset=dataset,\n",
    "                                      sieie=ak.flatten(tightPhotons[eventSelection].sieie))\n",
    "        output['photon_r9_hist'].fill(dataset=dataset,\n",
    "                                      r9=ak.flatten(tightPhotons[eventSelection].r9))\n",
    "        output['photon_hoe_hist'].fill(dataset=dataset,\n",
    "                                      hoe=ak.flatten(tightPhotons[eventSelection].hoe))\n",
    "        output['photon_count_hist'].fill(dataset=dataset,\n",
    "                                         count=(ak.num(tightPhotons[eventSelection])))\n",
    "        \n",
    "        output['deltaR_photon_lepton_hist'].fill(dataset=dataset,\n",
    "                                           deltar=ak.flatten(phoMuDR[eventSelection]))\n",
    "        output['deltaR_photon_jet_hist'].fill(dataset=dataset,\n",
    "                                           deltar=ak.flatten(phoJetDR[eventSelection]))\n",
    "        \n",
    "        if self.isMC:\n",
    "            output['photon_genPartFlav_hist'].fill(dataset=dataset,\n",
    "                                                   flav=ak.flatten(tightPhotons[eventSelection].genPartFlav))\n",
    "        \n",
    "        \n",
    "        # Fill column accumulators\n",
    "        output['photon_pt'] = processor.column_accumulator(ak.to_numpy(ak.flatten(tightPhotons.pt[eventSelection])))\n",
    "        output['photon_eta'] = processor.column_accumulator(ak.to_numpy(ak.flatten(tightPhotons.eta[eventSelection])))\n",
    "        output['photon_phi'] = processor.column_accumulator(ak.to_numpy(ak.flatten(tightPhotons.phi[eventSelection])))\n",
    "        output['photon_pfRelIso03_all'] = processor.column_accumulator(ak.to_numpy(ak.flatten(tightPhotons.pfRelIso03_all[eventSelection])))\n",
    "        output['photon_pfRelIso03_chg'] = processor.column_accumulator(ak.to_numpy(ak.flatten(tightPhotons.pfRelIso03_chg[eventSelection])))\n",
    "        output['photon_sieie'] = processor.column_accumulator(ak.to_numpy(ak.flatten(tightPhotons.sieie[eventSelection])))\n",
    "        output['photon_r9'] = processor.column_accumulator(ak.to_numpy(ak.flatten(tightPhotons.r9[eventSelection])))\n",
    "        output['photon_hoe'] = processor.column_accumulator(ak.to_numpy(ak.flatten(tightPhotons.hoe[eventSelection])))\n",
    "        output['photon_count'] = processor.column_accumulator(ak.to_numpy(ak.num(tightPhotons[eventSelection])))\n",
    "        \n",
    "        output['deltaR_photon_lepton'] = processor.column_accumulator(ak.to_numpy(ak.flatten(phoMuDR[eventSelection])))\n",
    "        output['deltaR_photon_jet'] = processor.column_accumulator(ak.to_numpy(ak.flatten(phoJetDR[eventSelection])))\n",
    "        \n",
    "        if self.isMC:\n",
    "            output['photon_genPartFlav'] = processor.column_accumulator(ak.to_numpy(ak.flatten(tightPhotons.genPartFlav[eventSelection])))\n",
    "        \n",
    "        \n",
    "        return output\n",
    "\n",
    "    def postprocess(self, accumulator):\n",
    "        return accumulator"
   ]
  },
  {
   "cell_type": "code",
   "execution_count": 3,
   "metadata": {},
   "outputs": [],
   "source": [
    "#Define files to run over\n",
    "skimDir=\"/udrive/staff/dnoonan/Skims\"\n",
    "\n",
    "fileset = {\"TTGamma\":[f\"{skimDir}/TTGamma_SingleLept_2016_skim.root\"],\n",
    "           \"TTbar\":[f\"{skimDir}/TTbarPowheg_Semilept_2016_skim_1of10.root\",\n",
    "                    f\"{skimDir}/TTbarPowheg_Semilept_2016_skim_2of10.root\"],\n",
    "          }\n",
    "\n",
    "filesetData = {\"DataMu\":[f\"{skimDir}/Data_SingleMu_b_2016_skim_1of10.root\"],\n",
    "              }"
   ]
  },
  {
   "cell_type": "code",
   "execution_count": 4,
   "metadata": {},
   "outputs": [
    {
     "data": {
      "application/vnd.jupyter.widget-view+json": {
       "model_id": "67a9971cbb2147b3952288ae84e8ce4b",
       "version_major": 2,
       "version_minor": 0
      },
      "text/plain": [
       "Processing:   0%|          | 0/6 [00:00<?, ?chunk/s]"
      ]
     },
     "metadata": {},
     "output_type": "display_data"
    }
   ],
   "source": [
    "np.warnings.filterwarnings('ignore')\n",
    "\n",
    "#the NanoAODSchema needs to be adjusted, to remove cross references to FSRPhotons\n",
    "class SkimmedSchema(NanoAODSchema):\n",
    "    def __init__(self, base_form):\n",
    "        base_form[\"contents\"].pop(\"Muon_fsrPhotonIdx\", None)\n",
    "        super().__init__(base_form)\n",
    "\n",
    "#Run Coffea code using uproot\n",
    "outputMC = processor.run_uproot_job(\n",
    "    fileset,  #dictionary of datasets to run on, defined earlier in this cell\n",
    "    \"Events\", #Name of the TTree you will be opening\n",
    "    PhotonSelector(),  #Coffea processor you defined\n",
    "    processor.futures_executor,\n",
    "    executor_args={\"schema\": SkimmedSchema,'workers': 4},  ## workers = 2, parallelize jobs, running 2 at once\n",
    "    chunksize=1000000, #in each chunk, use 1 million events\n",
    "    maxchunks=3, #limit to using only 3 chunks for each dataset (useful for testing purposes)\n",
    ")"
   ]
  },
  {
   "cell_type": "code",
   "execution_count": 5,
   "metadata": {},
   "outputs": [
    {
     "data": {
      "application/vnd.jupyter.widget-view+json": {
       "model_id": "bccbf007d82f413096be46c811ef5d91",
       "version_major": 2,
       "version_minor": 0
      },
      "text/plain": [
       "Processing:   0%|          | 0/3 [00:00<?, ?chunk/s]"
      ]
     },
     "metadata": {},
     "output_type": "display_data"
    }
   ],
   "source": [
    "outputData = processor.run_uproot_job(\n",
    "    filesetData,\n",
    "    \"Events\",\n",
    "    PhotonSelector(isMC=False),\n",
    "    processor.futures_executor,\n",
    "    executor_args={\"schema\": SkimmedSchema,'workers': 4},\n",
    "    chunksize=1000000,\n",
    "    maxchunks=3,\n",
    ")"
   ]
  },
  {
   "cell_type": "code",
   "execution_count": 6,
   "metadata": {},
   "outputs": [],
   "source": [
    "nEvents = {}\n",
    "for d in fileset:\n",
    "    if not d in nEvents:\n",
    "        nEvents[d] = 0\n",
    "    for fName in fileset[d]:\n",
    "        with uproot.open(fName)['hEvents'] as hEvents:\n",
    "            nEvents[d] += hEvents.values()[0] + hEvents.values()[2]\n",
    "cx = {'TTGamma':7.509,\n",
    "     'TTbar': 380.095,\n",
    "     'WGamma':489,\n",
    "     'Z+jets':6077.22,\n",
    "     'W+3jets':1165.8108,\n",
    "     'W+4jets':592.9176}\n",
    "lumi_weight = {}\n",
    "for keyName in fileset:\n",
    "    lumi_weight[keyName] = (cx[keyName]*450.)/nEvents[keyName]\n",
    "    \n",
    "for key, obj in outputMC.items():\n",
    "    if isinstance(obj, hist.Hist):\n",
    "        obj.scale(lumi_weight, axis=\"dataset\")"
   ]
  },
  {
   "cell_type": "code",
   "execution_count": 7,
   "metadata": {},
   "outputs": [],
   "source": [
    "data_err_opts = {\n",
    "    'linestyle':'none',\n",
    "    'marker': '.',\n",
    "    'markersize': 10.,\n",
    "    'color':'k',\n",
    "    'elinewidth': 1,\n",
    "}"
   ]
  },
  {
   "cell_type": "code",
   "execution_count": 8,
   "metadata": {},
   "outputs": [
    {
     "data": {
      "text/plain": [
       "<AxesSubplot:xlabel='photon $p_{T}$ [GeV]', ylabel='Counts'>"
      ]
     },
     "execution_count": 8,
     "metadata": {},
     "output_type": "execute_result"
    },
    {
     "data": {
      "image/png": "[encoded data removed]",
      "text/plain": [
       "<Figure size 432x288 with 1 Axes>"
      ]
     },
     "metadata": {
      "needs_background": "light"
     },
     "output_type": "display_data"
    }
   ],
   "source": [
    "hist.plot1d(outputMC['photon_pt_hist'],overlay='dataset',order=['TTbar','TTGamma'],stack=False,density=True)"
   ]
  },
  {
   "cell_type": "code",
   "execution_count": 9,
   "metadata": {},
   "outputs": [
    {
     "data": {
      "text/plain": [
       "<AxesSubplot:xlabel='$\\\\Delta R$', ylabel='Counts'>"
      ]
     },
     "execution_count": 9,
     "metadata": {},
     "output_type": "execute_result"
    },
    {
     "data": {
      "image/png": "[encoded data removed]",
      "text/plain": [
       "<Figure size 432x288 with 1 Axes>"
      ]
     },
     "metadata": {
      "needs_background": "light"
     },
     "output_type": "display_data"
    }
   ],
   "source": [
    "hist.plot1d(outputMC['deltaR_photon_lepton_hist'],overlay='dataset',stack=False,density=True)"
   ]
  },
  {
   "cell_type": "code",
   "execution_count": 10,
   "metadata": {},
   "outputs": [
    {
     "data": {
      "text/plain": [
       "<AxesSubplot:xlabel='$\\\\Delta R$', ylabel='Counts'>"
      ]
     },
     "execution_count": 10,
     "metadata": {},
     "output_type": "execute_result"
    },
    {
     "data": {
      "image/png": "[encoded data removed]",
      "text/plain": [
       "<Figure size 432x288 with 1 Axes>"
      ]
     },
     "metadata": {
      "needs_background": "light"
     },
     "output_type": "display_data"
    }
   ],
   "source": [
    "hist.plot1d(outputMC['deltaR_photon_jet_hist'],overlay='dataset',stack=False,density=True)"
   ]
  },
  {
   "cell_type": "code",
   "execution_count": 11,
   "metadata": {},
   "outputs": [
    {
     "data": {
      "text/plain": [
       "<AxesSubplot:xlabel='genPartFlav', ylabel='Counts'>"
      ]
     },
     "execution_count": 11,
     "metadata": {},
     "output_type": "execute_result"
    },
    {
     "data": {
      "image/png": "[encoded data removed]",
      "text/plain": [
       "<Figure size 432x288 with 1 Axes>"
      ]
     },
     "metadata": {
      "needs_background": "light"
     },
     "output_type": "display_data"
    }
   ],
   "source": [
    "hist.plot1d(outputMC['photon_genPartFlav_hist'],overlay='dataset',stack=False,density=True)"
   ]
  },
  {
   "cell_type": "markdown",
   "metadata": {},
   "source": [
    "## Preprocessing data for training"
   ]
  },
  {
   "cell_type": "code",
   "execution_count": 12,
   "metadata": {},
   "outputs": [
    {
     "name": "stdout",
     "output_type": "stream",
     "text": [
      "[0 0 0 ... 1 0 0]\n",
      "(1768526,)\n",
      "(950837,)\n"
     ]
    }
   ],
   "source": [
    "print(np.array(outputMC['photon_count'].value))\n",
    "print(np.array(outputMC['photon_count'].value).shape)#includes events w 0 pho; one entry per event not per pho\n",
    "print(np.array(outputMC['photon_pt'].value).shape)"
   ]
  },
  {
   "cell_type": "code",
   "execution_count": 13,
   "metadata": {},
   "outputs": [
    {
     "data": {
      "text/html": [
       "<div>\n",
       "<style scoped>\n",
       "    .dataframe tbody tr th:only-of-type {\n",
       "        vertical-align: middle;\n",
       "    }\n",
       "\n",
       "    .dataframe tbody tr th {\n",
       "        vertical-align: top;\n",
       "    }\n",
       "\n",
       "    .dataframe thead th {\n",
       "        text-align: right;\n",
       "    }\n",
       "</style>\n",
       "<table border=\"1\" class=\"dataframe\">\n",
       "  <thead>\n",
       "    <tr style=\"text-align: right;\">\n",
       "      <th></th>\n",
       "      <th>photon_pt</th>\n",
       "      <th>photon_eta</th>\n",
       "      <th>photon_phi</th>\n",
       "      <th>photon_hoe</th>\n",
       "      <th>photon_r9</th>\n",
       "      <th>photon_sieie</th>\n",
       "      <th>photon_pfRelIso03_all</th>\n",
       "      <th>photon_pfRelIso03_chg</th>\n",
       "      <th>deltaR_photon_lepton</th>\n",
       "      <th>deltaR_photon_jet</th>\n",
       "      <th>photon_genPartFlav</th>\n",
       "    </tr>\n",
       "  </thead>\n",
       "  <tbody>\n",
       "    <tr>\n",
       "      <th>count</th>\n",
       "      <td>950837.000000</td>\n",
       "      <td>950837.000000</td>\n",
       "      <td>950837.000000</td>\n",
       "      <td>950837.000000</td>\n",
       "      <td>950837.000000</td>\n",
       "      <td>950837.000000</td>\n",
       "      <td>950837.000000</td>\n",
       "      <td>950837.000000</td>\n",
       "      <td>950837.000000</td>\n",
       "      <td>950837.000000</td>\n",
       "      <td>950837.000000</td>\n",
       "    </tr>\n",
       "    <tr>\n",
       "      <th>mean</th>\n",
       "      <td>49.575203</td>\n",
       "      <td>0.003868</td>\n",
       "      <td>0.010128</td>\n",
       "      <td>0.161182</td>\n",
       "      <td>0.749433</td>\n",
       "      <td>0.012393</td>\n",
       "      <td>0.767857</td>\n",
       "      <td>0.451332</td>\n",
       "      <td>2.154892</td>\n",
       "      <td>0.217426</td>\n",
       "      <td>0.368326</td>\n",
       "    </tr>\n",
       "    <tr>\n",
       "      <th>std</th>\n",
       "      <td>42.843124</td>\n",
       "      <td>0.772210</td>\n",
       "      <td>1.815265</td>\n",
       "      <td>0.161591</td>\n",
       "      <td>0.245689</td>\n",
       "      <td>0.003806</td>\n",
       "      <td>0.948009</td>\n",
       "      <td>0.598638</td>\n",
       "      <td>0.878554</td>\n",
       "      <td>0.403699</td>\n",
       "      <td>0.513648</td>\n",
       "    </tr>\n",
       "    <tr>\n",
       "      <th>min</th>\n",
       "      <td>20.000006</td>\n",
       "      <td>-1.444092</td>\n",
       "      <td>-3.141602</td>\n",
       "      <td>0.000000</td>\n",
       "      <td>0.088440</td>\n",
       "      <td>0.000196</td>\n",
       "      <td>0.000000</td>\n",
       "      <td>0.000000</td>\n",
       "      <td>0.000122</td>\n",
       "      <td>0.000000</td>\n",
       "      <td>0.000000</td>\n",
       "    </tr>\n",
       "    <tr>\n",
       "      <th>25%</th>\n",
       "      <td>25.604467</td>\n",
       "      <td>-0.623901</td>\n",
       "      <td>-1.562256</td>\n",
       "      <td>0.000000</td>\n",
       "      <td>0.574219</td>\n",
       "      <td>0.009224</td>\n",
       "      <td>0.077944</td>\n",
       "      <td>0.020645</td>\n",
       "      <td>1.436700</td>\n",
       "      <td>0.022985</td>\n",
       "      <td>0.000000</td>\n",
       "    </tr>\n",
       "    <tr>\n",
       "      <th>50%</th>\n",
       "      <td>35.087082</td>\n",
       "      <td>0.008705</td>\n",
       "      <td>0.010180</td>\n",
       "      <td>0.128418</td>\n",
       "      <td>0.791504</td>\n",
       "      <td>0.011040</td>\n",
       "      <td>0.486631</td>\n",
       "      <td>0.254656</td>\n",
       "      <td>2.287350</td>\n",
       "      <td>0.045382</td>\n",
       "      <td>0.000000</td>\n",
       "    </tr>\n",
       "    <tr>\n",
       "      <th>75%</th>\n",
       "      <td>55.912766</td>\n",
       "      <td>0.632568</td>\n",
       "      <td>1.584473</td>\n",
       "      <td>0.286133</td>\n",
       "      <td>0.947754</td>\n",
       "      <td>0.015175</td>\n",
       "      <td>1.095707</td>\n",
       "      <td>0.648748</td>\n",
       "      <td>2.880491</td>\n",
       "      <td>0.124659</td>\n",
       "      <td>1.000000</td>\n",
       "    </tr>\n",
       "    <tr>\n",
       "      <th>max</th>\n",
       "      <td>1208.737061</td>\n",
       "      <td>1.444092</td>\n",
       "      <td>3.141602</td>\n",
       "      <td>3.187500</td>\n",
       "      <td>20.515625</td>\n",
       "      <td>0.030731</td>\n",
       "      <td>31.009771</td>\n",
       "      <td>17.346630</td>\n",
       "      <td>4.904033</td>\n",
       "      <td>3.610590</td>\n",
       "      <td>13.000000</td>\n",
       "    </tr>\n",
       "  </tbody>\n",
       "</table>\n",
       "</div>"
      ],
      "text/plain": [
       "           photon_pt     photon_eta     photon_phi     photon_hoe  \\\n",
       "count  950837.000000  950837.000000  950837.000000  950837.000000   \n",
       "mean       49.575203       0.003868       0.010128       0.161182   \n",
       "std        42.843124       0.772210       1.815265       0.161591   \n",
       "min        20.000006      -1.444092      -3.141602       0.000000   \n",
       "25%        25.604467      -0.623901      -1.562256       0.000000   \n",
       "50%        35.087082       0.008705       0.010180       0.128418   \n",
       "75%        55.912766       0.632568       1.584473       0.286133   \n",
       "max      1208.737061       1.444092       3.141602       3.187500   \n",
       "\n",
       "           photon_r9   photon_sieie  photon_pfRelIso03_all  \\\n",
       "count  950837.000000  950837.000000          950837.000000   \n",
       "mean        0.749433       0.012393               0.767857   \n",
       "std         0.245689       0.003806               0.948009   \n",
       "min         0.088440       0.000196               0.000000   \n",
       "25%         0.574219       0.009224               0.077944   \n",
       "50%         0.791504       0.011040               0.486631   \n",
       "75%         0.947754       0.015175               1.095707   \n",
       "max        20.515625       0.030731              31.009771   \n",
       "\n",
       "       photon_pfRelIso03_chg  deltaR_photon_lepton  deltaR_photon_jet  \\\n",
       "count          950837.000000         950837.000000      950837.000000   \n",
       "mean                0.451332              2.154892           0.217426   \n",
       "std                 0.598638              0.878554           0.403699   \n",
       "min                 0.000000              0.000122           0.000000   \n",
       "25%                 0.020645              1.436700           0.022985   \n",
       "50%                 0.254656              2.287350           0.045382   \n",
       "75%                 0.648748              2.880491           0.124659   \n",
       "max                17.346630              4.904033           3.610590   \n",
       "\n",
       "       photon_genPartFlav  \n",
       "count       950837.000000  \n",
       "mean             0.368326  \n",
       "std              0.513648  \n",
       "min              0.000000  \n",
       "25%              0.000000  \n",
       "50%              0.000000  \n",
       "75%              1.000000  \n",
       "max             13.000000  "
      ]
     },
     "execution_count": 13,
     "metadata": {},
     "output_type": "execute_result"
    }
   ],
   "source": [
    "df = pd.DataFrame({\n",
    "    'photon_pt': np.array(outputMC['photon_pt'].value),\n",
    "    'photon_eta': np.array(outputMC['photon_eta'].value),\n",
    "    'photon_phi': np.array(outputMC['photon_phi'].value),\n",
    "    'photon_hoe': np.array(outputMC['photon_hoe'].value),\n",
    "    'photon_r9': np.array(outputMC['photon_r9'].value),\n",
    "    'photon_sieie': np.array(outputMC['photon_sieie'].value),\n",
    "    'photon_pfRelIso03_all': np.array(outputMC['photon_pfRelIso03_all'].value),\n",
    "    'photon_pfRelIso03_chg': np.array(outputMC['photon_pfRelIso03_chg'].value),\n",
    "    #'photon_count': np.array(outputMC['photon_count'].value),\n",
    "    \n",
    "    'deltaR_photon_lepton': np.array(outputMC['deltaR_photon_lepton'].value),\n",
    "    'deltaR_photon_jet': np.array(outputMC['deltaR_photon_jet'].value),\n",
    "    \n",
    "    'photon_genPartFlav': np.array(outputMC['photon_genPartFlav'].value), ## TARGET ##\n",
    "})\n",
    "df.describe()"
   ]
  },
  {
   "cell_type": "code",
   "execution_count": 14,
   "metadata": {},
   "outputs": [
    {
     "data": {
      "text/plain": [
       "0     602899\n",
       "1     347748\n",
       "13       190\n",
       "Name: photon_genPartFlav, dtype: int64"
      ]
     },
     "execution_count": 14,
     "metadata": {},
     "output_type": "execute_result"
    }
   ],
   "source": [
    "df['photon_genPartFlav'].value_counts()"
   ]
  },
  {
   "cell_type": "code",
   "execution_count": 15,
   "metadata": {},
   "outputs": [
    {
     "data": {
      "text/html": [
       "<div>\n",
       "<style scoped>\n",
       "    .dataframe tbody tr th:only-of-type {\n",
       "        vertical-align: middle;\n",
       "    }\n",
       "\n",
       "    .dataframe tbody tr th {\n",
       "        vertical-align: top;\n",
       "    }\n",
       "\n",
       "    .dataframe thead th {\n",
       "        text-align: right;\n",
       "    }\n",
       "</style>\n",
       "<table border=\"1\" class=\"dataframe\">\n",
       "  <thead>\n",
       "    <tr style=\"text-align: right;\">\n",
       "      <th></th>\n",
       "      <th>photon_pt</th>\n",
       "      <th>photon_eta</th>\n",
       "      <th>photon_phi</th>\n",
       "      <th>photon_hoe</th>\n",
       "      <th>photon_r9</th>\n",
       "      <th>photon_sieie</th>\n",
       "      <th>photon_pfRelIso03_all</th>\n",
       "      <th>photon_pfRelIso03_chg</th>\n",
       "      <th>deltaR_photon_lepton</th>\n",
       "      <th>deltaR_photon_jet</th>\n",
       "      <th>photon_genPartFlav</th>\n",
       "    </tr>\n",
       "  </thead>\n",
       "  <tbody>\n",
       "    <tr>\n",
       "      <th>count</th>\n",
       "      <td>950647.000000</td>\n",
       "      <td>950647.000000</td>\n",
       "      <td>950647.000000</td>\n",
       "      <td>950647.000000</td>\n",
       "      <td>950647.000000</td>\n",
       "      <td>950647.000000</td>\n",
       "      <td>950647.000000</td>\n",
       "      <td>950647.000000</td>\n",
       "      <td>950647.000000</td>\n",
       "      <td>950647.000000</td>\n",
       "      <td>950647.000000</td>\n",
       "    </tr>\n",
       "    <tr>\n",
       "      <th>mean</th>\n",
       "      <td>49.575130</td>\n",
       "      <td>0.003871</td>\n",
       "      <td>0.010079</td>\n",
       "      <td>0.161185</td>\n",
       "      <td>0.749422</td>\n",
       "      <td>0.012394</td>\n",
       "      <td>0.767835</td>\n",
       "      <td>0.451318</td>\n",
       "      <td>2.154896</td>\n",
       "      <td>0.217431</td>\n",
       "      <td>0.365801</td>\n",
       "    </tr>\n",
       "    <tr>\n",
       "      <th>std</th>\n",
       "      <td>42.843330</td>\n",
       "      <td>0.772220</td>\n",
       "      <td>1.815271</td>\n",
       "      <td>0.161593</td>\n",
       "      <td>0.245611</td>\n",
       "      <td>0.003806</td>\n",
       "      <td>0.947911</td>\n",
       "      <td>0.598579</td>\n",
       "      <td>0.878551</td>\n",
       "      <td>0.403706</td>\n",
       "      <td>0.481654</td>\n",
       "    </tr>\n",
       "    <tr>\n",
       "      <th>min</th>\n",
       "      <td>20.000006</td>\n",
       "      <td>-1.444092</td>\n",
       "      <td>-3.141602</td>\n",
       "      <td>0.000000</td>\n",
       "      <td>0.088440</td>\n",
       "      <td>0.000196</td>\n",
       "      <td>0.000000</td>\n",
       "      <td>0.000000</td>\n",
       "      <td>0.000122</td>\n",
       "      <td>0.000000</td>\n",
       "      <td>0.000000</td>\n",
       "    </tr>\n",
       "    <tr>\n",
       "      <th>25%</th>\n",
       "      <td>25.604441</td>\n",
       "      <td>-0.624023</td>\n",
       "      <td>-1.562256</td>\n",
       "      <td>0.000000</td>\n",
       "      <td>0.574219</td>\n",
       "      <td>0.009224</td>\n",
       "      <td>0.077979</td>\n",
       "      <td>0.020656</td>\n",
       "      <td>1.436700</td>\n",
       "      <td>0.022984</td>\n",
       "      <td>0.000000</td>\n",
       "    </tr>\n",
       "    <tr>\n",
       "      <th>50%</th>\n",
       "      <td>35.087105</td>\n",
       "      <td>0.008703</td>\n",
       "      <td>0.010113</td>\n",
       "      <td>0.128418</td>\n",
       "      <td>0.791504</td>\n",
       "      <td>0.011040</td>\n",
       "      <td>0.486668</td>\n",
       "      <td>0.254672</td>\n",
       "      <td>2.287350</td>\n",
       "      <td>0.045379</td>\n",
       "      <td>0.000000</td>\n",
       "    </tr>\n",
       "    <tr>\n",
       "      <th>75%</th>\n",
       "      <td>55.911900</td>\n",
       "      <td>0.632568</td>\n",
       "      <td>1.584229</td>\n",
       "      <td>0.286133</td>\n",
       "      <td>0.947754</td>\n",
       "      <td>0.015175</td>\n",
       "      <td>1.095689</td>\n",
       "      <td>0.648735</td>\n",
       "      <td>2.880502</td>\n",
       "      <td>0.124651</td>\n",
       "      <td>1.000000</td>\n",
       "    </tr>\n",
       "    <tr>\n",
       "      <th>max</th>\n",
       "      <td>1208.737061</td>\n",
       "      <td>1.444092</td>\n",
       "      <td>3.141602</td>\n",
       "      <td>3.187500</td>\n",
       "      <td>20.515625</td>\n",
       "      <td>0.030731</td>\n",
       "      <td>31.009771</td>\n",
       "      <td>17.346630</td>\n",
       "      <td>4.904033</td>\n",
       "      <td>3.610590</td>\n",
       "      <td>1.000000</td>\n",
       "    </tr>\n",
       "  </tbody>\n",
       "</table>\n",
       "</div>"
      ],
      "text/plain": [
       "           photon_pt     photon_eta     photon_phi     photon_hoe  \\\n",
       "count  950647.000000  950647.000000  950647.000000  950647.000000   \n",
       "mean       49.575130       0.003871       0.010079       0.161185   \n",
       "std        42.843330       0.772220       1.815271       0.161593   \n",
       "min        20.000006      -1.444092      -3.141602       0.000000   \n",
       "25%        25.604441      -0.624023      -1.562256       0.000000   \n",
       "50%        35.087105       0.008703       0.010113       0.128418   \n",
       "75%        55.911900       0.632568       1.584229       0.286133   \n",
       "max      1208.737061       1.444092       3.141602       3.187500   \n",
       "\n",
       "           photon_r9   photon_sieie  photon_pfRelIso03_all  \\\n",
       "count  950647.000000  950647.000000          950647.000000   \n",
       "mean        0.749422       0.012394               0.767835   \n",
       "std         0.245611       0.003806               0.947911   \n",
       "min         0.088440       0.000196               0.000000   \n",
       "25%         0.574219       0.009224               0.077979   \n",
       "50%         0.791504       0.011040               0.486668   \n",
       "75%         0.947754       0.015175               1.095689   \n",
       "max        20.515625       0.030731              31.009771   \n",
       "\n",
       "       photon_pfRelIso03_chg  deltaR_photon_lepton  deltaR_photon_jet  \\\n",
       "count          950647.000000         950647.000000      950647.000000   \n",
       "mean                0.451318              2.154896           0.217431   \n",
       "std                 0.598579              0.878551           0.403706   \n",
       "min                 0.000000              0.000122           0.000000   \n",
       "25%                 0.020656              1.436700           0.022984   \n",
       "50%                 0.254672              2.287350           0.045379   \n",
       "75%                 0.648735              2.880502           0.124651   \n",
       "max                17.346630              4.904033           3.610590   \n",
       "\n",
       "       photon_genPartFlav  \n",
       "count       950647.000000  \n",
       "mean             0.365801  \n",
       "std              0.481654  \n",
       "min              0.000000  \n",
       "25%              0.000000  \n",
       "50%              0.000000  \n",
       "75%              1.000000  \n",
       "max              1.000000  "
      ]
     },
     "execution_count": 15,
     "metadata": {},
     "output_type": "execute_result"
    }
   ],
   "source": [
    "### get rid of '13' ###\n",
    "\n",
    "df = df[df['photon_genPartFlav'] != 13]\n",
    "df.describe()"
   ]
  },
  {
   "cell_type": "code",
   "execution_count": 16,
   "metadata": {},
   "outputs": [
    {
     "data": {
      "text/plain": [
       "0    602899\n",
       "1    347748\n",
       "Name: photon_genPartFlav, dtype: int64"
      ]
     },
     "execution_count": 16,
     "metadata": {},
     "output_type": "execute_result"
    }
   ],
   "source": [
    "df['photon_genPartFlav'].value_counts()"
   ]
  },
  {
   "cell_type": "code",
   "execution_count": 17,
   "metadata": {},
   "outputs": [
    {
     "data": {
      "text/html": [
       "<div>\n",
       "<style scoped>\n",
       "    .dataframe tbody tr th:only-of-type {\n",
       "        vertical-align: middle;\n",
       "    }\n",
       "\n",
       "    .dataframe tbody tr th {\n",
       "        vertical-align: top;\n",
       "    }\n",
       "\n",
       "    .dataframe thead th {\n",
       "        text-align: right;\n",
       "    }\n",
       "</style>\n",
       "<table border=\"1\" class=\"dataframe\">\n",
       "  <thead>\n",
       "    <tr style=\"text-align: right;\">\n",
       "      <th></th>\n",
       "      <th>photon_pt</th>\n",
       "      <th>photon_eta</th>\n",
       "      <th>photon_phi</th>\n",
       "      <th>photon_hoe</th>\n",
       "      <th>photon_r9</th>\n",
       "      <th>photon_sieie</th>\n",
       "      <th>photon_pfRelIso03_all</th>\n",
       "      <th>photon_pfRelIso03_chg</th>\n",
       "      <th>deltaR_photon_lepton</th>\n",
       "      <th>deltaR_photon_jet</th>\n",
       "      <th>photon_genPartFlav</th>\n",
       "    </tr>\n",
       "  </thead>\n",
       "  <tbody>\n",
       "    <tr>\n",
       "      <th>0</th>\n",
       "      <td>79.276085</td>\n",
       "      <td>-0.075348</td>\n",
       "      <td>-2.450684</td>\n",
       "      <td>0.164062</td>\n",
       "      <td>0.435791</td>\n",
       "      <td>0.014397</td>\n",
       "      <td>0.047569</td>\n",
       "      <td>0.023416</td>\n",
       "      <td>2.238493</td>\n",
       "      <td>0.011533</td>\n",
       "      <td>0</td>\n",
       "    </tr>\n",
       "    <tr>\n",
       "      <th>1</th>\n",
       "      <td>29.967369</td>\n",
       "      <td>-0.605591</td>\n",
       "      <td>-1.234375</td>\n",
       "      <td>0.307617</td>\n",
       "      <td>0.895508</td>\n",
       "      <td>0.018478</td>\n",
       "      <td>2.158426</td>\n",
       "      <td>1.643791</td>\n",
       "      <td>3.142428</td>\n",
       "      <td>0.010509</td>\n",
       "      <td>0</td>\n",
       "    </tr>\n",
       "    <tr>\n",
       "      <th>2</th>\n",
       "      <td>66.590996</td>\n",
       "      <td>1.353516</td>\n",
       "      <td>2.028320</td>\n",
       "      <td>0.145020</td>\n",
       "      <td>0.519531</td>\n",
       "      <td>0.010857</td>\n",
       "      <td>0.257907</td>\n",
       "      <td>0.114259</td>\n",
       "      <td>3.289150</td>\n",
       "      <td>0.023781</td>\n",
       "      <td>0</td>\n",
       "    </tr>\n",
       "    <tr>\n",
       "      <th>3</th>\n",
       "      <td>33.870628</td>\n",
       "      <td>0.123627</td>\n",
       "      <td>0.236298</td>\n",
       "      <td>0.281250</td>\n",
       "      <td>0.405762</td>\n",
       "      <td>0.011902</td>\n",
       "      <td>0.931639</td>\n",
       "      <td>0.849794</td>\n",
       "      <td>2.786459</td>\n",
       "      <td>0.316535</td>\n",
       "      <td>0</td>\n",
       "    </tr>\n",
       "    <tr>\n",
       "      <th>4</th>\n",
       "      <td>22.035528</td>\n",
       "      <td>-0.709961</td>\n",
       "      <td>-2.442871</td>\n",
       "      <td>0.267578</td>\n",
       "      <td>0.511230</td>\n",
       "      <td>0.010422</td>\n",
       "      <td>1.443260</td>\n",
       "      <td>0.963974</td>\n",
       "      <td>1.247723</td>\n",
       "      <td>0.066349</td>\n",
       "      <td>0</td>\n",
       "    </tr>\n",
       "  </tbody>\n",
       "</table>\n",
       "</div>"
      ],
      "text/plain": [
       "   photon_pt  photon_eta  photon_phi  photon_hoe  photon_r9  photon_sieie  \\\n",
       "0  79.276085   -0.075348   -2.450684    0.164062   0.435791      0.014397   \n",
       "1  29.967369   -0.605591   -1.234375    0.307617   0.895508      0.018478   \n",
       "2  66.590996    1.353516    2.028320    0.145020   0.519531      0.010857   \n",
       "3  33.870628    0.123627    0.236298    0.281250   0.405762      0.011902   \n",
       "4  22.035528   -0.709961   -2.442871    0.267578   0.511230      0.010422   \n",
       "\n",
       "   photon_pfRelIso03_all  photon_pfRelIso03_chg  deltaR_photon_lepton  \\\n",
       "0               0.047569               0.023416              2.238493   \n",
       "1               2.158426               1.643791              3.142428   \n",
       "2               0.257907               0.114259              3.289150   \n",
       "3               0.931639               0.849794              2.786459   \n",
       "4               1.443260               0.963974              1.247723   \n",
       "\n",
       "   deltaR_photon_jet  photon_genPartFlav  \n",
       "0           0.011533                   0  \n",
       "1           0.010509                   0  \n",
       "2           0.023781                   0  \n",
       "3           0.316535                   0  \n",
       "4           0.066349                   0  "
      ]
     },
     "execution_count": 17,
     "metadata": {},
     "output_type": "execute_result"
    }
   ],
   "source": [
    "df.head()"
   ]
  },
  {
   "cell_type": "code",
   "execution_count": null,
   "metadata": {},
   "outputs": [],
   "source": []
  },
  {
   "cell_type": "code",
   "execution_count": 18,
   "metadata": {},
   "outputs": [],
   "source": [
    "### split into train, val, test datasets ###"
   ]
  },
  {
   "cell_type": "code",
   "execution_count": 19,
   "metadata": {},
   "outputs": [
    {
     "name": "stdout",
     "output_type": "stream",
     "text": [
      "(570387, 10)\n",
      "1\n",
      "0\n"
     ]
    }
   ],
   "source": [
    "X = np.array(df.drop(['photon_genPartFlav'],axis=1))\n",
    "y = df['photon_genPartFlav']\n",
    "\n",
    "# shuffle & split into training, validation, testing datasets\n",
    "X_train, X_test, y_train, y_test = train_test_split(X, y, test_size=0.2, random_state=1)\n",
    "X_train, X_val, y_train, y_val = train_test_split(X_train, y_train, test_size=0.25, random_state=1)\n",
    "\n",
    "print(X_train.shape)\n",
    "print(y_train.max())\n",
    "print(y_train.min())"
   ]
  },
  {
   "cell_type": "code",
   "execution_count": 20,
   "metadata": {},
   "outputs": [],
   "source": [
    "# Scale: mean=0, stdev=1\n",
    "scaler = StandardScaler()\n",
    "\n",
    "X_train_scaled = scaler.fit_transform(X_train)\n",
    "X_val_scaled = scaler.fit_transform(X_val)\n",
    "X_test_scaled = scaler.fit_transform(X_test)"
   ]
  },
  {
   "cell_type": "markdown",
   "metadata": {},
   "source": [
    "## Build & train model"
   ]
  },
  {
   "cell_type": "code",
   "execution_count": 21,
   "metadata": {},
   "outputs": [
    {
     "name": "stdout",
     "output_type": "stream",
     "text": [
      "Model: \"sequential\"\n",
      "_________________________________________________________________\n",
      "Layer (type)                 Output Shape              Param #   \n",
      "=================================================================\n",
      "dense (Dense)                (None, 32)                352       \n",
      "_________________________________________________________________\n",
      "dense_1 (Dense)              (None, 32)                1056      \n",
      "_________________________________________________________________\n",
      "dense_2 (Dense)              (None, 1)                 33        \n",
      "=================================================================\n",
      "Total params: 1,441\n",
      "Trainable params: 1,441\n",
      "Non-trainable params: 0\n",
      "_________________________________________________________________\n"
     ]
    }
   ],
   "source": [
    "model = Sequential()\n",
    "model.add(Dense(32, input_shape=(X_train.shape[1],), activation=\"relu\"))\n",
    "model.add(Dense(32, activation=\"relu\"))\n",
    "model.add(Dense(1,activation=\"sigmoid\"))\n",
    "\n",
    "model.compile(\"adam\", \"binary_crossentropy\", metrics=[\"accuracy\"])\n",
    "model.summary()"
   ]
  },
  {
   "cell_type": "code",
   "execution_count": 22,
   "metadata": {},
   "outputs": [
    {
     "name": "stdout",
     "output_type": "stream",
     "text": [
      "Epoch 1/5\n",
      "4457/4457 [==============================] - 7s 2ms/step - loss: 0.1594 - accuracy: 0.9402\n",
      "Epoch 2/5\n",
      "4457/4457 [==============================] - 7s 2ms/step - loss: 0.1376 - accuracy: 0.9486\n",
      "Epoch 3/5\n",
      "4457/4457 [==============================] - 7s 2ms/step - loss: 0.1340 - accuracy: 0.9500\n",
      "Epoch 4/5\n",
      "4457/4457 [==============================] - 7s 2ms/step - loss: 0.1322 - accuracy: 0.9504\n",
      "Epoch 5/5\n",
      "4457/4457 [==============================] - 7s 1ms/step - loss: 0.1311 - accuracy: 0.9508\n"
     ]
    },
    {
     "data": {
      "text/plain": [
       "<tensorflow.python.keras.callbacks.History at 0x7f782043b190>"
      ]
     },
     "execution_count": 22,
     "metadata": {},
     "output_type": "execute_result"
    }
   ],
   "source": [
    "model.fit(X_train_scaled, y_train, epochs=5, batch_size=128)"
   ]
  },
  {
   "cell_type": "code",
   "execution_count": 23,
   "metadata": {},
   "outputs": [
    {
     "name": "stdout",
     "output_type": "stream",
     "text": [
      "Test loss: 0.1321\n",
      "Test accuracy: 0.95065\n"
     ]
    }
   ],
   "source": [
    "loss, accuracy = model.evaluate(X_test_scaled,y_test,verbose=0)\n",
    "print(f'Test loss: {round(loss,5)}\\nTest accuracy: {round(accuracy,5)}')"
   ]
  },
  {
   "cell_type": "code",
   "execution_count": 24,
   "metadata": {},
   "outputs": [],
   "source": [
    "y_pred = model.predict(X_test_scaled)\n",
    "fpr, tpr, thresholds = roc_curve(y_test, y_pred)\n",
    "area_under_curve = auc(fpr, tpr)"
   ]
  },
  {
   "cell_type": "code",
   "execution_count": 25,
   "metadata": {},
   "outputs": [
    {
     "data": {
      "image/png": "[encoded data removed]",
      "text/plain": [
       "<Figure size 432x288 with 1 Axes>"
      ]
     },
     "metadata": {
      "needs_background": "light"
     },
     "output_type": "display_data"
    }
   ],
   "source": [
    "plt.plot([0,1], [0,1], 'k--')\n",
    "plt.plot(fpr, tpr, label='area = {:.3f}'.format(area_under_curve))\n",
    "\n",
    "plt.xlabel('False positive rate')\n",
    "plt.ylabel('True positive rate')\n",
    "plt.title('ROC curve')\n",
    "plt.legend(loc='best')\n",
    "plt.show()"
   ]
  },
  {
   "cell_type": "code",
   "execution_count": 26,
   "metadata": {},
   "outputs": [],
   "source": [
    "predTrue  = y_pred[y_test==True]\n",
    "predFalse = y_pred[y_test==False]"
   ]
  },
  {
   "cell_type": "code",
   "execution_count": 27,
   "metadata": {},
   "outputs": [
    {
     "data": {
      "image/png": "[encoded data removed]",
      "text/plain": [
       "<Figure size 432x288 with 1 Axes>"
      ]
     },
     "metadata": {
      "needs_background": "light"
     },
     "output_type": "display_data"
    }
   ],
   "source": [
    "plt.hist(predTrue,bins=50,alpha=0.5,label='true label=1')\n",
    "plt.hist(predFalse,bins=50,alpha=0.5,label='true label=0')\n",
    "\n",
    "plt.xlabel('Predicted label')\n",
    "plt.ylabel('Counts')\n",
    "plt.title('')\n",
    "plt.legend(loc='best')\n",
    "plt.show()"
   ]
  },
  {
   "cell_type": "markdown",
   "metadata": {},
   "source": [
    "### Evaluate the model on data"
   ]
  },
  {
   "cell_type": "code",
   "execution_count": 28,
   "metadata": {},
   "outputs": [
    {
     "data": {
      "text/html": [
       "<div>\n",
       "<style scoped>\n",
       "    .dataframe tbody tr th:only-of-type {\n",
       "        vertical-align: middle;\n",
       "    }\n",
       "\n",
       "    .dataframe tbody tr th {\n",
       "        vertical-align: top;\n",
       "    }\n",
       "\n",
       "    .dataframe thead th {\n",
       "        text-align: right;\n",
       "    }\n",
       "</style>\n",
       "<table border=\"1\" class=\"dataframe\">\n",
       "  <thead>\n",
       "    <tr style=\"text-align: right;\">\n",
       "      <th></th>\n",
       "      <th>photon_pt</th>\n",
       "      <th>photon_eta</th>\n",
       "      <th>photon_phi</th>\n",
       "      <th>photon_hoe</th>\n",
       "      <th>photon_r9</th>\n",
       "      <th>photon_sieie</th>\n",
       "      <th>photon_pfRelIso03_all</th>\n",
       "      <th>photon_pfRelIso03_chg</th>\n",
       "      <th>deltaR_photon_lepton</th>\n",
       "      <th>deltaR_photon_jet</th>\n",
       "    </tr>\n",
       "  </thead>\n",
       "  <tbody>\n",
       "    <tr>\n",
       "      <th>count</th>\n",
       "      <td>4362.000000</td>\n",
       "      <td>4362.000000</td>\n",
       "      <td>4362.000000</td>\n",
       "      <td>4362.000000</td>\n",
       "      <td>4362.000000</td>\n",
       "      <td>4362.000000</td>\n",
       "      <td>4362.000000</td>\n",
       "      <td>4362.000000</td>\n",
       "      <td>4362.000000</td>\n",
       "      <td>4362.000000</td>\n",
       "    </tr>\n",
       "    <tr>\n",
       "      <th>mean</th>\n",
       "      <td>48.848301</td>\n",
       "      <td>-0.012361</td>\n",
       "      <td>-0.006382</td>\n",
       "      <td>0.224465</td>\n",
       "      <td>0.672342</td>\n",
       "      <td>0.013991</td>\n",
       "      <td>1.032235</td>\n",
       "      <td>0.597073</td>\n",
       "      <td>2.243940</td>\n",
       "      <td>0.065480</td>\n",
       "    </tr>\n",
       "    <tr>\n",
       "      <th>std</th>\n",
       "      <td>42.460018</td>\n",
       "      <td>0.796821</td>\n",
       "      <td>1.820470</td>\n",
       "      <td>0.155780</td>\n",
       "      <td>0.262536</td>\n",
       "      <td>0.003677</td>\n",
       "      <td>0.938122</td>\n",
       "      <td>0.614450</td>\n",
       "      <td>0.861288</td>\n",
       "      <td>0.152810</td>\n",
       "    </tr>\n",
       "    <tr>\n",
       "      <th>min</th>\n",
       "      <td>20.006186</td>\n",
       "      <td>-1.443604</td>\n",
       "      <td>-3.137695</td>\n",
       "      <td>0.000000</td>\n",
       "      <td>0.125732</td>\n",
       "      <td>0.005753</td>\n",
       "      <td>0.000000</td>\n",
       "      <td>0.000000</td>\n",
       "      <td>0.002021</td>\n",
       "      <td>0.000492</td>\n",
       "    </tr>\n",
       "    <tr>\n",
       "      <th>25%</th>\n",
       "      <td>24.972443</td>\n",
       "      <td>-0.677185</td>\n",
       "      <td>-1.591064</td>\n",
       "      <td>0.086304</td>\n",
       "      <td>0.502075</td>\n",
       "      <td>0.010866</td>\n",
       "      <td>0.405595</td>\n",
       "      <td>0.195077</td>\n",
       "      <td>1.571796</td>\n",
       "      <td>0.019602</td>\n",
       "    </tr>\n",
       "    <tr>\n",
       "      <th>50%</th>\n",
       "      <td>34.231617</td>\n",
       "      <td>-0.025288</td>\n",
       "      <td>0.014208</td>\n",
       "      <td>0.224365</td>\n",
       "      <td>0.672607</td>\n",
       "      <td>0.013924</td>\n",
       "      <td>0.773608</td>\n",
       "      <td>0.430241</td>\n",
       "      <td>2.380251</td>\n",
       "      <td>0.035087</td>\n",
       "    </tr>\n",
       "    <tr>\n",
       "      <th>75%</th>\n",
       "      <td>54.612218</td>\n",
       "      <td>0.639984</td>\n",
       "      <td>1.571838</td>\n",
       "      <td>0.344727</td>\n",
       "      <td>0.834839</td>\n",
       "      <td>0.016586</td>\n",
       "      <td>1.361839</td>\n",
       "      <td>0.819840</td>\n",
       "      <td>2.924950</td>\n",
       "      <td>0.061119</td>\n",
       "    </tr>\n",
       "    <tr>\n",
       "      <th>max</th>\n",
       "      <td>599.480103</td>\n",
       "      <td>1.441650</td>\n",
       "      <td>3.140137</td>\n",
       "      <td>1.355469</td>\n",
       "      <td>6.789062</td>\n",
       "      <td>0.026962</td>\n",
       "      <td>10.556261</td>\n",
       "      <td>7.809951</td>\n",
       "      <td>4.708734</td>\n",
       "      <td>2.276887</td>\n",
       "    </tr>\n",
       "  </tbody>\n",
       "</table>\n",
       "</div>"
      ],
      "text/plain": [
       "         photon_pt   photon_eta   photon_phi   photon_hoe    photon_r9  \\\n",
       "count  4362.000000  4362.000000  4362.000000  4362.000000  4362.000000   \n",
       "mean     48.848301    -0.012361    -0.006382     0.224465     0.672342   \n",
       "std      42.460018     0.796821     1.820470     0.155780     0.262536   \n",
       "min      20.006186    -1.443604    -3.137695     0.000000     0.125732   \n",
       "25%      24.972443    -0.677185    -1.591064     0.086304     0.502075   \n",
       "50%      34.231617    -0.025288     0.014208     0.224365     0.672607   \n",
       "75%      54.612218     0.639984     1.571838     0.344727     0.834839   \n",
       "max     599.480103     1.441650     3.140137     1.355469     6.789062   \n",
       "\n",
       "       photon_sieie  photon_pfRelIso03_all  photon_pfRelIso03_chg  \\\n",
       "count   4362.000000            4362.000000            4362.000000   \n",
       "mean       0.013991               1.032235               0.597073   \n",
       "std        0.003677               0.938122               0.614450   \n",
       "min        0.005753               0.000000               0.000000   \n",
       "25%        0.010866               0.405595               0.195077   \n",
       "50%        0.013924               0.773608               0.430241   \n",
       "75%        0.016586               1.361839               0.819840   \n",
       "max        0.026962              10.556261               7.809951   \n",
       "\n",
       "       deltaR_photon_lepton  deltaR_photon_jet  \n",
       "count           4362.000000        4362.000000  \n",
       "mean               2.243940           0.065480  \n",
       "std                0.861288           0.152810  \n",
       "min                0.002021           0.000492  \n",
       "25%                1.571796           0.019602  \n",
       "50%                2.380251           0.035087  \n",
       "75%                2.924950           0.061119  \n",
       "max                4.708734           2.276887  "
      ]
     },
     "execution_count": 28,
     "metadata": {},
     "output_type": "execute_result"
    }
   ],
   "source": [
    "df_data = pd.DataFrame({\n",
    "    'photon_pt': np.array(outputData['photon_pt'].value),\n",
    "    'photon_eta': np.array(outputData['photon_eta'].value),\n",
    "    'photon_phi': np.array(outputData['photon_phi'].value),\n",
    "    'photon_hoe': np.array(outputData['photon_hoe'].value),\n",
    "    'photon_r9': np.array(outputData['photon_r9'].value),\n",
    "    'photon_sieie': np.array(outputData['photon_sieie'].value),\n",
    "    'photon_pfRelIso03_all': np.array(outputData['photon_pfRelIso03_all'].value),\n",
    "    'photon_pfRelIso03_chg': np.array(outputData['photon_pfRelIso03_chg'].value),\n",
    "    #'photon_count': np.array(outputData['photon_count'].value),\n",
    "    \n",
    "    'deltaR_photon_lepton': np.array(outputData['deltaR_photon_lepton'].value),\n",
    "    'deltaR_photon_jet': np.array(outputData['deltaR_photon_jet'].value),\n",
    "})\n",
    "df_data.describe()"
   ]
  },
  {
   "cell_type": "code",
   "execution_count": 29,
   "metadata": {},
   "outputs": [
    {
     "data": {
      "text/plain": [
       "array([[ 7.00269394e+01, -8.22265625e-01,  9.89990234e-01, ...,\n",
       "         1.75632089e-01,  2.32386208e+00,  3.53635401e-02],\n",
       "       [ 3.33345757e+01, -1.10888672e+00,  2.03710938e+00, ...,\n",
       "         1.32351911e+00,  1.22960460e+00,  7.99723566e-02],\n",
       "       [ 2.09460182e+01, -1.26489258e+00, -1.97241211e+00, ...,\n",
       "         5.31339347e-01,  2.78469777e+00,  1.03643663e-01],\n",
       "       ...,\n",
       "       [ 3.07834072e+01, -5.79345703e-01,  1.15502930e+00, ...,\n",
       "         3.63475710e-01,  1.29826260e+00,  4.49518859e-02],\n",
       "       [ 1.39762054e+02,  2.14385986e-01,  6.39648438e-01, ...,\n",
       "         5.26736259e-01,  2.28333640e+00,  1.94242507e-01],\n",
       "       [ 1.15994385e+02,  9.77905273e-01,  3.12646484e+00, ...,\n",
       "         4.92362350e-01,  1.49111974e+00,  5.01885675e-02]], dtype=float32)"
      ]
     },
     "execution_count": 29,
     "metadata": {},
     "output_type": "execute_result"
    }
   ],
   "source": [
    "X_data = np.array(df_data)\n",
    "X_data"
   ]
  },
  {
   "cell_type": "code",
   "execution_count": 30,
   "metadata": {},
   "outputs": [],
   "source": [
    "scaler = StandardScaler()\n",
    "X_data_scaled=scaler.fit_transform(X_data)"
   ]
  },
  {
   "cell_type": "code",
   "execution_count": 31,
   "metadata": {},
   "outputs": [],
   "source": [
    "y_pred_data = model.predict(X_data_scaled)"
   ]
  },
  {
   "cell_type": "code",
   "execution_count": 32,
   "metadata": {},
   "outputs": [
    {
     "data": {
      "image/png": "[encoded data removed]",
      "text/plain": [
       "<Figure size 432x288 with 1 Axes>"
      ]
     },
     "metadata": {
      "needs_background": "light"
     },
     "output_type": "display_data"
    }
   ],
   "source": [
    "plt.hist(y_pred,bins=50,alpha=0.5,density=True,label=\"MC dataset\")\n",
    "plt.hist(y_pred_data,bins=50,alpha=0.4,density=True,label=\"real dataset\")\n",
    "\n",
    "plt.xlabel(\"predicted label\")\n",
    "plt.ylabel(\"counts\")\n",
    "plt.legend()\n",
    "plt.show()"
   ]
  },
  {
   "cell_type": "code",
   "execution_count": null,
   "metadata": {},
   "outputs": [],
   "source": []
  },
  {
   "cell_type": "code",
   "execution_count": null,
   "metadata": {},
   "outputs": [],
   "source": []
  }
 ],
 "metadata": {
  "kernelspec": {
   "display_name": "Python 3",
   "language": "python",
   "name": "python3"
  },
  "language_info": {
   "codemirror_mode": {
    "name": "ipython",
    "version": 3
   },
   "file_extension": ".py",
   "mimetype": "text/x-python",
   "name": "python",
   "nbconvert_exporter": "python",
   "pygments_lexer": "ipython3",
   "version": "3.8.5"
  }
 },
 "nbformat": 4,
 "nbformat_minor": 4
}
